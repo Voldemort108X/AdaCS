{
 "cells": [
  {
   "cell_type": "code",
   "execution_count": 1,
   "metadata": {},
   "outputs": [
    {
     "name": "stdout",
     "output_type": "stream",
     "text": [
      "/mnt/d/XiaoranZhang/Projects/Optical_flow/Code/cvpr2024_covis\n"
     ]
    }
   ],
   "source": [
    "# (Restart the kernel if you want to rerun the cell) move up current working directory\n",
    "import os\n",
    "os.chdir('../')\n",
    "print(os.getcwd())"
   ]
  },
  {
   "cell_type": "markdown",
   "metadata": {},
   "source": [
    "# Voxelmorph\n",
    "## ACDC"
   ]
  },
  {
   "cell_type": "code",
   "execution_count": 6,
   "metadata": {},
   "outputs": [
    {
     "name": "stdout",
     "output_type": "stream",
     "text": [
      "/home/xiaoranzhang/anaconda3/envs/optical_flow/lib/python3.6/site-packages/torch/nn/functional.py:3658: UserWarning: The default behavior for interpolate/upsample with float scale_factor changed in 1.6.0 to align with other frameworks/libraries, and now uses scale_factor directly, instead of relying on the computed output size. If you wish to restore the old behavior, please set recompute_scale_factor=True. See the documentation of nn.Upsample for details. \n",
      "  \"The default behavior for interpolate/upsample with float scale_factor changed \"\n"
     ]
    }
   ],
   "source": [
    "!python voxelmorph_torch/test.py --dataset 'ACDC' --test-dir '../../Dataset/ACDC/test/' --result-dir '../../Results/cvpr2024_covis/ACDC/vxm_ACDC_2frame_covis_alpha_0.01/' --model-motion '../../Models/cvpr2024_covis/ACDC/vxm_ACDC_2frame_covis_alpha_0.01/motion_0150.pt' --model-covis '../../Models/cvpr2024_covis/ACDC/vxm_ACDC_2frame_covis_alpha_0.01/covis_0150.pt' --inshape 128 128\n"
   ]
  },
  {
   "cell_type": "code",
   "execution_count": 8,
   "metadata": {},
   "outputs": [
    {
     "name": "stdout",
     "output_type": "stream",
     "text": [
      "/home/xiaoranzhang/anaconda3/envs/optical_flow/lib/python3.6/site-packages/torch/nn/functional.py:3658: UserWarning: The default behavior for interpolate/upsample with float scale_factor changed in 1.6.0 to align with other frameworks/libraries, and now uses scale_factor directly, instead of relying on the computed output size. If you wish to restore the old behavior, please set recompute_scale_factor=True. See the documentation of nn.Upsample for details. \n",
      "  \"The default behavior for interpolate/upsample with float scale_factor changed \"\n"
     ]
    }
   ],
   "source": [
    "!python voxelmorph_torch/test.py --dataset 'ACDC' --test-dir '../../Dataset/ACDC/test/' --result-dir '../../Results/cvpr2024_covis/ACDC/vxm_ACDC_2frame_covis_alpha_0.1/' --model-motion '../../Models/cvpr2024_covis/ACDC/vxm_ACDC_2frame_covis_alpha_0.1/motion_0150.pt' --model-covis '../../Models/cvpr2024_covis/ACDC/vxm_ACDC_2frame_covis_alpha_0.1/covis_0150.pt' --inshape 128 128\n"
   ]
  },
  {
   "cell_type": "code",
   "execution_count": 3,
   "metadata": {},
   "outputs": [
    {
     "name": "stdout",
     "output_type": "stream",
     "text": [
      "/home/xiaoranzhang/anaconda3/envs/optical_flow/lib/python3.6/site-packages/torch/nn/functional.py:3658: UserWarning: The default behavior for interpolate/upsample with float scale_factor changed in 1.6.0 to align with other frameworks/libraries, and now uses scale_factor directly, instead of relying on the computed output size. If you wish to restore the old behavior, please set recompute_scale_factor=True. See the documentation of nn.Upsample for details. \n",
      "  \"The default behavior for interpolate/upsample with float scale_factor changed \"\n"
     ]
    }
   ],
   "source": [
    "!python voxelmorph_torch/test.py --dataset 'ACDC' --test-dir '../../Dataset/ACDC/test/' --result-dir '../../Results/cvpr2024_covis/ACDC/vxm_ACDC_2frame_covis_alpha_0.01_wse_50/' --model-motion '../../Models/cvpr2024_covis/ACDC/vxm_ACDC_2frame_covis_alpha_0.01_wse_50/motion_0300.pt' --model-covis '../../Models/cvpr2024_covis/ACDC/vxm_ACDC_2frame_covis_alpha_0.01_wse_50/covis_0300.pt' --inshape 128 128\n"
   ]
  },
  {
   "cell_type": "code",
   "execution_count": 1,
   "metadata": {},
   "outputs": [
    {
     "name": "stdout",
     "output_type": "stream",
     "text": [
      "python: can't open file 'voxelmorph_torch/test.py': [Errno 2] No such file or directory\n"
     ]
    }
   ],
   "source": [
    "!python voxelmorph_torch/test.py --dataset 'ACDC' --test-dir '../../Dataset/ACDC/test/' --result-dir '../../Results/cvpr2024_covis/ACDC/vxm_ACDC_2frame_covis_alpha_0.025_wse_20/' --model-motion '../../Models/cvpr2024_covis/ACDC/vxm_ACDC_2frame_covis_alpha_0.025_wse_20/motion_0300.pt' --model-covis '../../Models/cvpr2024_covis/ACDC/vxm_ACDC_2frame_covis_alpha_0.025_wse_20/covis_0300.pt' --inshape 128 128\n"
   ]
  },
  {
   "cell_type": "code",
   "execution_count": 3,
   "metadata": {},
   "outputs": [
    {
     "name": "stdout",
     "output_type": "stream",
     "text": [
      "/home/xiaoranzhang/anaconda3/envs/optical_flow/lib/python3.6/site-packages/torch/nn/functional.py:3658: UserWarning: The default behavior for interpolate/upsample with float scale_factor changed in 1.6.0 to align with other frameworks/libraries, and now uses scale_factor directly, instead of relying on the computed output size. If you wish to restore the old behavior, please set recompute_scale_factor=True. See the documentation of nn.Upsample for details. \n",
      "  \"The default behavior for interpolate/upsample with float scale_factor changed \"\n"
     ]
    }
   ],
   "source": [
    "!python voxelmorph_torch/test.py --dataset 'ACDC' --test-dir '../../Dataset/ACDC/test/' --result-dir '../../Results/cvpr2024_covis/ACDC/vxm_ACDC_2frame_covis_alpha_0.025_wse_20_rep/' --model-motion '../../Models/cvpr2024_covis/ACDC/vxm_ACDC_2frame_covis_alpha_0.025_wse_20_rep/motion_0300.pt' --model-covis '../../Models/cvpr2024_covis/ACDC/vxm_ACDC_2frame_covis_alpha_0.025_wse_20_rep/covis_0300.pt' --inshape 128 128\n"
   ]
  },
  {
   "cell_type": "code",
   "execution_count": 4,
   "metadata": {},
   "outputs": [
    {
     "name": "stdout",
     "output_type": "stream",
     "text": [
      "/home/xiaoranzhang/anaconda3/envs/optical_flow/lib/python3.6/site-packages/torch/nn/functional.py:3658: UserWarning: The default behavior for interpolate/upsample with float scale_factor changed in 1.6.0 to align with other frameworks/libraries, and now uses scale_factor directly, instead of relying on the computed output size. If you wish to restore the old behavior, please set recompute_scale_factor=True. See the documentation of nn.Upsample for details. \n",
      "  \"The default behavior for interpolate/upsample with float scale_factor changed \"\n"
     ]
    }
   ],
   "source": [
    "!python voxelmorph_torch/test.py --dataset 'ACDC' --test-dir '../../Dataset/ACDC/test/' --result-dir '../../Results/cvpr2024_covis/ACDC/vxm_ACDC_2frame_covis_alpha_0.025_wse_50/' --model-motion '../../Models/cvpr2024_covis/ACDC/vxm_ACDC_2frame_covis_alpha_0.025_wse_50/motion_0300.pt' --model-covis '../../Models/cvpr2024_covis/ACDC/vxm_ACDC_2frame_covis_alpha_0.025_wse_50/covis_0300.pt' --inshape 128 128\n"
   ]
  },
  {
   "cell_type": "code",
   "execution_count": 6,
   "metadata": {},
   "outputs": [
    {
     "name": "stdout",
     "output_type": "stream",
     "text": [
      "/home/xiaoranzhang/anaconda3/envs/optical_flow/lib/python3.6/site-packages/torch/nn/functional.py:3658: UserWarning: The default behavior for interpolate/upsample with float scale_factor changed in 1.6.0 to align with other frameworks/libraries, and now uses scale_factor directly, instead of relying on the computed output size. If you wish to restore the old behavior, please set recompute_scale_factor=True. See the documentation of nn.Upsample for details. \n",
      "  \"The default behavior for interpolate/upsample with float scale_factor changed \"\n"
     ]
    }
   ],
   "source": [
    "!python voxelmorph_torch/test.py --dataset 'ACDC' --test-dir '../../Dataset/ACDC/test/' --result-dir '../../Results/cvpr2024_covis/ACDC/vxm_ACDC_2frame_covis_alpha_0.02_wse_20/' --model-motion '../../Models/cvpr2024_covis/ACDC/vxm_ACDC_2frame_covis_alpha_0.02_wse_20/motion_0300.pt' --model-covis '../../Models/cvpr2024_covis/ACDC/vxm_ACDC_2frame_covis_alpha_0.02_wse_20/covis_0300.pt' --inshape 128 128\n"
   ]
  },
  {
   "cell_type": "code",
   "execution_count": 7,
   "metadata": {},
   "outputs": [
    {
     "name": "stdout",
     "output_type": "stream",
     "text": [
      "/home/xiaoranzhang/anaconda3/envs/optical_flow/lib/python3.6/site-packages/torch/nn/functional.py:3658: UserWarning: The default behavior for interpolate/upsample with float scale_factor changed in 1.6.0 to align with other frameworks/libraries, and now uses scale_factor directly, instead of relying on the computed output size. If you wish to restore the old behavior, please set recompute_scale_factor=True. See the documentation of nn.Upsample for details. \n",
      "  \"The default behavior for interpolate/upsample with float scale_factor changed \"\n"
     ]
    }
   ],
   "source": [
    "!python voxelmorph_torch/test.py --dataset 'ACDC' --test-dir '../../Dataset/ACDC/test/' --result-dir '../../Results/cvpr2024_covis/ACDC/vxm_ACDC_2frame_covis_alpha_0.03_wse_20/' --model-motion '../../Models/cvpr2024_covis/ACDC/vxm_ACDC_2frame_covis_alpha_0.03_wse_20/motion_0300.pt' --model-covis '../../Models/cvpr2024_covis/ACDC/vxm_ACDC_2frame_covis_alpha_0.03_wse_20/covis_0300.pt' --inshape 128 128\n"
   ]
  },
  {
   "cell_type": "code",
   "execution_count": 10,
   "metadata": {},
   "outputs": [
    {
     "name": "stdout",
     "output_type": "stream",
     "text": [
      "/home/xiaoranzhang/anaconda3/envs/optical_flow/lib/python3.6/site-packages/torch/nn/functional.py:3658: UserWarning: The default behavior for interpolate/upsample with float scale_factor changed in 1.6.0 to align with other frameworks/libraries, and now uses scale_factor directly, instead of relying on the computed output size. If you wish to restore the old behavior, please set recompute_scale_factor=True. See the documentation of nn.Upsample for details. \n",
      "  \"The default behavior for interpolate/upsample with float scale_factor changed \"\n"
     ]
    }
   ],
   "source": [
    "!python voxelmorph_torch/test.py --dataset 'ACDC' --test-dir '../../Dataset/ACDC/test/' --result-dir '../../Results/cvpr2024_covis/ACDC/vxm_ACDC_2frame_covis_alpha_0.01_wse_20_mom_tv/' --model-motion '../../Models/cvpr2024_covis/ACDC/vxm_ACDC_2frame_covis_alpha_0.01_wse_20_mom_tv/motion_0300.pt' --model-covis '../../Models/cvpr2024_covis/ACDC/vxm_ACDC_2frame_covis_alpha_0.01_wse_20_mom_tv/covis_0300.pt' --inshape 128 128\n"
   ]
  },
  {
   "cell_type": "code",
   "execution_count": 11,
   "metadata": {},
   "outputs": [
    {
     "name": "stdout",
     "output_type": "stream",
     "text": [
      "/home/xiaoranzhang/anaconda3/envs/optical_flow/lib/python3.6/site-packages/torch/nn/functional.py:3658: UserWarning: The default behavior for interpolate/upsample with float scale_factor changed in 1.6.0 to align with other frameworks/libraries, and now uses scale_factor directly, instead of relying on the computed output size. If you wish to restore the old behavior, please set recompute_scale_factor=True. See the documentation of nn.Upsample for details. \n",
      "  \"The default behavior for interpolate/upsample with float scale_factor changed \"\n"
     ]
    }
   ],
   "source": [
    "!python voxelmorph_torch/test.py --dataset 'ACDC' --test-dir '../../Dataset/ACDC/test/' --result-dir '../../Results/cvpr2024_covis/ACDC/vxm_ACDC_2frame_covis_alpha_0.02_wse_20_mom_tv/' --model-motion '../../Models/cvpr2024_covis/ACDC/vxm_ACDC_2frame_covis_alpha_0.02_wse_20_mom_tv/motion_0300.pt' --model-covis '../../Models/cvpr2024_covis/ACDC/vxm_ACDC_2frame_covis_alpha_0.02_wse_20_mom_tv/covis_0300.pt' --inshape 128 128\n"
   ]
  },
  {
   "cell_type": "code",
   "execution_count": 12,
   "metadata": {},
   "outputs": [
    {
     "name": "stdout",
     "output_type": "stream",
     "text": [
      "/home/xiaoranzhang/anaconda3/envs/optical_flow/lib/python3.6/site-packages/torch/nn/functional.py:3658: UserWarning: The default behavior for interpolate/upsample with float scale_factor changed in 1.6.0 to align with other frameworks/libraries, and now uses scale_factor directly, instead of relying on the computed output size. If you wish to restore the old behavior, please set recompute_scale_factor=True. See the documentation of nn.Upsample for details. \n",
      "  \"The default behavior for interpolate/upsample with float scale_factor changed \"\n"
     ]
    }
   ],
   "source": [
    "!python voxelmorph_torch/test.py --dataset 'ACDC' --test-dir '../../Dataset/ACDC/test/' --result-dir '../../Results/cvpr2024_covis/ACDC/vxm_ACDC_2frame_covis_alpha_0.03_wse_20_mom_tv/' --model-motion '../../Models/cvpr2024_covis/ACDC/vxm_ACDC_2frame_covis_alpha_0.03_wse_20_mom_tv/motion_0300.pt' --model-covis '../../Models/cvpr2024_covis/ACDC/vxm_ACDC_2frame_covis_alpha_0.03_wse_20_mom_tv/covis_0300.pt' --inshape 128 128\n"
   ]
  },
  {
   "cell_type": "code",
   "execution_count": 16,
   "metadata": {},
   "outputs": [
    {
     "name": "stdout",
     "output_type": "stream",
     "text": [
      "/home/xiaoranzhang/anaconda3/envs/optical_flow/lib/python3.6/site-packages/torch/nn/functional.py:3658: UserWarning: The default behavior for interpolate/upsample with float scale_factor changed in 1.6.0 to align with other frameworks/libraries, and now uses scale_factor directly, instead of relying on the computed output size. If you wish to restore the old behavior, please set recompute_scale_factor=True. See the documentation of nn.Upsample for details. \n",
      "  \"The default behavior for interpolate/upsample with float scale_factor changed \"\n"
     ]
    }
   ],
   "source": [
    "!python voxelmorph_torch/test.py --dataset 'ACDC' --test-dir '../../Dataset/ACDC/test/' --result-dir '../../Results/cvpr2024_covis/ACDC/vxm_ACDC_2frame_covis_alpha_0.02_wse_20_tv_beta_10/' --model-motion '../../Models/cvpr2024_covis/ACDC/vxm_ACDC_2frame_covis_alpha_0.02_wse_20_tv_beta_10/motion_0300.pt' --model-covis '../../Models/cvpr2024_covis/ACDC/vxm_ACDC_2frame_covis_alpha_0.02_wse_20_tv_beta_10/covis_0300.pt' --inshape 128 128\n"
   ]
  },
  {
   "cell_type": "code",
   "execution_count": 18,
   "metadata": {},
   "outputs": [
    {
     "name": "stdout",
     "output_type": "stream",
     "text": [
      "/home/xiaoranzhang/anaconda3/envs/optical_flow/lib/python3.6/site-packages/torch/nn/functional.py:3658: UserWarning: The default behavior for interpolate/upsample with float scale_factor changed in 1.6.0 to align with other frameworks/libraries, and now uses scale_factor directly, instead of relying on the computed output size. If you wish to restore the old behavior, please set recompute_scale_factor=True. See the documentation of nn.Upsample for details. \n",
      "  \"The default behavior for interpolate/upsample with float scale_factor changed \"\n"
     ]
    }
   ],
   "source": [
    "!python voxelmorph_torch/test.py --dataset 'ACDC' --test-dir '../../Dataset/ACDC/test/' --result-dir '../../Results/cvpr2024_covis/ACDC/vxm_ACDC_2frame_covis_alpha_0.02_wse_20_tv_beta_1/' --model-motion '../../Models/cvpr2024_covis/ACDC/vxm_ACDC_2frame_covis_alpha_0.02_wse_20_tv_beta_1/motion_0300.pt' --model-covis '../../Models/cvpr2024_covis/ACDC/vxm_ACDC_2frame_covis_alpha_0.02_wse_20_tv_beta_1/covis_0300.pt' --inshape 128 128\n"
   ]
  },
  {
   "cell_type": "code",
   "execution_count": 17,
   "metadata": {},
   "outputs": [
    {
     "name": "stdout",
     "output_type": "stream",
     "text": [
      "/home/xiaoranzhang/anaconda3/envs/optical_flow/lib/python3.6/site-packages/torch/nn/functional.py:3658: UserWarning: The default behavior for interpolate/upsample with float scale_factor changed in 1.6.0 to align with other frameworks/libraries, and now uses scale_factor directly, instead of relying on the computed output size. If you wish to restore the old behavior, please set recompute_scale_factor=True. See the documentation of nn.Upsample for details. \n",
      "  \"The default behavior for interpolate/upsample with float scale_factor changed \"\n"
     ]
    }
   ],
   "source": [
    "!python voxelmorph_torch/test.py --dataset 'ACDC' --test-dir '../../Dataset/ACDC/test/' --result-dir '../../Results/cvpr2024_covis/ACDC/vxm_ACDC_2frame_covis_alpha_0.02_wse_20_tv_beta_0.1/' --model-motion '../../Models/cvpr2024_covis/ACDC/vxm_ACDC_2frame_covis_alpha_0.02_wse_20_tv_beta_0.1/motion_0300.pt' --model-covis '../../Models/cvpr2024_covis/ACDC/vxm_ACDC_2frame_covis_alpha_0.02_wse_20_tv_beta_0.1/covis_0300.pt' --inshape 128 128\n"
   ]
  },
  {
   "cell_type": "code",
   "execution_count": 2,
   "metadata": {},
   "outputs": [
    {
     "name": "stdout",
     "output_type": "stream",
     "text": [
      "/home/xiaoranzhang/anaconda3/envs/optical_flow/lib/python3.6/site-packages/torch/nn/functional.py:3658: UserWarning: The default behavior for interpolate/upsample with float scale_factor changed in 1.6.0 to align with other frameworks/libraries, and now uses scale_factor directly, instead of relying on the computed output size. If you wish to restore the old behavior, please set recompute_scale_factor=True. See the documentation of nn.Upsample for details. \n",
      "  \"The default behavior for interpolate/upsample with float scale_factor changed \"\n"
     ]
    }
   ],
   "source": [
    "!python voxelmorph_torch/test.py --dataset 'ACDC' --test-dir '../../Dataset/ACDC/test/' --result-dir '../../Results/cvpr2024_covis/ACDC/vxm_ACDC_2frame_covis_alpha_0.02_wse_20_tv_beta_2.5/' --model-motion '../../Models/cvpr2024_covis/ACDC/vxm_ACDC_2frame_covis_alpha_0.02_wse_20_tv_beta_2.5/motion_0300.pt' --model-covis '../../Models/cvpr2024_covis/ACDC/vxm_ACDC_2frame_covis_alpha_0.02_wse_20_tv_beta_2.5/covis_0300.pt' --inshape 128 128\n"
   ]
  },
  {
   "cell_type": "code",
   "execution_count": 21,
   "metadata": {},
   "outputs": [
    {
     "name": "stdout",
     "output_type": "stream",
     "text": [
      "/home/xiaoranzhang/anaconda3/envs/optical_flow/lib/python3.6/site-packages/torch/nn/functional.py:3658: UserWarning: The default behavior for interpolate/upsample with float scale_factor changed in 1.6.0 to align with other frameworks/libraries, and now uses scale_factor directly, instead of relying on the computed output size. If you wish to restore the old behavior, please set recompute_scale_factor=True. See the documentation of nn.Upsample for details. \n",
      "  \"The default behavior for interpolate/upsample with float scale_factor changed \"\n"
     ]
    }
   ],
   "source": [
    "!python voxelmorph_torch/test.py --dataset 'ACDC' --test-dir '../../Dataset/ACDC/test/' --result-dir '../../Results/cvpr2024_covis/ACDC/vxm_ACDC_2frame_covis_alpha_0.02_wse_20_tv_beta_1_lmbd_0.005/' --model-motion '../../Models/cvpr2024_covis/ACDC/vxm_ACDC_2frame_covis_alpha_0.02_wse_20_tv_beta_1_lmbd_0.005/motion_0300.pt' --model-covis '../../Models/cvpr2024_covis/ACDC/vxm_ACDC_2frame_covis_alpha_0.02_wse_20_tv_beta_1_lmbd_0.005/covis_0300.pt' --inshape 128 128\n"
   ]
  },
  {
   "cell_type": "code",
   "execution_count": 2,
   "metadata": {},
   "outputs": [
    {
     "name": "stdout",
     "output_type": "stream",
     "text": [
      "/home/xiaoranzhang/anaconda3/envs/optical_flow/lib/python3.6/site-packages/torch/nn/functional.py:3658: UserWarning: The default behavior for interpolate/upsample with float scale_factor changed in 1.6.0 to align with other frameworks/libraries, and now uses scale_factor directly, instead of relying on the computed output size. If you wish to restore the old behavior, please set recompute_scale_factor=True. See the documentation of nn.Upsample for details. \n",
      "  \"The default behavior for interpolate/upsample with float scale_factor changed \"\n"
     ]
    }
   ],
   "source": [
    "!python voxelmorph_torch/test.py --dataset 'ACDC' --test-dir '../../Dataset/ACDC/test/' --result-dir '../../Results/cvpr2024_covis/ACDC/vxm_ACDC_2frame_covis_alpha_0.02_wse_20_tv_adabeta_1/' --model-motion '../../Models/cvpr2024_covis/ACDC/vxm_ACDC_2frame_covis_alpha_0.02_wse_20_tv_adabeta_1/motion_0300.pt' --model-covis '../../Models/cvpr2024_covis/ACDC/vxm_ACDC_2frame_covis_alpha_0.02_wse_20_tv_adabeta_1/covis_0300.pt' --inshape 128 128\n"
   ]
  },
  {
   "cell_type": "code",
   "execution_count": 3,
   "metadata": {},
   "outputs": [
    {
     "name": "stdout",
     "output_type": "stream",
     "text": [
      "/home/xiaoranzhang/anaconda3/envs/optical_flow/lib/python3.6/site-packages/torch/nn/functional.py:3658: UserWarning: The default behavior for interpolate/upsample with float scale_factor changed in 1.6.0 to align with other frameworks/libraries, and now uses scale_factor directly, instead of relying on the computed output size. If you wish to restore the old behavior, please set recompute_scale_factor=True. See the documentation of nn.Upsample for details. \n",
      "  \"The default behavior for interpolate/upsample with float scale_factor changed \"\n"
     ]
    }
   ],
   "source": [
    "!python voxelmorph_torch/test.py --dataset 'ACDC' --test-dir '../../Dataset/ACDC/test/' --result-dir '../../Results/cvpr2024_covis/ACDC/vxm_ACDC_2frame_covis_alpha_0.02_wse_20_tv_adabeta_0.1/' --model-motion '../../Models/cvpr2024_covis/ACDC/vxm_ACDC_2frame_covis_alpha_0.02_wse_20_tv_adabeta_0.1/motion_0300.pt' --model-covis '../../Models/cvpr2024_covis/ACDC/vxm_ACDC_2frame_covis_alpha_0.02_wse_20_tv_adabeta_0.1/covis_0300.pt' --inshape 128 128\n"
   ]
  },
  {
   "cell_type": "code",
   "execution_count": 4,
   "metadata": {},
   "outputs": [
    {
     "name": "stdout",
     "output_type": "stream",
     "text": [
      "/home/xiaoranzhang/anaconda3/envs/optical_flow/lib/python3.6/site-packages/torch/nn/functional.py:3658: UserWarning: The default behavior for interpolate/upsample with float scale_factor changed in 1.6.0 to align with other frameworks/libraries, and now uses scale_factor directly, instead of relying on the computed output size. If you wish to restore the old behavior, please set recompute_scale_factor=True. See the documentation of nn.Upsample for details. \n",
      "  \"The default behavior for interpolate/upsample with float scale_factor changed \"\n"
     ]
    }
   ],
   "source": [
    "!python voxelmorph_torch/test.py --dataset 'ACDC' --test-dir '../../Dataset/ACDC/test/' --result-dir '../../Results/cvpr2024_covis/ACDC/vxm_ACDC_2frame_covis_alpha_0.02_wse_20_tv_adabeta_0.01/' --model-motion '../../Models/cvpr2024_covis/ACDC/vxm_ACDC_2frame_covis_alpha_0.02_wse_20_tv_adabeta_0.01/motion_0300.pt' --model-covis '../../Models/cvpr2024_covis/ACDC/vxm_ACDC_2frame_covis_alpha_0.02_wse_20_tv_adabeta_0.01/covis_0300.pt' --inshape 128 128\n"
   ]
  },
  {
   "cell_type": "code",
   "execution_count": 5,
   "metadata": {},
   "outputs": [
    {
     "name": "stdout",
     "output_type": "stream",
     "text": [
      "/home/xiaoranzhang/anaconda3/envs/optical_flow/lib/python3.6/site-packages/torch/nn/functional.py:3658: UserWarning: The default behavior for interpolate/upsample with float scale_factor changed in 1.6.0 to align with other frameworks/libraries, and now uses scale_factor directly, instead of relying on the computed output size. If you wish to restore the old behavior, please set recompute_scale_factor=True. See the documentation of nn.Upsample for details. \n",
      "  \"The default behavior for interpolate/upsample with float scale_factor changed \"\n"
     ]
    }
   ],
   "source": [
    "!python voxelmorph_torch/test.py --dataset 'ACDC' --test-dir '../../Dataset/ACDC/test/' --result-dir '../../Results/cvpr2024_covis/ACDC/vxm_ACDC_2frame_covis_alpha_0.02_wse_20_tv_adabeta_0.5/' --model-motion '../../Models/cvpr2024_covis/ACDC/vxm_ACDC_2frame_covis_alpha_0.02_wse_20_tv_adabeta_0.5/motion_0300.pt' --model-covis '../../Models/cvpr2024_covis/ACDC/vxm_ACDC_2frame_covis_alpha_0.02_wse_20_tv_adabeta_0.5/covis_0300.pt' --inshape 128 128\n"
   ]
  },
  {
   "cell_type": "code",
   "execution_count": 6,
   "metadata": {},
   "outputs": [
    {
     "name": "stdout",
     "output_type": "stream",
     "text": [
      "/home/xiaoranzhang/anaconda3/envs/optical_flow/lib/python3.6/site-packages/torch/nn/functional.py:3658: UserWarning: The default behavior for interpolate/upsample with float scale_factor changed in 1.6.0 to align with other frameworks/libraries, and now uses scale_factor directly, instead of relying on the computed output size. If you wish to restore the old behavior, please set recompute_scale_factor=True. See the documentation of nn.Upsample for details. \n",
      "  \"The default behavior for interpolate/upsample with float scale_factor changed \"\n"
     ]
    }
   ],
   "source": [
    "!python voxelmorph_torch/test.py --dataset 'ACDC' --test-dir '../../Dataset/ACDC/test/' --result-dir '../../Results/cvpr2024_covis/ACDC/vxm_ACDC_2frame_covis_alpha_0.02_wse_20_tv_adabeta_5/' --model-motion '../../Models/cvpr2024_covis/ACDC/vxm_ACDC_2frame_covis_alpha_0.02_wse_20_tv_adabeta_5/motion_0300.pt' --model-covis '../../Models/cvpr2024_covis/ACDC/vxm_ACDC_2frame_covis_alpha_0.02_wse_20_tv_adabeta_5/covis_0300.pt' --inshape 128 128\n"
   ]
  },
  {
   "cell_type": "code",
   "execution_count": 2,
   "metadata": {},
   "outputs": [
    {
     "name": "stdout",
     "output_type": "stream",
     "text": [
      "/home/xiaoranzhang/anaconda3/envs/optical_flow/lib/python3.6/site-packages/torch/nn/functional.py:3658: UserWarning: The default behavior for interpolate/upsample with float scale_factor changed in 1.6.0 to align with other frameworks/libraries, and now uses scale_factor directly, instead of relying on the computed output size. If you wish to restore the old behavior, please set recompute_scale_factor=True. See the documentation of nn.Upsample for details. \n",
      "  \"The default behavior for interpolate/upsample with float scale_factor changed \"\n"
     ]
    }
   ],
   "source": [
    "!python voxelmorph_torch/test.py --dataset 'ACDC' --test-dir '../../Dataset/ACDC/test/' --result-dir '../../Results/cvpr2024_covis/ACDC/vxm_ACDC_2frame_covis_alpha_0.02_wse_20_tv_adabeta_0.75/' --model-motion '../../Models/cvpr2024_covis/ACDC/vxm_ACDC_2frame_covis_alpha_0.02_wse_20_tv_adabeta_0.75/motion_0300.pt' --model-covis '../../Models/cvpr2024_covis/ACDC/vxm_ACDC_2frame_covis_alpha_0.02_wse_20_tv_adabeta_0.75/covis_0300.pt' --inshape 128 128\n"
   ]
  },
  {
   "cell_type": "code",
   "execution_count": 3,
   "metadata": {},
   "outputs": [
    {
     "name": "stdout",
     "output_type": "stream",
     "text": [
      "/home/xiaoranzhang/anaconda3/envs/optical_flow/lib/python3.6/site-packages/torch/nn/functional.py:3658: UserWarning: The default behavior for interpolate/upsample with float scale_factor changed in 1.6.0 to align with other frameworks/libraries, and now uses scale_factor directly, instead of relying on the computed output size. If you wish to restore the old behavior, please set recompute_scale_factor=True. See the documentation of nn.Upsample for details. \n",
      "  \"The default behavior for interpolate/upsample with float scale_factor changed \"\n"
     ]
    }
   ],
   "source": [
    "!python voxelmorph_torch/test.py --dataset 'ACDC' --test-dir '../../Dataset/ACDC/test/' --result-dir '../../Results/cvpr2024_covis/ACDC/vxm_ACDC_2frame_covis_alpha_0.02_wse_20_tv_adabeta_1.5/' --model-motion '../../Models/cvpr2024_covis/ACDC/vxm_ACDC_2frame_covis_alpha_0.02_wse_20_tv_adabeta_1.5/motion_0300.pt' --model-covis '../../Models/cvpr2024_covis/ACDC/vxm_ACDC_2frame_covis_alpha_0.02_wse_20_tv_adabeta_1.5/covis_0300.pt' --inshape 128 128\n"
   ]
  },
  {
   "cell_type": "code",
   "execution_count": 4,
   "metadata": {},
   "outputs": [
    {
     "name": "stdout",
     "output_type": "stream",
     "text": [
      "/home/xiaoranzhang/anaconda3/envs/optical_flow/lib/python3.6/site-packages/torch/nn/functional.py:3658: UserWarning: The default behavior for interpolate/upsample with float scale_factor changed in 1.6.0 to align with other frameworks/libraries, and now uses scale_factor directly, instead of relying on the computed output size. If you wish to restore the old behavior, please set recompute_scale_factor=True. See the documentation of nn.Upsample for details. \n",
      "  \"The default behavior for interpolate/upsample with float scale_factor changed \"\n"
     ]
    }
   ],
   "source": [
    "!python voxelmorph_torch/test.py --dataset 'ACDC' --test-dir '../../Dataset/ACDC/test/' --result-dir '../../Results/cvpr2024_covis/ACDC/vxm_ACDC_2frame_covis_alpha_0.02_wse_20_tv_adabeta_2.5/' --model-motion '../../Models/cvpr2024_covis/ACDC/vxm_ACDC_2frame_covis_alpha_0.02_wse_20_tv_adabeta_2.5/motion_0300.pt' --model-covis '../../Models/cvpr2024_covis/ACDC/vxm_ACDC_2frame_covis_alpha_0.02_wse_20_tv_adabeta_2.5/covis_0300.pt' --inshape 128 128\n"
   ]
  },
  {
   "cell_type": "code",
   "execution_count": 5,
   "metadata": {},
   "outputs": [
    {
     "name": "stdout",
     "output_type": "stream",
     "text": [
      "/home/xiaoranzhang/anaconda3/envs/optical_flow/lib/python3.6/site-packages/torch/nn/functional.py:3658: UserWarning: The default behavior for interpolate/upsample with float scale_factor changed in 1.6.0 to align with other frameworks/libraries, and now uses scale_factor directly, instead of relying on the computed output size. If you wish to restore the old behavior, please set recompute_scale_factor=True. See the documentation of nn.Upsample for details. \n",
      "  \"The default behavior for interpolate/upsample with float scale_factor changed \"\n"
     ]
    }
   ],
   "source": [
    "!python voxelmorph_torch/test.py --dataset 'ACDC' --test-dir '../../Dataset/ACDC/test/' --result-dir '../../Results/cvpr2024_covis/ACDC/vxm_ACDC_2frame_covis_alpha_0.02_wse_20_tv_adabeta_3/' --model-motion '../../Models/cvpr2024_covis/ACDC/vxm_ACDC_2frame_covis_alpha_0.02_wse_20_tv_adabeta_3/motion_0300.pt' --model-covis '../../Models/cvpr2024_covis/ACDC/vxm_ACDC_2frame_covis_alpha_0.02_wse_20_tv_adabeta_3/covis_0300.pt' --inshape 128 128\n"
   ]
  },
  {
   "cell_type": "code",
   "execution_count": 2,
   "metadata": {},
   "outputs": [
    {
     "name": "stdout",
     "output_type": "stream",
     "text": [
      "/home/xiaoranzhang/anaconda3/envs/optical_flow/lib/python3.6/site-packages/torch/nn/functional.py:3658: UserWarning: The default behavior for interpolate/upsample with float scale_factor changed in 1.6.0 to align with other frameworks/libraries, and now uses scale_factor directly, instead of relying on the computed output size. If you wish to restore the old behavior, please set recompute_scale_factor=True. See the documentation of nn.Upsample for details. \n",
      "  \"The default behavior for interpolate/upsample with float scale_factor changed \"\n"
     ]
    }
   ],
   "source": [
    "!python voxelmorph_torch/test.py --dataset 'ACDC' --test-dir '../../Dataset/ACDC/test/' --result-dir '../../Results/cvpr2024_covis/ACDC/vxm_ACDC_2frame_covis_alpha_0.02_wse_20_tv_adabeta_1.5_nomut/' --model-motion '../../Models/cvpr2024_covis/ACDC/vxm_ACDC_2frame_covis_alpha_0.02_wse_20_tv_adabeta_1.5_nomut/motion_0300.pt' --model-covis '../../Models/cvpr2024_covis/ACDC/vxm_ACDC_2frame_covis_alpha_0.02_wse_20_tv_adabeta_1.5_nomut/covis_0300.pt' --inshape 128 128\n"
   ]
  },
  {
   "cell_type": "markdown",
   "metadata": {},
   "source": [
    "## CAMUS"
   ]
  },
  {
   "cell_type": "code",
   "execution_count": 9,
   "metadata": {},
   "outputs": [
    {
     "name": "stdout",
     "output_type": "stream",
     "text": [
      "/home/xiaoranzhang/anaconda3/envs/optical_flow/lib/python3.6/site-packages/torch/nn/functional.py:3658: UserWarning: The default behavior for interpolate/upsample with float scale_factor changed in 1.6.0 to align with other frameworks/libraries, and now uses scale_factor directly, instead of relying on the computed output size. If you wish to restore the old behavior, please set recompute_scale_factor=True. See the documentation of nn.Upsample for details. \n",
      "  \"The default behavior for interpolate/upsample with float scale_factor changed \"\n"
     ]
    }
   ],
   "source": [
    "!python voxelmorph_torch/test.py --dataset 'CAMUS' --test-dir '../../Dataset/CAMUS/test/' --result-dir '../../Results/cvpr2024_covis/CAMUS/vxm_CAMUS_2frame_covis_alpha_0.01/' --model-motion '../../Models/cvpr2024_covis/CAMUS/vxm_CAMUS_2frame_covis_alpha_0.01/motion_0300.pt' --model-covis '../../Models/cvpr2024_covis/CAMUS/vxm_CAMUS_2frame_covis_alpha_0.01/covis_0300.pt' --inshape 128 128\n"
   ]
  },
  {
   "cell_type": "code",
   "execution_count": 8,
   "metadata": {},
   "outputs": [
    {
     "name": "stdout",
     "output_type": "stream",
     "text": [
      "/home/xiaoranzhang/anaconda3/envs/optical_flow/lib/python3.6/site-packages/torch/nn/functional.py:3658: UserWarning: The default behavior for interpolate/upsample with float scale_factor changed in 1.6.0 to align with other frameworks/libraries, and now uses scale_factor directly, instead of relying on the computed output size. If you wish to restore the old behavior, please set recompute_scale_factor=True. See the documentation of nn.Upsample for details. \n",
      "  \"The default behavior for interpolate/upsample with float scale_factor changed \"\n"
     ]
    }
   ],
   "source": [
    "!python voxelmorph_torch/test.py --dataset 'CAMUS' --test-dir '../../Dataset/CAMUS/test/' --result-dir '../../Results/cvpr2024_covis/CAMUS/vxm_CAMUS_2frame_covis_alpha_0.02_wse_20/' --model-motion '../../Models/cvpr2024_covis/CAMUS/vxm_CAMUS_2frame_covis_alpha_0.02_wse_20/motion_0300.pt' --model-covis '../../Models/cvpr2024_covis/CAMUS/vxm_CAMUS_2frame_covis_alpha_0.02_wse_20/covis_0300.pt' --inshape 128 128\n"
   ]
  },
  {
   "cell_type": "code",
   "execution_count": 9,
   "metadata": {},
   "outputs": [
    {
     "name": "stdout",
     "output_type": "stream",
     "text": [
      "/home/xiaoranzhang/anaconda3/envs/optical_flow/lib/python3.6/site-packages/torch/nn/functional.py:3658: UserWarning: The default behavior for interpolate/upsample with float scale_factor changed in 1.6.0 to align with other frameworks/libraries, and now uses scale_factor directly, instead of relying on the computed output size. If you wish to restore the old behavior, please set recompute_scale_factor=True. See the documentation of nn.Upsample for details. \n",
      "  \"The default behavior for interpolate/upsample with float scale_factor changed \"\n"
     ]
    }
   ],
   "source": [
    "!python voxelmorph_torch/test.py --dataset 'CAMUS' --test-dir '../../Dataset/CAMUS/test/' --result-dir '../../Results/cvpr2024_covis/CAMUS/vxm_CAMUS_2frame_covis_alpha_0.025_wse_20/' --model-motion '../../Models/cvpr2024_covis/CAMUS/vxm_CAMUS_2frame_covis_alpha_0.025_wse_20/motion_0300.pt' --model-covis '../../Models/cvpr2024_covis/CAMUS/vxm_CAMUS_2frame_covis_alpha_0.025_wse_20/covis_0300.pt' --inshape 128 128\n"
   ]
  },
  {
   "cell_type": "code",
   "execution_count": 10,
   "metadata": {},
   "outputs": [
    {
     "name": "stdout",
     "output_type": "stream",
     "text": [
      "/home/xiaoranzhang/anaconda3/envs/optical_flow/lib/python3.6/site-packages/torch/nn/functional.py:3658: UserWarning: The default behavior for interpolate/upsample with float scale_factor changed in 1.6.0 to align with other frameworks/libraries, and now uses scale_factor directly, instead of relying on the computed output size. If you wish to restore the old behavior, please set recompute_scale_factor=True. See the documentation of nn.Upsample for details. \n",
      "  \"The default behavior for interpolate/upsample with float scale_factor changed \"\n"
     ]
    }
   ],
   "source": [
    "!python voxelmorph_torch/test.py --dataset 'CAMUS' --test-dir '../../Dataset/CAMUS/test/' --result-dir '../../Results/cvpr2024_covis/CAMUS/vxm_CAMUS_2frame_covis_alpha_0.05_wse_20/' --model-motion '../../Models/cvpr2024_covis/CAMUS/vxm_CAMUS_2frame_covis_alpha_0.05_wse_20/motion_0300.pt' --model-covis '../../Models/cvpr2024_covis/CAMUS/vxm_CAMUS_2frame_covis_alpha_0.05_wse_20/covis_0300.pt' --inshape 128 128\n"
   ]
  },
  {
   "cell_type": "code",
   "execution_count": 11,
   "metadata": {},
   "outputs": [
    {
     "name": "stdout",
     "output_type": "stream",
     "text": [
      "/home/xiaoranzhang/anaconda3/envs/optical_flow/lib/python3.6/site-packages/torch/nn/functional.py:3658: UserWarning: The default behavior for interpolate/upsample with float scale_factor changed in 1.6.0 to align with other frameworks/libraries, and now uses scale_factor directly, instead of relying on the computed output size. If you wish to restore the old behavior, please set recompute_scale_factor=True. See the documentation of nn.Upsample for details. \n",
      "  \"The default behavior for interpolate/upsample with float scale_factor changed \"\n"
     ]
    }
   ],
   "source": [
    "!python voxelmorph_torch/test.py --dataset 'CAMUS' --test-dir '../../Dataset/CAMUS/test/' --result-dir '../../Results/cvpr2024_covis/CAMUS/vxm_CAMUS_2frame_covis_alpha_0.04_wse_20/' --model-motion '../../Models/cvpr2024_covis/CAMUS/vxm_CAMUS_2frame_covis_alpha_0.04_wse_20/motion_0300.pt' --model-covis '../../Models/cvpr2024_covis/CAMUS/vxm_CAMUS_2frame_covis_alpha_0.04_wse_20/covis_0300.pt' --inshape 128 128\n"
   ]
  },
  {
   "cell_type": "code",
   "execution_count": 12,
   "metadata": {},
   "outputs": [
    {
     "name": "stdout",
     "output_type": "stream",
     "text": [
      "/home/xiaoranzhang/anaconda3/envs/optical_flow/lib/python3.6/site-packages/torch/nn/functional.py:3658: UserWarning: The default behavior for interpolate/upsample with float scale_factor changed in 1.6.0 to align with other frameworks/libraries, and now uses scale_factor directly, instead of relying on the computed output size. If you wish to restore the old behavior, please set recompute_scale_factor=True. See the documentation of nn.Upsample for details. \n",
      "  \"The default behavior for interpolate/upsample with float scale_factor changed \"\n"
     ]
    }
   ],
   "source": [
    "!python voxelmorph_torch/test.py --dataset 'CAMUS' --test-dir '../../Dataset/CAMUS/test/' --result-dir '../../Results/cvpr2024_covis/CAMUS/vxm_CAMUS_2frame_covis_alpha_0.03_wse_20/' --model-motion '../../Models/cvpr2024_covis/CAMUS/vxm_CAMUS_2frame_covis_alpha_0.03_wse_20/motion_0300.pt' --model-covis '../../Models/cvpr2024_covis/CAMUS/vxm_CAMUS_2frame_covis_alpha_0.03_wse_20/covis_0300.pt' --inshape 128 128\n"
   ]
  },
  {
   "cell_type": "code",
   "execution_count": 13,
   "metadata": {},
   "outputs": [
    {
     "name": "stdout",
     "output_type": "stream",
     "text": [
      "/home/xiaoranzhang/anaconda3/envs/optical_flow/lib/python3.6/site-packages/torch/nn/functional.py:3658: UserWarning: The default behavior for interpolate/upsample with float scale_factor changed in 1.6.0 to align with other frameworks/libraries, and now uses scale_factor directly, instead of relying on the computed output size. If you wish to restore the old behavior, please set recompute_scale_factor=True. See the documentation of nn.Upsample for details. \n",
      "  \"The default behavior for interpolate/upsample with float scale_factor changed \"\n"
     ]
    }
   ],
   "source": [
    "!python voxelmorph_torch/test.py --dataset 'CAMUS' --test-dir '../../Dataset/CAMUS/test/' --result-dir '../../Results/cvpr2024_covis/CAMUS/vxm_CAMUS_2frame_covis_alpha_0.1_wse_20/' --model-motion '../../Models/cvpr2024_covis/CAMUS/vxm_CAMUS_2frame_covis_alpha_0.1_wse_20/motion_0300.pt' --model-covis '../../Models/cvpr2024_covis/CAMUS/vxm_CAMUS_2frame_covis_alpha_0.1_wse_20/covis_0300.pt' --inshape 128 128\n"
   ]
  },
  {
   "cell_type": "code",
   "execution_count": 14,
   "metadata": {},
   "outputs": [
    {
     "name": "stdout",
     "output_type": "stream",
     "text": [
      "/home/xiaoranzhang/anaconda3/envs/optical_flow/lib/python3.6/site-packages/torch/nn/functional.py:3658: UserWarning: The default behavior for interpolate/upsample with float scale_factor changed in 1.6.0 to align with other frameworks/libraries, and now uses scale_factor directly, instead of relying on the computed output size. If you wish to restore the old behavior, please set recompute_scale_factor=True. See the documentation of nn.Upsample for details. \n",
      "  \"The default behavior for interpolate/upsample with float scale_factor changed \"\n"
     ]
    }
   ],
   "source": [
    "!python voxelmorph_torch/test.py --dataset 'CAMUS' --test-dir '../../Dataset/CAMUS/test/' --result-dir '../../Results/cvpr2024_covis/CAMUS/vxm_CAMUS_2frame_covis_alpha_0.045_wse_20/' --model-motion '../../Models/cvpr2024_covis/CAMUS/vxm_CAMUS_2frame_covis_alpha_0.045_wse_20/motion_0300.pt' --model-covis '../../Models/cvpr2024_covis/CAMUS/vxm_CAMUS_2frame_covis_alpha_0.045_wse_20/covis_0300.pt' --inshape 128 128\n"
   ]
  },
  {
   "cell_type": "code",
   "execution_count": 15,
   "metadata": {},
   "outputs": [
    {
     "name": "stdout",
     "output_type": "stream",
     "text": [
      "/home/xiaoranzhang/anaconda3/envs/optical_flow/lib/python3.6/site-packages/torch/nn/functional.py:3658: UserWarning: The default behavior for interpolate/upsample with float scale_factor changed in 1.6.0 to align with other frameworks/libraries, and now uses scale_factor directly, instead of relying on the computed output size. If you wish to restore the old behavior, please set recompute_scale_factor=True. See the documentation of nn.Upsample for details. \n",
      "  \"The default behavior for interpolate/upsample with float scale_factor changed \"\n"
     ]
    }
   ],
   "source": [
    "!python voxelmorph_torch/test.py --dataset 'CAMUS' --test-dir '../../Dataset/CAMUS/test/' --result-dir '../../Results/cvpr2024_covis/CAMUS/vxm_CAMUS_2frame_covis_alpha_0.035_wse_20/' --model-motion '../../Models/cvpr2024_covis/CAMUS/vxm_CAMUS_2frame_covis_alpha_0.035_wse_20/motion_0300.pt' --model-covis '../../Models/cvpr2024_covis/CAMUS/vxm_CAMUS_2frame_covis_alpha_0.035_wse_20/covis_0300.pt' --inshape 128 128\n"
   ]
  },
  {
   "cell_type": "code",
   "execution_count": 16,
   "metadata": {},
   "outputs": [
    {
     "name": "stdout",
     "output_type": "stream",
     "text": [
      "/home/xiaoranzhang/anaconda3/envs/optical_flow/lib/python3.6/site-packages/torch/nn/functional.py:3658: UserWarning: The default behavior for interpolate/upsample with float scale_factor changed in 1.6.0 to align with other frameworks/libraries, and now uses scale_factor directly, instead of relying on the computed output size. If you wish to restore the old behavior, please set recompute_scale_factor=True. See the documentation of nn.Upsample for details. \n",
      "  \"The default behavior for interpolate/upsample with float scale_factor changed \"\n"
     ]
    }
   ],
   "source": [
    "!python voxelmorph_torch/test.py --dataset 'CAMUS' --test-dir '../../Dataset/CAMUS/test/' --result-dir '../../Results/cvpr2024_covis/CAMUS/vxm_CAMUS_2frame_covis_alpha_0.08_wse_20/' --model-motion '../../Models/cvpr2024_covis/CAMUS/vxm_CAMUS_2frame_covis_alpha_0.08_wse_20/motion_0300.pt' --model-covis '../../Models/cvpr2024_covis/CAMUS/vxm_CAMUS_2frame_covis_alpha_0.08_wse_20/covis_0300.pt' --inshape 128 128\n"
   ]
  },
  {
   "cell_type": "code",
   "execution_count": 17,
   "metadata": {},
   "outputs": [
    {
     "name": "stdout",
     "output_type": "stream",
     "text": [
      "/home/xiaoranzhang/anaconda3/envs/optical_flow/lib/python3.6/site-packages/torch/nn/functional.py:3658: UserWarning: The default behavior for interpolate/upsample with float scale_factor changed in 1.6.0 to align with other frameworks/libraries, and now uses scale_factor directly, instead of relying on the computed output size. If you wish to restore the old behavior, please set recompute_scale_factor=True. See the documentation of nn.Upsample for details. \n",
      "  \"The default behavior for interpolate/upsample with float scale_factor changed \"\n"
     ]
    }
   ],
   "source": [
    "!python voxelmorph_torch/test.py --dataset 'CAMUS' --test-dir '../../Dataset/CAMUS/test/' --result-dir '../../Results/cvpr2024_covis/CAMUS/vxm_CAMUS_2frame_covis_alpha_0.075_wse_20/' --model-motion '../../Models/cvpr2024_covis/CAMUS/vxm_CAMUS_2frame_covis_alpha_0.075_wse_20/motion_0300.pt' --model-covis '../../Models/cvpr2024_covis/CAMUS/vxm_CAMUS_2frame_covis_alpha_0.075_wse_20/covis_0300.pt' --inshape 128 128\n"
   ]
  },
  {
   "cell_type": "code",
   "execution_count": 4,
   "metadata": {},
   "outputs": [
    {
     "name": "stdout",
     "output_type": "stream",
     "text": [
      "/home/xiaoranzhang/anaconda3/envs/optical_flow/lib/python3.6/site-packages/torch/nn/functional.py:3658: UserWarning: The default behavior for interpolate/upsample with float scale_factor changed in 1.6.0 to align with other frameworks/libraries, and now uses scale_factor directly, instead of relying on the computed output size. If you wish to restore the old behavior, please set recompute_scale_factor=True. See the documentation of nn.Upsample for details. \n",
      "  \"The default behavior for interpolate/upsample with float scale_factor changed \"\n"
     ]
    }
   ],
   "source": [
    "!python voxelmorph_torch/test.py --dataset 'CAMUS' --test-dir '../../Dataset/CAMUS/test/' --result-dir '../../Results/cvpr2024_covis/CAMUS/vxm_CAMUS_2frame_covis_alpha_0.04_wse_20_mom_guide_scale_2e3/' --model-motion '../../Models/cvpr2024_covis/CAMUS/vxm_CAMUS_2frame_covis_alpha_0.04_wse_20_mom_guide_scale_2e3/motion_0300.pt' --model-covis '../../Models/cvpr2024_covis/CAMUS/vxm_CAMUS_2frame_covis_alpha_0.04_wse_20_mom_guide_scale_2e3/covis_0300.pt' --inshape 128 128\n"
   ]
  },
  {
   "cell_type": "code",
   "execution_count": null,
   "metadata": {},
   "outputs": [],
   "source": [
    "!python voxelmorph_torch/test.py --dataset 'CAMUS' --test-dir '../../Dataset/CAMUS/test/' --result-dir '../../Results/cvpr2024_covis/CAMUS/vxm_CAMUS_2frame_covis_alpha_0.04_wse_20_mom_guide/' --model-motion '../../Models/cvpr2024_covis/CAMUS/vxm_CAMUS_2frame_covis_alpha_0.04_wse_20_mom_guide/motion_0300.pt' --model-covis '../../Models/cvpr2024_covis/CAMUS/vxm_CAMUS_2frame_covis_alpha_0.04_wse_20_mom_guide/covis_0300.pt' --inshape 128 128\n"
   ]
  },
  {
   "cell_type": "code",
   "execution_count": 6,
   "metadata": {},
   "outputs": [
    {
     "name": "stdout",
     "output_type": "stream",
     "text": [
      "/home/xiaoranzhang/anaconda3/envs/optical_flow/lib/python3.6/site-packages/torch/nn/functional.py:3658: UserWarning: The default behavior for interpolate/upsample with float scale_factor changed in 1.6.0 to align with other frameworks/libraries, and now uses scale_factor directly, instead of relying on the computed output size. If you wish to restore the old behavior, please set recompute_scale_factor=True. See the documentation of nn.Upsample for details. \n",
      "  \"The default behavior for interpolate/upsample with float scale_factor changed \"\n"
     ]
    }
   ],
   "source": [
    "!python voxelmorph_torch/test.py --dataset 'CAMUS' --test-dir '../../Dataset/CAMUS/test/' --result-dir '../../Results/cvpr2024_covis/CAMUS/vxm_CAMUS_2frame_covis_alpha_0.04_wse_20_mom_guide_scale_1e3_win_10/' --model-motion '../../Models/cvpr2024_covis/CAMUS/vxm_CAMUS_2frame_covis_alpha_0.04_wse_20_mom_guide_scale_1e3_win_10/motion_0300.pt' --model-covis '../../Models/cvpr2024_covis/CAMUS/vxm_CAMUS_2frame_covis_alpha_0.04_wse_20_mom_guide_scale_1e3_win_10/covis_0300.pt' --inshape 128 128\n"
   ]
  },
  {
   "cell_type": "code",
   "execution_count": 7,
   "metadata": {},
   "outputs": [
    {
     "name": "stdout",
     "output_type": "stream",
     "text": [
      "/home/xiaoranzhang/anaconda3/envs/optical_flow/lib/python3.6/site-packages/torch/nn/functional.py:3658: UserWarning: The default behavior for interpolate/upsample with float scale_factor changed in 1.6.0 to align with other frameworks/libraries, and now uses scale_factor directly, instead of relying on the computed output size. If you wish to restore the old behavior, please set recompute_scale_factor=True. See the documentation of nn.Upsample for details. \n",
      "  \"The default behavior for interpolate/upsample with float scale_factor changed \"\n"
     ]
    }
   ],
   "source": [
    "!python voxelmorph_torch/test.py --dataset 'CAMUS' --test-dir '../../Dataset/CAMUS/test/' --result-dir '../../Results/cvpr2024_covis/CAMUS/vxm_CAMUS_2frame_covis_alpha_0.03_wse_20_mom_tv/' --model-motion '../../Models/cvpr2024_covis/CAMUS/vxm_CAMUS_2frame_covis_alpha_0.03_wse_20_mom_tv/motion_0300.pt' --model-covis '../../Models/cvpr2024_covis/CAMUS/vxm_CAMUS_2frame_covis_alpha_0.03_wse_20_mom_tv/covis_0300.pt' --inshape 128 128\n"
   ]
  },
  {
   "cell_type": "code",
   "execution_count": 8,
   "metadata": {},
   "outputs": [
    {
     "name": "stdout",
     "output_type": "stream",
     "text": [
      "/home/xiaoranzhang/anaconda3/envs/optical_flow/lib/python3.6/site-packages/torch/nn/functional.py:3658: UserWarning: The default behavior for interpolate/upsample with float scale_factor changed in 1.6.0 to align with other frameworks/libraries, and now uses scale_factor directly, instead of relying on the computed output size. If you wish to restore the old behavior, please set recompute_scale_factor=True. See the documentation of nn.Upsample for details. \n",
      "  \"The default behavior for interpolate/upsample with float scale_factor changed \"\n"
     ]
    }
   ],
   "source": [
    "!python voxelmorph_torch/test.py --dataset 'CAMUS' --test-dir '../../Dataset/CAMUS/test/' --result-dir '../../Results/cvpr2024_covis/CAMUS/vxm_CAMUS_2frame_covis_alpha_0.04_wse_20_mom_tv/' --model-motion '../../Models/cvpr2024_covis/CAMUS/vxm_CAMUS_2frame_covis_alpha_0.04_wse_20_mom_tv/motion_0300.pt' --model-covis '../../Models/cvpr2024_covis/CAMUS/vxm_CAMUS_2frame_covis_alpha_0.04_wse_20_mom_tv/covis_0300.pt' --inshape 128 128\n"
   ]
  },
  {
   "cell_type": "code",
   "execution_count": 9,
   "metadata": {},
   "outputs": [
    {
     "name": "stdout",
     "output_type": "stream",
     "text": [
      "/home/xiaoranzhang/anaconda3/envs/optical_flow/lib/python3.6/site-packages/torch/nn/functional.py:3658: UserWarning: The default behavior for interpolate/upsample with float scale_factor changed in 1.6.0 to align with other frameworks/libraries, and now uses scale_factor directly, instead of relying on the computed output size. If you wish to restore the old behavior, please set recompute_scale_factor=True. See the documentation of nn.Upsample for details. \n",
      "  \"The default behavior for interpolate/upsample with float scale_factor changed \"\n"
     ]
    }
   ],
   "source": [
    "!python voxelmorph_torch/test.py --dataset 'CAMUS' --test-dir '../../Dataset/CAMUS/test/' --result-dir '../../Results/cvpr2024_covis/CAMUS/vxm_CAMUS_2frame_covis_alpha_0.05_wse_20_mom_tv/' --model-motion '../../Models/cvpr2024_covis/CAMUS/vxm_CAMUS_2frame_covis_alpha_0.05_wse_20_mom_tv/motion_0300.pt' --model-covis '../../Models/cvpr2024_covis/CAMUS/vxm_CAMUS_2frame_covis_alpha_0.05_wse_20_mom_tv/covis_0300.pt' --inshape 128 128\n"
   ]
  },
  {
   "cell_type": "code",
   "execution_count": 28,
   "metadata": {},
   "outputs": [
    {
     "name": "stdout",
     "output_type": "stream",
     "text": [
      "/home/xiaoranzhang/anaconda3/envs/optical_flow/lib/python3.6/site-packages/torch/nn/functional.py:3658: UserWarning: The default behavior for interpolate/upsample with float scale_factor changed in 1.6.0 to align with other frameworks/libraries, and now uses scale_factor directly, instead of relying on the computed output size. If you wish to restore the old behavior, please set recompute_scale_factor=True. See the documentation of nn.Upsample for details. \n",
      "  \"The default behavior for interpolate/upsample with float scale_factor changed \"\n"
     ]
    }
   ],
   "source": [
    "!python voxelmorph_torch/test.py --dataset 'CAMUS' --test-dir '../../Dataset/CAMUS/test/' --result-dir '../../Results/cvpr2024_covis/CAMUS/vxm_CAMUS_2frame_covis_alpha_0.04_wse_20_tv_beta_10/' --model-motion '../../Models/cvpr2024_covis/CAMUS/vxm_CAMUS_2frame_covis_alpha_0.04_wse_20_tv_beta_10/motion_0300.pt' --model-covis '../../Models/cvpr2024_covis/CAMUS/vxm_CAMUS_2frame_covis_alpha_0.04_wse_20_tv_beta_10/covis_0300.pt' --inshape 128 128\n"
   ]
  },
  {
   "cell_type": "code",
   "execution_count": 27,
   "metadata": {},
   "outputs": [
    {
     "name": "stdout",
     "output_type": "stream",
     "text": [
      "/home/xiaoranzhang/anaconda3/envs/optical_flow/lib/python3.6/site-packages/torch/nn/functional.py:3658: UserWarning: The default behavior for interpolate/upsample with float scale_factor changed in 1.6.0 to align with other frameworks/libraries, and now uses scale_factor directly, instead of relying on the computed output size. If you wish to restore the old behavior, please set recompute_scale_factor=True. See the documentation of nn.Upsample for details. \n",
      "  \"The default behavior for interpolate/upsample with float scale_factor changed \"\n"
     ]
    }
   ],
   "source": [
    "!python voxelmorph_torch/test.py --dataset 'CAMUS' --test-dir '../../Dataset/CAMUS/test/' --result-dir '../../Results/cvpr2024_covis/CAMUS/vxm_CAMUS_2frame_covis_alpha_0.04_wse_20_tv_beta_1/' --model-motion '../../Models/cvpr2024_covis/CAMUS/vxm_CAMUS_2frame_covis_alpha_0.04_wse_20_tv_beta_1/motion_0300.pt' --model-covis '../../Models/cvpr2024_covis/CAMUS/vxm_CAMUS_2frame_covis_alpha_0.04_wse_20_tv_beta_1/covis_0300.pt' --inshape 128 128\n"
   ]
  },
  {
   "cell_type": "code",
   "execution_count": 26,
   "metadata": {},
   "outputs": [
    {
     "name": "stdout",
     "output_type": "stream",
     "text": [
      "/home/xiaoranzhang/anaconda3/envs/optical_flow/lib/python3.6/site-packages/torch/nn/functional.py:3658: UserWarning: The default behavior for interpolate/upsample with float scale_factor changed in 1.6.0 to align with other frameworks/libraries, and now uses scale_factor directly, instead of relying on the computed output size. If you wish to restore the old behavior, please set recompute_scale_factor=True. See the documentation of nn.Upsample for details. \n",
      "  \"The default behavior for interpolate/upsample with float scale_factor changed \"\n"
     ]
    }
   ],
   "source": [
    "!python voxelmorph_torch/test.py --dataset 'CAMUS' --test-dir '../../Dataset/CAMUS/test/' --result-dir '../../Results/cvpr2024_covis/CAMUS/vxm_CAMUS_2frame_covis_alpha_0.04_wse_20_tv_beta_0.1/' --model-motion '../../Models/cvpr2024_covis/CAMUS/vxm_CAMUS_2frame_covis_alpha_0.04_wse_20_tv_beta_0.1/motion_0300.pt' --model-covis '../../Models/cvpr2024_covis/CAMUS/vxm_CAMUS_2frame_covis_alpha_0.04_wse_20_tv_beta_0.1/covis_0300.pt' --inshape 128 128\n"
   ]
  },
  {
   "cell_type": "code",
   "execution_count": 1,
   "metadata": {},
   "outputs": [
    {
     "name": "stdout",
     "output_type": "stream",
     "text": [
      "python: can't open file 'voxelmorph_torch/test.py': [Errno 2] No such file or directory\n"
     ]
    }
   ],
   "source": [
    "!python voxelmorph_torch/test.py --dataset 'CAMUS' --test-dir '../../Dataset/CAMUS/test/' --result-dir '../../Results/cvpr2024_covis/CAMUS/vxm_CAMUS_2frame_covis_alpha_0.04_wse_20_tv_beta_0.5/' --model-motion '../../Models/cvpr2024_covis/CAMUS/vxm_CAMUS_2frame_covis_alpha_0.04_wse_20_tv_beta_0.5/motion_0300.pt' --model-covis '../../Models/cvpr2024_covis/CAMUS/vxm_CAMUS_2frame_covis_alpha_0.04_wse_20_tv_beta_0.5/covis_0300.pt' --inshape 128 128\n"
   ]
  },
  {
   "cell_type": "code",
   "execution_count": 2,
   "metadata": {},
   "outputs": [
    {
     "name": "stdout",
     "output_type": "stream",
     "text": [
      "python: can't open file 'voxelmorph_torch/test.py': [Errno 2] No such file or directory\n"
     ]
    }
   ],
   "source": [
    "!python voxelmorph_torch/test.py --dataset 'CAMUS' --test-dir '../../Dataset/CAMUS/test/' --result-dir '../../Results/cvpr2024_covis/CAMUS/vxm_CAMUS_2frame_covis_alpha_0.04_wse_20_tv_beta_5/' --model-motion '../../Models/cvpr2024_covis/CAMUS/vxm_CAMUS_2frame_covis_alpha_0.04_wse_20_tv_beta_5/motion_0300.pt' --model-covis '../../Models/cvpr2024_covis/CAMUS/vxm_CAMUS_2frame_covis_alpha_0.04_wse_20_tv_beta_5/covis_0300.pt' --inshape 128 128\n"
   ]
  },
  {
   "cell_type": "code",
   "execution_count": 4,
   "metadata": {},
   "outputs": [
    {
     "name": "stdout",
     "output_type": "stream",
     "text": [
      "/home/xiaoranzhang/anaconda3/envs/optical_flow/lib/python3.6/site-packages/torch/nn/functional.py:3658: UserWarning: The default behavior for interpolate/upsample with float scale_factor changed in 1.6.0 to align with other frameworks/libraries, and now uses scale_factor directly, instead of relying on the computed output size. If you wish to restore the old behavior, please set recompute_scale_factor=True. See the documentation of nn.Upsample for details. \n",
      "  \"The default behavior for interpolate/upsample with float scale_factor changed \"\n"
     ]
    }
   ],
   "source": [
    "!python voxelmorph_torch/test.py --dataset 'CAMUS' --test-dir '../../Dataset/CAMUS/test/' --result-dir '../../Results/cvpr2024_covis/CAMUS/vxm_CAMUS_2frame_covis_alpha_0.04_wse_20_tv_beta_2.5/' --model-motion '../../Models/cvpr2024_covis/CAMUS/vxm_CAMUS_2frame_covis_alpha_0.04_wse_20_tv_beta_2.5/motion_0300.pt' --model-covis '../../Models/cvpr2024_covis/CAMUS/vxm_CAMUS_2frame_covis_alpha_0.04_wse_20_tv_beta_2.5/covis_0300.pt' --inshape 128 128\n"
   ]
  },
  {
   "cell_type": "code",
   "execution_count": 5,
   "metadata": {},
   "outputs": [
    {
     "name": "stdout",
     "output_type": "stream",
     "text": [
      "/home/xiaoranzhang/anaconda3/envs/optical_flow/lib/python3.6/site-packages/torch/nn/functional.py:3658: UserWarning: The default behavior for interpolate/upsample with float scale_factor changed in 1.6.0 to align with other frameworks/libraries, and now uses scale_factor directly, instead of relying on the computed output size. If you wish to restore the old behavior, please set recompute_scale_factor=True. See the documentation of nn.Upsample for details. \n",
      "  \"The default behavior for interpolate/upsample with float scale_factor changed \"\n"
     ]
    }
   ],
   "source": [
    "!python voxelmorph_torch/test.py --dataset 'CAMUS' --test-dir '../../Dataset/CAMUS/test/' --result-dir '../../Results/cvpr2024_covis/CAMUS/vxm_CAMUS_2frame_covis_alpha_0.04_wse_20_tv_beta_7.5/' --model-motion '../../Models/cvpr2024_covis/CAMUS/vxm_CAMUS_2frame_covis_alpha_0.04_wse_20_tv_beta_7.5/motion_0300.pt' --model-covis '../../Models/cvpr2024_covis/CAMUS/vxm_CAMUS_2frame_covis_alpha_0.04_wse_20_tv_beta_7.5/covis_0300.pt' --inshape 128 128\n"
   ]
  },
  {
   "cell_type": "code",
   "execution_count": 6,
   "metadata": {},
   "outputs": [
    {
     "name": "stdout",
     "output_type": "stream",
     "text": [
      "/home/xiaoranzhang/anaconda3/envs/optical_flow/lib/python3.6/site-packages/torch/nn/functional.py:3658: UserWarning: The default behavior for interpolate/upsample with float scale_factor changed in 1.6.0 to align with other frameworks/libraries, and now uses scale_factor directly, instead of relying on the computed output size. If you wish to restore the old behavior, please set recompute_scale_factor=True. See the documentation of nn.Upsample for details. \n",
      "  \"The default behavior for interpolate/upsample with float scale_factor changed \"\n"
     ]
    }
   ],
   "source": [
    "!python voxelmorph_torch/test.py --dataset 'CAMUS' --test-dir '../../Dataset/CAMUS/test/' --result-dir '../../Results/cvpr2024_covis/CAMUS/vxm_CAMUS_2frame_covis_alpha_0.04_wse_20_tv_adabeta_0.1/' --model-motion '../../Models/cvpr2024_covis/CAMUS/vxm_CAMUS_2frame_covis_alpha_0.04_wse_20_tv_adabeta_0.1/motion_0300.pt' --model-covis '../../Models/cvpr2024_covis/CAMUS/vxm_CAMUS_2frame_covis_alpha_0.04_wse_20_tv_adabeta_0.1/covis_0300.pt' --inshape 128 128\n"
   ]
  },
  {
   "cell_type": "code",
   "execution_count": 8,
   "metadata": {},
   "outputs": [
    {
     "name": "stdout",
     "output_type": "stream",
     "text": [
      "/home/xiaoranzhang/anaconda3/envs/optical_flow/lib/python3.6/site-packages/torch/nn/functional.py:3658: UserWarning: The default behavior for interpolate/upsample with float scale_factor changed in 1.6.0 to align with other frameworks/libraries, and now uses scale_factor directly, instead of relying on the computed output size. If you wish to restore the old behavior, please set recompute_scale_factor=True. See the documentation of nn.Upsample for details. \n",
      "  \"The default behavior for interpolate/upsample with float scale_factor changed \"\n"
     ]
    }
   ],
   "source": [
    "!python voxelmorph_torch/test.py --dataset 'CAMUS' --test-dir '../../Dataset/CAMUS/test/' --result-dir '../../Results/cvpr2024_covis/CAMUS/vxm_CAMUS_2frame_covis_alpha_0.04_wse_20_tv_adabeta_0.5/' --model-motion '../../Models/cvpr2024_covis/CAMUS/vxm_CAMUS_2frame_covis_alpha_0.04_wse_20_tv_adabeta_0.5/motion_0300.pt' --model-covis '../../Models/cvpr2024_covis/CAMUS/vxm_CAMUS_2frame_covis_alpha_0.04_wse_20_tv_adabeta_0.5/covis_0300.pt' --inshape 128 128\n"
   ]
  },
  {
   "cell_type": "code",
   "execution_count": 7,
   "metadata": {},
   "outputs": [
    {
     "name": "stdout",
     "output_type": "stream",
     "text": [
      "/home/xiaoranzhang/anaconda3/envs/optical_flow/lib/python3.6/site-packages/torch/nn/functional.py:3658: UserWarning: The default behavior for interpolate/upsample with float scale_factor changed in 1.6.0 to align with other frameworks/libraries, and now uses scale_factor directly, instead of relying on the computed output size. If you wish to restore the old behavior, please set recompute_scale_factor=True. See the documentation of nn.Upsample for details. \n",
      "  \"The default behavior for interpolate/upsample with float scale_factor changed \"\n"
     ]
    }
   ],
   "source": [
    "!python voxelmorph_torch/test.py --dataset 'CAMUS' --test-dir '../../Dataset/CAMUS/test/' --result-dir '../../Results/cvpr2024_covis/CAMUS/vxm_CAMUS_2frame_covis_alpha_0.04_wse_20_tv_adabeta_1/' --model-motion '../../Models/cvpr2024_covis/CAMUS/vxm_CAMUS_2frame_covis_alpha_0.04_wse_20_tv_adabeta_1/motion_0300.pt' --model-covis '../../Models/cvpr2024_covis/CAMUS/vxm_CAMUS_2frame_covis_alpha_0.04_wse_20_tv_adabeta_1/covis_0300.pt' --inshape 128 128\n"
   ]
  },
  {
   "cell_type": "code",
   "execution_count": 9,
   "metadata": {},
   "outputs": [
    {
     "name": "stdout",
     "output_type": "stream",
     "text": [
      "/home/xiaoranzhang/anaconda3/envs/optical_flow/lib/python3.6/site-packages/torch/nn/functional.py:3658: UserWarning: The default behavior for interpolate/upsample with float scale_factor changed in 1.6.0 to align with other frameworks/libraries, and now uses scale_factor directly, instead of relying on the computed output size. If you wish to restore the old behavior, please set recompute_scale_factor=True. See the documentation of nn.Upsample for details. \n",
      "  \"The default behavior for interpolate/upsample with float scale_factor changed \"\n"
     ]
    }
   ],
   "source": [
    "!python voxelmorph_torch/test.py --dataset 'CAMUS' --test-dir '../../Dataset/CAMUS/test/' --result-dir '../../Results/cvpr2024_covis/CAMUS/vxm_CAMUS_2frame_covis_alpha_0.04_wse_20_tv_adabeta_2.5/' --model-motion '../../Models/cvpr2024_covis/CAMUS/vxm_CAMUS_2frame_covis_alpha_0.04_wse_20_tv_adabeta_2.5/motion_0300.pt' --model-covis '../../Models/cvpr2024_covis/CAMUS/vxm_CAMUS_2frame_covis_alpha_0.04_wse_20_tv_adabeta_2.5/covis_0300.pt' --inshape 128 128\n"
   ]
  },
  {
   "cell_type": "code",
   "execution_count": 10,
   "metadata": {},
   "outputs": [
    {
     "name": "stdout",
     "output_type": "stream",
     "text": [
      "/home/xiaoranzhang/anaconda3/envs/optical_flow/lib/python3.6/site-packages/torch/nn/functional.py:3658: UserWarning: The default behavior for interpolate/upsample with float scale_factor changed in 1.6.0 to align with other frameworks/libraries, and now uses scale_factor directly, instead of relying on the computed output size. If you wish to restore the old behavior, please set recompute_scale_factor=True. See the documentation of nn.Upsample for details. \n",
      "  \"The default behavior for interpolate/upsample with float scale_factor changed \"\n"
     ]
    }
   ],
   "source": [
    "!python voxelmorph_torch/test.py --dataset 'CAMUS' --test-dir '../../Dataset/CAMUS/test/' --result-dir '../../Results/cvpr2024_covis/CAMUS/vxm_CAMUS_2frame_covis_alpha_0.04_wse_20_tv_adabeta_5/' --model-motion '../../Models/cvpr2024_covis/CAMUS/vxm_CAMUS_2frame_covis_alpha_0.04_wse_20_tv_adabeta_5/motion_0300.pt' --model-covis '../../Models/cvpr2024_covis/CAMUS/vxm_CAMUS_2frame_covis_alpha_0.04_wse_20_tv_adabeta_5/covis_0300.pt' --inshape 128 128\n"
   ]
  },
  {
   "cell_type": "code",
   "execution_count": 14,
   "metadata": {},
   "outputs": [
    {
     "name": "stdout",
     "output_type": "stream",
     "text": [
      "/home/xiaoranzhang/anaconda3/envs/optical_flow/lib/python3.6/site-packages/torch/nn/functional.py:3658: UserWarning: The default behavior for interpolate/upsample with float scale_factor changed in 1.6.0 to align with other frameworks/libraries, and now uses scale_factor directly, instead of relying on the computed output size. If you wish to restore the old behavior, please set recompute_scale_factor=True. See the documentation of nn.Upsample for details. \n",
      "  \"The default behavior for interpolate/upsample with float scale_factor changed \"\n"
     ]
    }
   ],
   "source": [
    "!python voxelmorph_torch/test.py --dataset 'CAMUS' --test-dir '../../Dataset/CAMUS/test/' --result-dir '../../Results/cvpr2024_covis/CAMUS/vxm_CAMUS_2frame_covis_alpha_0.04_wse_20_tv_adabeta_1.5/' --model-motion '../../Models/cvpr2024_covis/CAMUS/vxm_CAMUS_2frame_covis_alpha_0.04_wse_20_tv_adabeta_1.5/motion_0300.pt' --model-covis '../../Models/cvpr2024_covis/CAMUS/vxm_CAMUS_2frame_covis_alpha_0.04_wse_20_tv_adabeta_1.5/covis_0300.pt' --inshape 128 128\n"
   ]
  },
  {
   "cell_type": "code",
   "execution_count": 2,
   "metadata": {},
   "outputs": [
    {
     "name": "stdout",
     "output_type": "stream",
     "text": [
      "/home/xiaoranzhang/anaconda3/envs/optical_flow/lib/python3.6/site-packages/torch/nn/functional.py:3658: UserWarning: The default behavior for interpolate/upsample with float scale_factor changed in 1.6.0 to align with other frameworks/libraries, and now uses scale_factor directly, instead of relying on the computed output size. If you wish to restore the old behavior, please set recompute_scale_factor=True. See the documentation of nn.Upsample for details. \n",
      "  \"The default behavior for interpolate/upsample with float scale_factor changed \"\n"
     ]
    }
   ],
   "source": [
    "!python voxelmorph_torch/test.py --dataset 'CAMUS' --test-dir '../../Dataset/CAMUS/test/' --result-dir '../../Results/cvpr2024_covis/CAMUS/vxm_CAMUS_2frame_covis_alpha_0.04_wse_20_tv_adabeta_1.5_nomut/' --model-motion '../../Models/cvpr2024_covis/CAMUS/vxm_CAMUS_2frame_covis_alpha_0.04_wse_20_tv_adabeta_1.5_nomut/motion_0300.pt' --model-covis '../../Models/cvpr2024_covis/CAMUS/vxm_CAMUS_2frame_covis_alpha_0.04_wse_20_tv_adabeta_1.5_nomut/covis_0300.pt' --inshape 128 128\n"
   ]
  },
  {
   "cell_type": "markdown",
   "metadata": {},
   "source": [
    "## Echo"
   ]
  },
  {
   "cell_type": "code",
   "execution_count": 5,
   "metadata": {},
   "outputs": [
    {
     "name": "stdout",
     "output_type": "stream",
     "text": [
      "/home/xiaoranzhang/anaconda3/envs/optical_flow/lib/python3.6/site-packages/torch/nn/functional.py:3658: UserWarning: The default behavior for interpolate/upsample with float scale_factor changed in 1.6.0 to align with other frameworks/libraries, and now uses scale_factor directly, instead of relying on the computed output size. If you wish to restore the old behavior, please set recompute_scale_factor=True. See the documentation of nn.Upsample for details. \n",
      "  \"The default behavior for interpolate/upsample with float scale_factor changed \"\n"
     ]
    }
   ],
   "source": [
    "!python voxelmorph_torch/test.py --dataset 'Echo' --test-dir '../../Dataset/Echo/test/' --result-dir '../../Results/cvpr2024_covis/Echo/vxm_Echo_2frame_covis_alpha_0.01/' --model-motion '../../Models/cvpr2024_covis/Echo/vxm_Echo_2frame_covis_alpha_0.01/motion_0150.pt' --model-covis '../../Models/cvpr2024_covis/Echo/vxm_Echo_2frame_covis_alpha_0.01/covis_0150.pt' --inshape 64 64 64\n"
   ]
  },
  {
   "cell_type": "code",
   "execution_count": 2,
   "metadata": {},
   "outputs": [
    {
     "name": "stdout",
     "output_type": "stream",
     "text": [
      "/home/xiaoranzhang/anaconda3/envs/optical_flow/lib/python3.6/site-packages/torch/nn/functional.py:3658: UserWarning: The default behavior for interpolate/upsample with float scale_factor changed in 1.6.0 to align with other frameworks/libraries, and now uses scale_factor directly, instead of relying on the computed output size. If you wish to restore the old behavior, please set recompute_scale_factor=True. See the documentation of nn.Upsample for details. \n",
      "  \"The default behavior for interpolate/upsample with float scale_factor changed \"\n"
     ]
    }
   ],
   "source": [
    "!python voxelmorph_torch/test.py --dataset 'Echo' --test-dir '../../Dataset/Echo/test/' --result-dir '../../Results/cvpr2024_covis/Echo/vxm_Echo_2frame_covis_alpha_0.025/' --model-motion '../../Models/cvpr2024_covis/Echo/vxm_Echo_2frame_covis_alpha_0.025/motion_0150.pt' --model-covis '../../Models/cvpr2024_covis/Echo/vxm_Echo_2frame_covis_alpha_0.025/covis_0150.pt' --inshape 64 64 64\n"
   ]
  },
  {
   "cell_type": "code",
   "execution_count": 6,
   "metadata": {},
   "outputs": [
    {
     "name": "stdout",
     "output_type": "stream",
     "text": [
      "/home/xiaoranzhang/anaconda3/envs/optical_flow/lib/python3.6/site-packages/torch/nn/functional.py:3658: UserWarning: The default behavior for interpolate/upsample with float scale_factor changed in 1.6.0 to align with other frameworks/libraries, and now uses scale_factor directly, instead of relying on the computed output size. If you wish to restore the old behavior, please set recompute_scale_factor=True. See the documentation of nn.Upsample for details. \n",
      "  \"The default behavior for interpolate/upsample with float scale_factor changed \"\n"
     ]
    }
   ],
   "source": [
    "!python voxelmorph_torch/test.py --dataset 'Echo' --test-dir '../../Dataset/Echo/test/' --result-dir '../../Results/cvpr2024_covis/Echo/vxm_Echo_2frame_covis_alpha_0.02_wse_10/' --model-motion '../../Models/cvpr2024_covis/Echo/vxm_Echo_2frame_covis_alpha_0.02_wse_10/motion_0150.pt' --model-covis '../../Models/cvpr2024_covis/Echo/vxm_Echo_2frame_covis_alpha_0.02_wse_10/covis_0150.pt' --inshape 64 64 64\n"
   ]
  },
  {
   "cell_type": "code",
   "execution_count": 6,
   "metadata": {},
   "outputs": [
    {
     "name": "stdout",
     "output_type": "stream",
     "text": [
      "/home/xiaoranzhang/anaconda3/envs/optical_flow/lib/python3.6/site-packages/torch/nn/functional.py:3658: UserWarning: The default behavior for interpolate/upsample with float scale_factor changed in 1.6.0 to align with other frameworks/libraries, and now uses scale_factor directly, instead of relying on the computed output size. If you wish to restore the old behavior, please set recompute_scale_factor=True. See the documentation of nn.Upsample for details. \n",
      "  \"The default behavior for interpolate/upsample with float scale_factor changed \"\n"
     ]
    }
   ],
   "source": [
    "!python voxelmorph_torch/test.py --dataset 'Echo' --test-dir '../../Dataset/Echo/test/' --result-dir '../../Results/cvpr2024_covis/Echo/vxm_Echo_2frame_covis_alpha_0.02_wse_10_tv_beta_0.1/' --model-motion '../../Models/cvpr2024_covis/Echo/vxm_Echo_2frame_covis_alpha_0.02_wse_10_tv_beta_0.1/motion_0150.pt' --model-covis '../../Models/cvpr2024_covis/Echo/vxm_Echo_2frame_covis_alpha_0.02_wse_10_tv_beta_0.1/covis_0150.pt' --inshape 64 64 64\n"
   ]
  },
  {
   "cell_type": "code",
   "execution_count": 7,
   "metadata": {},
   "outputs": [
    {
     "name": "stdout",
     "output_type": "stream",
     "text": [
      "/home/xiaoranzhang/anaconda3/envs/optical_flow/lib/python3.6/site-packages/torch/nn/functional.py:3658: UserWarning: The default behavior for interpolate/upsample with float scale_factor changed in 1.6.0 to align with other frameworks/libraries, and now uses scale_factor directly, instead of relying on the computed output size. If you wish to restore the old behavior, please set recompute_scale_factor=True. See the documentation of nn.Upsample for details. \n",
      "  \"The default behavior for interpolate/upsample with float scale_factor changed \"\n"
     ]
    }
   ],
   "source": [
    "!python voxelmorph_torch/test.py --dataset 'Echo' --test-dir '../../Dataset/Echo/test/' --result-dir '../../Results/cvpr2024_covis/Echo/vxm_Echo_2frame_covis_alpha_0.02_wse_10_tv_beta_1/' --model-motion '../../Models/cvpr2024_covis/Echo/vxm_Echo_2frame_covis_alpha_0.02_wse_10_tv_beta_1/motion_0150.pt' --model-covis '../../Models/cvpr2024_covis/Echo/vxm_Echo_2frame_covis_alpha_0.02_wse_10_tv_beta_1/covis_0150.pt' --inshape 64 64 64\n"
   ]
  },
  {
   "cell_type": "code",
   "execution_count": 8,
   "metadata": {},
   "outputs": [
    {
     "name": "stdout",
     "output_type": "stream",
     "text": [
      "/home/xiaoranzhang/anaconda3/envs/optical_flow/lib/python3.6/site-packages/torch/nn/functional.py:3658: UserWarning: The default behavior for interpolate/upsample with float scale_factor changed in 1.6.0 to align with other frameworks/libraries, and now uses scale_factor directly, instead of relying on the computed output size. If you wish to restore the old behavior, please set recompute_scale_factor=True. See the documentation of nn.Upsample for details. \n",
      "  \"The default behavior for interpolate/upsample with float scale_factor changed \"\n"
     ]
    }
   ],
   "source": [
    "!python voxelmorph_torch/test.py --dataset 'Echo' --test-dir '../../Dataset/Echo/test/' --result-dir '../../Results/cvpr2024_covis/Echo/vxm_Echo_2frame_covis_alpha_0.02_wse_10_tv_beta_5/' --model-motion '../../Models/cvpr2024_covis/Echo/vxm_Echo_2frame_covis_alpha_0.02_wse_10_tv_beta_5/motion_0150.pt' --model-covis '../../Models/cvpr2024_covis/Echo/vxm_Echo_2frame_covis_alpha_0.02_wse_10_tv_beta_5/covis_0150.pt' --inshape 64 64 64\n"
   ]
  },
  {
   "cell_type": "code",
   "execution_count": 9,
   "metadata": {},
   "outputs": [
    {
     "name": "stdout",
     "output_type": "stream",
     "text": [
      "/home/xiaoranzhang/anaconda3/envs/optical_flow/lib/python3.6/site-packages/torch/nn/functional.py:3658: UserWarning: The default behavior for interpolate/upsample with float scale_factor changed in 1.6.0 to align with other frameworks/libraries, and now uses scale_factor directly, instead of relying on the computed output size. If you wish to restore the old behavior, please set recompute_scale_factor=True. See the documentation of nn.Upsample for details. \n",
      "  \"The default behavior for interpolate/upsample with float scale_factor changed \"\n"
     ]
    }
   ],
   "source": [
    "!python voxelmorph_torch/test.py --dataset 'Echo' --test-dir '../../Dataset/Echo/test/' --result-dir '../../Results/cvpr2024_covis/Echo/vxm_Echo_2frame_covis_alpha_0.02_wse_10_tv_beta_10/' --model-motion '../../Models/cvpr2024_covis/Echo/vxm_Echo_2frame_covis_alpha_0.02_wse_10_tv_beta_10/motion_0150.pt' --model-covis '../../Models/cvpr2024_covis/Echo/vxm_Echo_2frame_covis_alpha_0.02_wse_10_tv_beta_10/covis_0150.pt' --inshape 64 64 64\n"
   ]
  },
  {
   "cell_type": "code",
   "execution_count": 10,
   "metadata": {},
   "outputs": [
    {
     "name": "stdout",
     "output_type": "stream",
     "text": [
      "/home/xiaoranzhang/anaconda3/envs/optical_flow/lib/python3.6/site-packages/torch/nn/functional.py:3658: UserWarning: The default behavior for interpolate/upsample with float scale_factor changed in 1.6.0 to align with other frameworks/libraries, and now uses scale_factor directly, instead of relying on the computed output size. If you wish to restore the old behavior, please set recompute_scale_factor=True. See the documentation of nn.Upsample for details. \n",
      "  \"The default behavior for interpolate/upsample with float scale_factor changed \"\n"
     ]
    }
   ],
   "source": [
    "!python voxelmorph_torch/test.py --dataset 'Echo' --test-dir '../../Dataset/Echo/test/' --result-dir '../../Results/cvpr2024_covis/Echo/vxm_Echo_2frame_covis_alpha_0.02_wse_10_tv_beta_2.5/' --model-motion '../../Models/cvpr2024_covis/Echo/vxm_Echo_2frame_covis_alpha_0.02_wse_10_tv_beta_2.5/motion_0150.pt' --model-covis '../../Models/cvpr2024_covis/Echo/vxm_Echo_2frame_covis_alpha_0.02_wse_10_tv_beta_2.5/covis_0150.pt' --inshape 64 64 64\n"
   ]
  },
  {
   "cell_type": "code",
   "execution_count": 11,
   "metadata": {},
   "outputs": [
    {
     "name": "stdout",
     "output_type": "stream",
     "text": [
      "/home/xiaoranzhang/anaconda3/envs/optical_flow/lib/python3.6/site-packages/torch/nn/functional.py:3658: UserWarning: The default behavior for interpolate/upsample with float scale_factor changed in 1.6.0 to align with other frameworks/libraries, and now uses scale_factor directly, instead of relying on the computed output size. If you wish to restore the old behavior, please set recompute_scale_factor=True. See the documentation of nn.Upsample for details. \n",
      "  \"The default behavior for interpolate/upsample with float scale_factor changed \"\n"
     ]
    }
   ],
   "source": [
    "!python voxelmorph_torch/test.py --dataset 'Echo' --test-dir '../../Dataset/Echo/test/' --result-dir '../../Results/cvpr2024_covis/Echo/vxm_Echo_2frame_covis_alpha_0.02_wse_10_tv_beta_3/' --model-motion '../../Models/cvpr2024_covis/Echo/vxm_Echo_2frame_covis_alpha_0.02_wse_10_tv_beta_3/motion_0150.pt' --model-covis '../../Models/cvpr2024_covis/Echo/vxm_Echo_2frame_covis_alpha_0.02_wse_10_tv_beta_3/covis_0150.pt' --inshape 64 64 64\n"
   ]
  },
  {
   "cell_type": "code",
   "execution_count": 12,
   "metadata": {},
   "outputs": [
    {
     "name": "stdout",
     "output_type": "stream",
     "text": [
      "/home/xiaoranzhang/anaconda3/envs/optical_flow/lib/python3.6/site-packages/torch/nn/functional.py:3658: UserWarning: The default behavior for interpolate/upsample with float scale_factor changed in 1.6.0 to align with other frameworks/libraries, and now uses scale_factor directly, instead of relying on the computed output size. If you wish to restore the old behavior, please set recompute_scale_factor=True. See the documentation of nn.Upsample for details. \n",
      "  \"The default behavior for interpolate/upsample with float scale_factor changed \"\n"
     ]
    }
   ],
   "source": [
    "!python voxelmorph_torch/test.py --dataset 'Echo' --test-dir '../../Dataset/Echo/test/' --result-dir '../../Results/cvpr2024_covis/Echo/vxm_Echo_2frame_covis_alpha_0.02_wse_10_tv_beta_4/' --model-motion '../../Models/cvpr2024_covis/Echo/vxm_Echo_2frame_covis_alpha_0.02_wse_10_tv_beta_4/motion_0150.pt' --model-covis '../../Models/cvpr2024_covis/Echo/vxm_Echo_2frame_covis_alpha_0.02_wse_10_tv_beta_4/covis_0150.pt' --inshape 64 64 64\n"
   ]
  },
  {
   "cell_type": "code",
   "execution_count": 11,
   "metadata": {},
   "outputs": [
    {
     "name": "stdout",
     "output_type": "stream",
     "text": [
      "/home/xiaoranzhang/anaconda3/envs/optical_flow/lib/python3.6/site-packages/torch/nn/functional.py:3658: UserWarning: The default behavior for interpolate/upsample with float scale_factor changed in 1.6.0 to align with other frameworks/libraries, and now uses scale_factor directly, instead of relying on the computed output size. If you wish to restore the old behavior, please set recompute_scale_factor=True. See the documentation of nn.Upsample for details. \n",
      "  \"The default behavior for interpolate/upsample with float scale_factor changed \"\n"
     ]
    }
   ],
   "source": [
    "!python voxelmorph_torch/test.py --dataset 'Echo' --test-dir '../../Dataset/Echo/test/' --result-dir '../../Results/cvpr2024_covis/Echo/vxm_Echo_2frame_covis_alpha_0.02_wse_10_tv_adabeta_0.5/' --model-motion '../../Models/cvpr2024_covis/Echo/vxm_Echo_2frame_covis_alpha_0.02_wse_10_tv_adabeta_0.5/motion_0150.pt' --model-covis '../../Models/cvpr2024_covis/Echo/vxm_Echo_2frame_covis_alpha_0.02_wse_10_tv_adabeta_0.5/covis_0150.pt' --inshape 64 64 64\n"
   ]
  },
  {
   "cell_type": "code",
   "execution_count": 12,
   "metadata": {},
   "outputs": [
    {
     "name": "stdout",
     "output_type": "stream",
     "text": [
      "/home/xiaoranzhang/anaconda3/envs/optical_flow/lib/python3.6/site-packages/torch/nn/functional.py:3658: UserWarning: The default behavior for interpolate/upsample with float scale_factor changed in 1.6.0 to align with other frameworks/libraries, and now uses scale_factor directly, instead of relying on the computed output size. If you wish to restore the old behavior, please set recompute_scale_factor=True. See the documentation of nn.Upsample for details. \n",
      "  \"The default behavior for interpolate/upsample with float scale_factor changed \"\n"
     ]
    }
   ],
   "source": [
    "!python voxelmorph_torch/test.py --dataset 'Echo' --test-dir '../../Dataset/Echo/test/' --result-dir '../../Results/cvpr2024_covis/Echo/vxm_Echo_2frame_covis_alpha_0.02_wse_10_tv_adabeta_0.1/' --model-motion '../../Models/cvpr2024_covis/Echo/vxm_Echo_2frame_covis_alpha_0.02_wse_10_tv_adabeta_0.1/motion_0150.pt' --model-covis '../../Models/cvpr2024_covis/Echo/vxm_Echo_2frame_covis_alpha_0.02_wse_10_tv_adabeta_0.1/covis_0150.pt' --inshape 64 64 64\n"
   ]
  },
  {
   "cell_type": "code",
   "execution_count": 13,
   "metadata": {},
   "outputs": [
    {
     "name": "stdout",
     "output_type": "stream",
     "text": [
      "/home/xiaoranzhang/anaconda3/envs/optical_flow/lib/python3.6/site-packages/torch/nn/functional.py:3658: UserWarning: The default behavior for interpolate/upsample with float scale_factor changed in 1.6.0 to align with other frameworks/libraries, and now uses scale_factor directly, instead of relying on the computed output size. If you wish to restore the old behavior, please set recompute_scale_factor=True. See the documentation of nn.Upsample for details. \n",
      "  \"The default behavior for interpolate/upsample with float scale_factor changed \"\n"
     ]
    }
   ],
   "source": [
    "!python voxelmorph_torch/test.py --dataset 'Echo' --test-dir '../../Dataset/Echo/test/' --result-dir '../../Results/cvpr2024_covis/Echo/vxm_Echo_2frame_covis_alpha_0.02_wse_10_tv_adabeta_2.5/' --model-motion '../../Models/cvpr2024_covis/Echo/vxm_Echo_2frame_covis_alpha_0.02_wse_10_tv_adabeta_2.5/motion_0150.pt' --model-covis '../../Models/cvpr2024_covis/Echo/vxm_Echo_2frame_covis_alpha_0.02_wse_10_tv_adabeta_2.5/covis_0150.pt' --inshape 64 64 64\n"
   ]
  },
  {
   "cell_type": "code",
   "execution_count": 15,
   "metadata": {},
   "outputs": [
    {
     "name": "stdout",
     "output_type": "stream",
     "text": [
      "/home/xiaoranzhang/anaconda3/envs/optical_flow/lib/python3.6/site-packages/torch/nn/functional.py:3658: UserWarning: The default behavior for interpolate/upsample with float scale_factor changed in 1.6.0 to align with other frameworks/libraries, and now uses scale_factor directly, instead of relying on the computed output size. If you wish to restore the old behavior, please set recompute_scale_factor=True. See the documentation of nn.Upsample for details. \n",
      "  \"The default behavior for interpolate/upsample with float scale_factor changed \"\n",
      "^C\n"
     ]
    }
   ],
   "source": [
    "!python voxelmorph_torch/test.py --dataset 'Echo' --test-dir '../../Dataset/Echo/test/' --result-dir '../../Results/cvpr2024_covis/Echo/vxm_Echo_2frame_covis_alpha_0.02_wse_10_tv_adabeta_0.3/' --model-motion '../../Models/cvpr2024_covis/Echo/vxm_Echo_2frame_covis_alpha_0.02_wse_10_tv_adabeta_0.3/motion_0150.pt' --model-covis '../../Models/cvpr2024_covis/Echo/vxm_Echo_2frame_covis_alpha_0.02_wse_10_tv_adabeta_0.3/covis_0150.pt' --inshape 64 64 64\n"
   ]
  },
  {
   "cell_type": "code",
   "execution_count": 16,
   "metadata": {},
   "outputs": [
    {
     "name": "stdout",
     "output_type": "stream",
     "text": [
      "/home/xiaoranzhang/anaconda3/envs/optical_flow/lib/python3.6/site-packages/torch/nn/functional.py:3658: UserWarning: The default behavior for interpolate/upsample with float scale_factor changed in 1.6.0 to align with other frameworks/libraries, and now uses scale_factor directly, instead of relying on the computed output size. If you wish to restore the old behavior, please set recompute_scale_factor=True. See the documentation of nn.Upsample for details. \n",
      "  \"The default behavior for interpolate/upsample with float scale_factor changed \"\n"
     ]
    }
   ],
   "source": [
    "!python voxelmorph_torch/test.py --dataset 'Echo' --test-dir '../../Dataset/Echo/test/' --result-dir '../../Results/cvpr2024_covis/Echo/vxm_Echo_2frame_covis_alpha_0.02_wse_10_tv_adabeta_0.4/' --model-motion '../../Models/cvpr2024_covis/Echo/vxm_Echo_2frame_covis_alpha_0.02_wse_10_tv_adabeta_0.4/motion_0150.pt' --model-covis '../../Models/cvpr2024_covis/Echo/vxm_Echo_2frame_covis_alpha_0.02_wse_10_tv_adabeta_0.4/covis_0150.pt' --inshape 64 64 64\n"
   ]
  },
  {
   "cell_type": "code",
   "execution_count": 4,
   "metadata": {},
   "outputs": [
    {
     "name": "stdout",
     "output_type": "stream",
     "text": [
      "/home/xiaoranzhang/anaconda3/envs/optical_flow/lib/python3.6/site-packages/torch/nn/functional.py:3658: UserWarning: The default behavior for interpolate/upsample with float scale_factor changed in 1.6.0 to align with other frameworks/libraries, and now uses scale_factor directly, instead of relying on the computed output size. If you wish to restore the old behavior, please set recompute_scale_factor=True. See the documentation of nn.Upsample for details. \n",
      "  \"The default behavior for interpolate/upsample with float scale_factor changed \"\n"
     ]
    }
   ],
   "source": [
    "!python voxelmorph_torch/test.py --dataset 'Echo' --test-dir '../../Dataset/Echo/test/' --result-dir '../../Results/cvpr2024_covis/Echo/vxm_Echo_2frame_covis_alpha_0.02_wse_10_tv_adabeta_2/' --model-motion '../../Models/cvpr2024_covis/Echo/vxm_Echo_2frame_covis_alpha_0.02_wse_10_tv_adabeta_2/motion_0150.pt' --model-covis '../../Models/cvpr2024_covis/Echo/vxm_Echo_2frame_covis_alpha_0.02_wse_10_tv_adabeta_2/covis_0150.pt' --inshape 64 64 64\n"
   ]
  },
  {
   "cell_type": "code",
   "execution_count": 5,
   "metadata": {},
   "outputs": [
    {
     "name": "stdout",
     "output_type": "stream",
     "text": [
      "/home/xiaoranzhang/anaconda3/envs/optical_flow/lib/python3.6/site-packages/torch/nn/functional.py:3658: UserWarning: The default behavior for interpolate/upsample with float scale_factor changed in 1.6.0 to align with other frameworks/libraries, and now uses scale_factor directly, instead of relying on the computed output size. If you wish to restore the old behavior, please set recompute_scale_factor=True. See the documentation of nn.Upsample for details. \n",
      "  \"The default behavior for interpolate/upsample with float scale_factor changed \"\n"
     ]
    }
   ],
   "source": [
    "!python voxelmorph_torch/test.py --dataset 'Echo' --test-dir '../../Dataset/Echo/test/' --result-dir '../../Results/cvpr2024_covis/Echo/vxm_Echo_2frame_covis_alpha_0.02_wse_10_tv_adabeta_3/' --model-motion '../../Models/cvpr2024_covis/Echo/vxm_Echo_2frame_covis_alpha_0.02_wse_10_tv_adabeta_3/motion_0150.pt' --model-covis '../../Models/cvpr2024_covis/Echo/vxm_Echo_2frame_covis_alpha_0.02_wse_10_tv_adabeta_3/covis_0150.pt' --inshape 64 64 64\n"
   ]
  },
  {
   "cell_type": "code",
   "execution_count": null,
   "metadata": {},
   "outputs": [],
   "source": []
  }
 ],
 "metadata": {
  "kernelspec": {
   "display_name": "optical_flow",
   "language": "python",
   "name": "python3"
  },
  "language_info": {
   "codemirror_mode": {
    "name": "ipython",
    "version": 3
   },
   "file_extension": ".py",
   "mimetype": "text/x-python",
   "name": "python",
   "nbconvert_exporter": "python",
   "pygments_lexer": "ipython3",
   "version": "3.6.13"
  }
 },
 "nbformat": 4,
 "nbformat_minor": 2
}
