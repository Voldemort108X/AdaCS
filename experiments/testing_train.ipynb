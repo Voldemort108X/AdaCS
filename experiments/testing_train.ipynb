{
 "cells": [
  {
   "cell_type": "code",
   "execution_count": 2,
   "metadata": {},
   "outputs": [
    {
     "name": "stdout",
     "output_type": "stream",
     "text": [
      "/mnt/d/XiaoranZhang/Projects/Optical_flow/Code/cvpr2024_covis\n"
     ]
    }
   ],
   "source": [
    "# (Restart the kernel if you want to rerun the cell) move up current working directory\n",
    "import os\n",
    "os.chdir('../')\n",
    "print(os.getcwd())"
   ]
  },
  {
   "cell_type": "markdown",
   "metadata": {},
   "source": [
    "# Voxelmorph"
   ]
  },
  {
   "cell_type": "markdown",
   "metadata": {},
   "source": [
    "## ACDC"
   ]
  },
  {
   "cell_type": "code",
   "execution_count": 2,
   "metadata": {},
   "outputs": [
    {
     "name": "stdout",
     "output_type": "stream",
     "text": [
      "/home/xiaoranzhang/anaconda3/envs/optical_flow/lib/python3.6/site-packages/torch/nn/functional.py:3658: UserWarning: The default behavior for interpolate/upsample with float scale_factor changed in 1.6.0 to align with other frameworks/libraries, and now uses scale_factor directly, instead of relying on the computed output size. If you wish to restore the old behavior, please set recompute_scale_factor=True. See the documentation of nn.Upsample for details. \n",
      "  \"The default behavior for interpolate/upsample with float scale_factor changed \"\n"
     ]
    }
   ],
   "source": [
    "!python voxelmorph_torch/test.py --dataset 'ACDC' --test-dir '../../Dataset/ACDC/val/' --result-dir '../../Results/cvpr2024_covis/ACDC/val_set_vxm_ACDC_2frame_covis_alpha_0.02_wse_20_tv_adabeta_1.5/' --model-motion '../../Models/cvpr2024_covis/ACDC/vxm_ACDC_2frame_covis_alpha_0.02_wse_20_tv_adabeta_1.5/motion_0300.pt' --model-covis '../../Models/cvpr2024_covis/ACDC/vxm_ACDC_2frame_covis_alpha_0.02_wse_20_tv_adabeta_1.5/covis_0300.pt' --inshape 128 128\n"
   ]
  },
  {
   "cell_type": "code",
   "execution_count": 4,
   "metadata": {},
   "outputs": [
    {
     "name": "stdout",
     "output_type": "stream",
     "text": [
      "/home/xiaoranzhang/anaconda3/envs/optical_flow/lib/python3.6/site-packages/torch/nn/functional.py:3658: UserWarning: The default behavior for interpolate/upsample with float scale_factor changed in 1.6.0 to align with other frameworks/libraries, and now uses scale_factor directly, instead of relying on the computed output size. If you wish to restore the old behavior, please set recompute_scale_factor=True. See the documentation of nn.Upsample for details. \n",
      "  \"The default behavior for interpolate/upsample with float scale_factor changed \"\n"
     ]
    }
   ],
   "source": [
    "!python voxelmorph_torch/test.py --dataset 'ACDC' --test-dir '../../Dataset/ACDC/val/' --result-dir '../../Results/cvpr2024_covis/ACDC/val_set_epoch280_vxm_ACDC_2frame_covis_alpha_0.02_wse_20_tv_adabeta_1.5/' --model-motion '../../Models/cvpr2024_covis/ACDC/vxm_ACDC_2frame_covis_alpha_0.02_wse_20_tv_adabeta_1.5/motion_0280.pt' --model-covis '../../Models/cvpr2024_covis/ACDC/vxm_ACDC_2frame_covis_alpha_0.02_wse_20_tv_adabeta_1.5/covis_0280.pt' --inshape 128 128\n"
   ]
  },
  {
   "cell_type": "markdown",
   "metadata": {},
   "source": [
    "## CAMUS"
   ]
  },
  {
   "cell_type": "code",
   "execution_count": 5,
   "metadata": {},
   "outputs": [
    {
     "name": "stdout",
     "output_type": "stream",
     "text": [
      "/home/xiaoranzhang/anaconda3/envs/optical_flow/lib/python3.6/site-packages/torch/nn/functional.py:3658: UserWarning: The default behavior for interpolate/upsample with float scale_factor changed in 1.6.0 to align with other frameworks/libraries, and now uses scale_factor directly, instead of relying on the computed output size. If you wish to restore the old behavior, please set recompute_scale_factor=True. See the documentation of nn.Upsample for details. \n",
      "  \"The default behavior for interpolate/upsample with float scale_factor changed \"\n"
     ]
    }
   ],
   "source": [
    "!python voxelmorph_torch/test.py --dataset 'CAMUS' --test-dir '../../Dataset/CAMUS/val/' --result-dir '../../Results/cvpr2024_covis/CAMUS/val_set_vxm_CAMUS_2frame_covis_alpha_0.04_wse_20_tv_adabeta_1.5/' --model-motion '../../Models/cvpr2024_covis/CAMUS/vxm_CAMUS_2frame_covis_alpha_0.04_wse_20_tv_adabeta_1.5/motion_0300.pt' --model-covis '../../Models/cvpr2024_covis/CAMUS/vxm_CAMUS_2frame_covis_alpha_0.04_wse_20_tv_adabeta_1.5/covis_0300.pt' --inshape 128 128\n"
   ]
  },
  {
   "cell_type": "markdown",
   "metadata": {},
   "source": [
    "## echo"
   ]
  },
  {
   "cell_type": "code",
   "execution_count": 3,
   "metadata": {},
   "outputs": [
    {
     "name": "stdout",
     "output_type": "stream",
     "text": [
      "/home/xiaoranzhang/anaconda3/envs/optical_flow/lib/python3.6/site-packages/torch/nn/functional.py:3658: UserWarning: The default behavior for interpolate/upsample with float scale_factor changed in 1.6.0 to align with other frameworks/libraries, and now uses scale_factor directly, instead of relying on the computed output size. If you wish to restore the old behavior, please set recompute_scale_factor=True. See the documentation of nn.Upsample for details. \n",
      "  \"The default behavior for interpolate/upsample with float scale_factor changed \"\n"
     ]
    }
   ],
   "source": [
    "!python voxelmorph_torch/test_resize.py --dataset 'Echo' --test-dir '../../Dataset/Echo/val/' --result-dir '../../Results/cvpr2024_covis/Echo/val_set_vxm_Echo_2frame_covis_alpha_0.02_wse_10_tv_adabeta_0.4_resize/' --model-motion '../../Models/cvpr2024_covis/Echo/vxm_Echo_2frame_covis_alpha_0.02_wse_10_tv_adabeta_0.4/motion_0150.pt' --model-covis '../../Models/cvpr2024_covis/Echo/vxm_Echo_2frame_covis_alpha_0.02_wse_10_tv_adabeta_0.4/covis_0150.pt' --inshape 64 64 64\n"
   ]
  },
  {
   "cell_type": "markdown",
   "metadata": {},
   "source": [
    "# Transmorph"
   ]
  },
  {
   "cell_type": "code",
   "execution_count": null,
   "metadata": {},
   "outputs": [],
   "source": []
  },
  {
   "cell_type": "markdown",
   "metadata": {},
   "source": [
    "# Diffusemorph"
   ]
  },
  {
   "cell_type": "code",
   "execution_count": null,
   "metadata": {},
   "outputs": [],
   "source": []
  }
 ],
 "metadata": {
  "kernelspec": {
   "display_name": "optical_flow",
   "language": "python",
   "name": "python3"
  },
  "language_info": {
   "codemirror_mode": {
    "name": "ipython",
    "version": 3
   },
   "file_extension": ".py",
   "mimetype": "text/x-python",
   "name": "python",
   "nbconvert_exporter": "python",
   "pygments_lexer": "ipython3",
   "version": "3.6.13"
  }
 },
 "nbformat": 4,
 "nbformat_minor": 2
}
