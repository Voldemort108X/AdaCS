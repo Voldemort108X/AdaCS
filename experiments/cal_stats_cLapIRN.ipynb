{
 "cells": [
  {
   "cell_type": "code",
   "execution_count": 1,
   "metadata": {},
   "outputs": [
    {
     "name": "stdout",
     "output_type": "stream",
     "text": [
      "/mnt/d/XiaoranZhang/Projects/Optical_flow/Code/cvpr2024_covis\n"
     ]
    }
   ],
   "source": [
    "# (Restart the kernel if you want to rerun the cell) move up current working directory\n",
    "import os\n",
    "os.chdir('../')\n",
    "print(os.getcwd())"
   ]
  },
  {
   "cell_type": "code",
   "execution_count": 2,
   "metadata": {},
   "outputs": [
    {
     "name": "stdout",
     "output_type": "stream",
     "text": [
      "dice 0.7029193696195292\n",
      "jaccard 0.5559091128676854\n",
      "hd 6.412527033583005\n",
      "asd 1.4404299619559953\n"
     ]
    }
   ],
   "source": [
    "from metrics import compute_metric\n",
    "import numpy as np\n",
    "\n",
    "test_dir = '../../Results/cvpr2024_covis/ACDC/cLapIRN_covis_tv_alpha_0.01_beta_0.1/'\n",
    "\n",
    "dice_list, jc_list, hd_list, asd_list = compute_metric(test_dir)\n",
    "\n",
    "print('dice', np.mean(dice_list))\n",
    "print('jaccard', np.mean(jc_list))\n",
    "print('hd', np.mean(hd_list))\n",
    "print('asd', np.mean(asd_list))"
   ]
  },
  {
   "cell_type": "code",
   "execution_count": 3,
   "metadata": {},
   "outputs": [
    {
     "name": "stdout",
     "output_type": "stream",
     "text": [
      "dice 0.73675267795568\n",
      "jaccard 0.5885417847921127\n",
      "hd 11.930561537748858\n",
      "asd 2.0483671967474653\n"
     ]
    }
   ],
   "source": [
    "from metrics import compute_metric\n",
    "import numpy as np\n",
    "\n",
    "test_dir = '../../Results/cvpr2024_covis/CAMUS/cLapIRN_covis_tv_alpha_0.01_beta_0.1/'\n",
    "\n",
    "dice_list, jc_list, hd_list, asd_list = compute_metric(test_dir)\n",
    "\n",
    "print('dice', np.mean(dice_list))\n",
    "print('jaccard', np.mean(jc_list))\n",
    "print('hd', np.mean(hd_list))\n",
    "print('asd', np.mean(asd_list))"
   ]
  },
  {
   "cell_type": "code",
   "execution_count": null,
   "metadata": {},
   "outputs": [],
   "source": []
  }
 ],
 "metadata": {
  "kernelspec": {
   "display_name": "optical_flow",
   "language": "python",
   "name": "python3"
  },
  "language_info": {
   "codemirror_mode": {
    "name": "ipython",
    "version": 3
   },
   "file_extension": ".py",
   "mimetype": "text/x-python",
   "name": "python",
   "nbconvert_exporter": "python",
   "pygments_lexer": "ipython3",
   "version": "3.6.13"
  }
 },
 "nbformat": 4,
 "nbformat_minor": 2
}
