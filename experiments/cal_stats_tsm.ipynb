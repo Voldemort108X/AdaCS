{
 "cells": [
  {
   "cell_type": "code",
   "execution_count": 1,
   "metadata": {},
   "outputs": [
    {
     "name": "stdout",
     "output_type": "stream",
     "text": [
      "/mnt/d/XiaoranZhang/Projects/Optical_flow/Code/cvpr2024_covis\n"
     ]
    }
   ],
   "source": [
    "# (Restart the kernel if you want to rerun the cell) move up current working directory\n",
    "import os\n",
    "os.chdir('../')\n",
    "print(os.getcwd())"
   ]
  },
  {
   "cell_type": "markdown",
   "metadata": {},
   "source": [
    "# Transmorph\n",
    "## ACDC"
   ]
  },
  {
   "cell_type": "code",
   "execution_count": 3,
   "metadata": {},
   "outputs": [
    {
     "name": "stdout",
     "output_type": "stream",
     "text": [
      "dice 0.7784358922963628\n",
      "jaccard 0.6465293507634434\n",
      "hd 5.4126808784361735\n",
      "asd 1.3330092992547762\n"
     ]
    }
   ],
   "source": [
    "from metrics import compute_metric\n",
    "import numpy as np\n",
    "\n",
    "test_dir = '../../Results/cvpr2024_covis/ACDC/tsm_ACDC_2frame_covis_alpha_0.01_wse_20/'\n",
    "\n",
    "dice_list, jc_list, hd_list, asd_list = compute_metric(test_dir)\n",
    "\n",
    "print('dice', np.mean(dice_list))\n",
    "print('jaccard', np.mean(jc_list))\n",
    "print('hd', np.mean(hd_list))\n",
    "print('asd', np.mean(asd_list))"
   ]
  },
  {
   "cell_type": "code",
   "execution_count": 12,
   "metadata": {},
   "outputs": [
    {
     "name": "stdout",
     "output_type": "stream",
     "text": [
      "dice 0.7836663330634056\n",
      "jaccard 0.6525849280338604\n",
      "hd 5.390974227537268\n",
      "asd 1.302235202536987\n"
     ]
    }
   ],
   "source": [
    "from metrics import compute_metric\n",
    "import numpy as np\n",
    "\n",
    "test_dir = '../../Results/cvpr2024_covis/ACDC/tsm_ACDC_2frame_covis_alpha_0.01_wse_20_tv_beta_10/'\n",
    "\n",
    "dice_list, jc_list, hd_list, asd_list = compute_metric(test_dir)\n",
    "\n",
    "print('dice', np.mean(dice_list))\n",
    "print('jaccard', np.mean(jc_list))\n",
    "print('hd', np.mean(hd_list))\n",
    "print('asd', np.mean(asd_list))"
   ]
  },
  {
   "cell_type": "code",
   "execution_count": 13,
   "metadata": {},
   "outputs": [
    {
     "name": "stdout",
     "output_type": "stream",
     "text": [
      "dice 0.7838921085798723\n",
      "jaccard 0.6529051696917767\n",
      "hd 5.396725072708696\n",
      "asd 1.3183068581512767\n"
     ]
    }
   ],
   "source": [
    "from metrics import compute_metric\n",
    "import numpy as np\n",
    "\n",
    "test_dir = '../../Results/cvpr2024_covis/ACDC/tsm_ACDC_2frame_covis_alpha_0.01_wse_20_tv_beta_1/'\n",
    "\n",
    "dice_list, jc_list, hd_list, asd_list = compute_metric(test_dir)\n",
    "\n",
    "print('dice', np.mean(dice_list))\n",
    "print('jaccard', np.mean(jc_list))\n",
    "print('hd', np.mean(hd_list))\n",
    "print('asd', np.mean(asd_list))"
   ]
  },
  {
   "cell_type": "code",
   "execution_count": 14,
   "metadata": {},
   "outputs": [
    {
     "name": "stdout",
     "output_type": "stream",
     "text": [
      "dice 0.7730563653316748\n",
      "jaccard 0.6393385548636734\n",
      "hd 5.4404857050456625\n",
      "asd 1.3520486818162565\n"
     ]
    }
   ],
   "source": [
    "from metrics import compute_metric\n",
    "import numpy as np\n",
    "\n",
    "test_dir = '../../Results/cvpr2024_covis/ACDC/tsm_ACDC_2frame_covis_alpha_0.01_wse_20_tv_beta_0.1/'\n",
    "\n",
    "dice_list, jc_list, hd_list, asd_list = compute_metric(test_dir)\n",
    "\n",
    "print('dice', np.mean(dice_list))\n",
    "print('jaccard', np.mean(jc_list))\n",
    "print('hd', np.mean(hd_list))\n",
    "print('asd', np.mean(asd_list))"
   ]
  },
  {
   "cell_type": "code",
   "execution_count": 15,
   "metadata": {},
   "outputs": [
    {
     "name": "stdout",
     "output_type": "stream",
     "text": [
      "dice 0.7778267067493424\n",
      "jaccard 0.6455713078136303\n",
      "hd 5.5092663330792515\n",
      "asd 1.334125726377551\n"
     ]
    }
   ],
   "source": [
    "from metrics import compute_metric\n",
    "import numpy as np\n",
    "\n",
    "test_dir = '../../Results/cvpr2024_covis/ACDC/tsm_ACDC_2frame_covis_alpha_0.01_wse_20_tv_beta_5/'\n",
    "\n",
    "dice_list, jc_list, hd_list, asd_list = compute_metric(test_dir)\n",
    "\n",
    "print('dice', np.mean(dice_list))\n",
    "print('jaccard', np.mean(jc_list))\n",
    "print('hd', np.mean(hd_list))\n",
    "print('asd', np.mean(asd_list))"
   ]
  },
  {
   "cell_type": "code",
   "execution_count": 3,
   "metadata": {},
   "outputs": [
    {
     "name": "stdout",
     "output_type": "stream",
     "text": [
      "dice 0.7691037831521185\n",
      "jaccard 0.6349172508661339\n",
      "hd 5.550680560667931\n",
      "asd 1.3485355766322875\n"
     ]
    }
   ],
   "source": [
    "from metrics import compute_metric\n",
    "import numpy as np\n",
    "\n",
    "test_dir = '../../Results/cvpr2024_covis/ACDC/tsm_ACDC_2frame_covis_alpha_0.01_wse_20_tv_adabeta_0.1/'\n",
    "\n",
    "dice_list, jc_list, hd_list, asd_list = compute_metric(test_dir)\n",
    "\n",
    "print('dice', np.mean(dice_list))\n",
    "print('jaccard', np.mean(jc_list))\n",
    "print('hd', np.mean(hd_list))\n",
    "print('asd', np.mean(asd_list))"
   ]
  },
  {
   "cell_type": "code",
   "execution_count": 4,
   "metadata": {},
   "outputs": [
    {
     "name": "stdout",
     "output_type": "stream",
     "text": [
      "dice 0.7740489564922157\n",
      "jaccard 0.6397517441063973\n",
      "hd 5.548636394575136\n",
      "asd 1.3403363966318744\n"
     ]
    }
   ],
   "source": [
    "from metrics import compute_metric\n",
    "import numpy as np\n",
    "\n",
    "test_dir = '../../Results/cvpr2024_covis/ACDC/tsm_ACDC_2frame_covis_alpha_0.01_wse_20_tv_adabeta_0.5/'\n",
    "\n",
    "dice_list, jc_list, hd_list, asd_list = compute_metric(test_dir)\n",
    "\n",
    "print('dice', np.mean(dice_list))\n",
    "print('jaccard', np.mean(jc_list))\n",
    "print('hd', np.mean(hd_list))\n",
    "print('asd', np.mean(asd_list))"
   ]
  },
  {
   "cell_type": "code",
   "execution_count": 5,
   "metadata": {},
   "outputs": [
    {
     "name": "stdout",
     "output_type": "stream",
     "text": [
      "dice 0.7737610941826167\n",
      "jaccard 0.6394239372085535\n",
      "hd 5.5933124637920475\n",
      "asd 1.333380662105154\n"
     ]
    }
   ],
   "source": [
    "from metrics import compute_metric\n",
    "import numpy as np\n",
    "\n",
    "test_dir = '../../Results/cvpr2024_covis/ACDC/tsm_ACDC_2frame_covis_alpha_0.01_wse_20_tv_adabeta_1/'\n",
    "\n",
    "dice_list, jc_list, hd_list, asd_list = compute_metric(test_dir)\n",
    "\n",
    "print('dice', np.mean(dice_list))\n",
    "print('jaccard', np.mean(jc_list))\n",
    "print('hd', np.mean(hd_list))\n",
    "print('asd', np.mean(asd_list))"
   ]
  },
  {
   "cell_type": "code",
   "execution_count": 6,
   "metadata": {},
   "outputs": [
    {
     "name": "stdout",
     "output_type": "stream",
     "text": [
      "dice 0.7654303426094813\n",
      "jaccard 0.628813969093076\n",
      "hd 5.6854729706156055\n",
      "asd 1.3193826188435835\n"
     ]
    }
   ],
   "source": [
    "from metrics import compute_metric\n",
    "import numpy as np\n",
    "\n",
    "test_dir = '../../Results/cvpr2024_covis/ACDC/tsm_ACDC_2frame_covis_alpha_0.01_wse_20_tv_adabeta_2.5/'\n",
    "\n",
    "dice_list, jc_list, hd_list, asd_list = compute_metric(test_dir)\n",
    "\n",
    "print('dice', np.mean(dice_list))\n",
    "print('jaccard', np.mean(jc_list))\n",
    "print('hd', np.mean(hd_list))\n",
    "print('asd', np.mean(asd_list))"
   ]
  },
  {
   "cell_type": "code",
   "execution_count": 7,
   "metadata": {},
   "outputs": [
    {
     "name": "stdout",
     "output_type": "stream",
     "text": [
      "dice 0.7567907246922085\n",
      "jaccard 0.617578639807394\n",
      "hd 5.767130146210327\n",
      "asd 1.3253247241418915\n"
     ]
    }
   ],
   "source": [
    "from metrics import compute_metric\n",
    "import numpy as np\n",
    "\n",
    "test_dir = '../../Results/cvpr2024_covis/ACDC/tsm_ACDC_2frame_covis_alpha_0.01_wse_20_tv_adabeta_5/'\n",
    "\n",
    "dice_list, jc_list, hd_list, asd_list = compute_metric(test_dir)\n",
    "\n",
    "print('dice', np.mean(dice_list))\n",
    "print('jaccard', np.mean(jc_list))\n",
    "print('hd', np.mean(hd_list))\n",
    "print('asd', np.mean(asd_list))"
   ]
  },
  {
   "cell_type": "code",
   "execution_count": 14,
   "metadata": {},
   "outputs": [
    {
     "name": "stdout",
     "output_type": "stream",
     "text": [
      "dice 0.7712321462456418\n",
      "jaccard 0.6357787964254605\n",
      "hd 5.651818491217883\n",
      "asd 1.3238518082998108\n"
     ]
    }
   ],
   "source": [
    "from metrics import compute_metric\n",
    "import numpy as np\n",
    "\n",
    "test_dir = '../../Results/cvpr2024_covis/ACDC/tsm_ACDC_2frame_covis_alpha_0.01_wse_20_tv_adabeta_1.5/'\n",
    "\n",
    "dice_list, jc_list, hd_list, asd_list = compute_metric(test_dir)\n",
    "\n",
    "print('dice', np.mean(dice_list))\n",
    "print('jaccard', np.mean(jc_list))\n",
    "print('hd', np.mean(hd_list))\n",
    "print('asd', np.mean(asd_list))"
   ]
  },
  {
   "cell_type": "code",
   "execution_count": 15,
   "metadata": {},
   "outputs": [
    {
     "name": "stdout",
     "output_type": "stream",
     "text": [
      "dice 0.7740901777939209\n",
      "jaccard 0.6400223226607552\n",
      "hd 5.5953460678923195\n",
      "asd 1.327216423330426\n"
     ]
    }
   ],
   "source": [
    "from metrics import compute_metric\n",
    "import numpy as np\n",
    "\n",
    "test_dir = '../../Results/cvpr2024_covis/ACDC/tsm_ACDC_2frame_covis_alpha_0.01_wse_20_tv_adabeta_0.75/'\n",
    "\n",
    "dice_list, jc_list, hd_list, asd_list = compute_metric(test_dir)\n",
    "\n",
    "print('dice', np.mean(dice_list))\n",
    "print('jaccard', np.mean(jc_list))\n",
    "print('hd', np.mean(hd_list))\n",
    "print('asd', np.mean(asd_list))"
   ]
  },
  {
   "cell_type": "code",
   "execution_count": 16,
   "metadata": {},
   "outputs": [
    {
     "name": "stdout",
     "output_type": "stream",
     "text": [
      "dice 0.7564862609080817\n",
      "jaccard 0.6177122664791276\n",
      "hd 5.7944500118154005\n",
      "asd 1.3586946994730784\n"
     ]
    }
   ],
   "source": [
    "from metrics import compute_metric\n",
    "import numpy as np\n",
    "\n",
    "test_dir = '../../Results/cvpr2024_covis/ACDC/tsm_ACDC_2frame_covis_alpha_0.01_wse_20_tv_adabeta_2/'\n",
    "\n",
    "dice_list, jc_list, hd_list, asd_list = compute_metric(test_dir)\n",
    "\n",
    "print('dice', np.mean(dice_list))\n",
    "print('jaccard', np.mean(jc_list))\n",
    "print('hd', np.mean(hd_list))\n",
    "print('asd', np.mean(asd_list))"
   ]
  },
  {
   "cell_type": "code",
   "execution_count": 2,
   "metadata": {},
   "outputs": [
    {
     "name": "stdout",
     "output_type": "stream",
     "text": [
      "dice 0.7736514920648909\n",
      "jaccard 0.6398003356299556\n",
      "hd 5.53162946453034\n",
      "asd 1.3463915140032556\n"
     ]
    }
   ],
   "source": [
    "from metrics import compute_metric\n",
    "import numpy as np\n",
    "\n",
    "test_dir = '../../Results/cvpr2024_covis/ACDC/tsm_ACDC_2frame_covis_alpha_0.01_wse_20_tv_adabeta_0.6/'\n",
    "\n",
    "dice_list, jc_list, hd_list, asd_list = compute_metric(test_dir)\n",
    "\n",
    "print('dice', np.mean(dice_list))\n",
    "print('jaccard', np.mean(jc_list))\n",
    "print('hd', np.mean(hd_list))\n",
    "print('asd', np.mean(asd_list))"
   ]
  },
  {
   "cell_type": "code",
   "execution_count": 4,
   "metadata": {},
   "outputs": [
    {
     "name": "stdout",
     "output_type": "stream",
     "text": [
      "dice 0.7689318413675255\n",
      "jaccard 0.6335470826512287\n",
      "hd 5.588840753245762\n",
      "asd 1.3494181861395877\n"
     ]
    }
   ],
   "source": [
    "from metrics import compute_metric\n",
    "import numpy as np\n",
    "\n",
    "test_dir = '../../Results/cvpr2024_covis/ACDC/tsm_ACDC_2frame_covis_alpha_0.01_wse_20_tv_adabeta_0.8/'\n",
    "\n",
    "dice_list, jc_list, hd_list, asd_list = compute_metric(test_dir)\n",
    "\n",
    "print('dice', np.mean(dice_list))\n",
    "print('jaccard', np.mean(jc_list))\n",
    "print('hd', np.mean(hd_list))\n",
    "print('asd', np.mean(asd_list))"
   ]
  },
  {
   "cell_type": "code",
   "execution_count": 5,
   "metadata": {},
   "outputs": [
    {
     "name": "stdout",
     "output_type": "stream",
     "text": [
      "dice 0.7660759106805245\n",
      "jaccard 0.6295773034367768\n",
      "hd 5.735227963525392\n",
      "asd 1.3511482150478153\n"
     ]
    }
   ],
   "source": [
    "from metrics import compute_metric\n",
    "import numpy as np\n",
    "\n",
    "test_dir = '../../Results/cvpr2024_covis/ACDC/tsm_ACDC_2frame_covis_alpha_0.01_wse_20_tv_adabeta_1.25/'\n",
    "\n",
    "dice_list, jc_list, hd_list, asd_list = compute_metric(test_dir)\n",
    "\n",
    "print('dice', np.mean(dice_list))\n",
    "print('jaccard', np.mean(jc_list))\n",
    "print('hd', np.mean(hd_list))\n",
    "print('asd', np.mean(asd_list))"
   ]
  },
  {
   "cell_type": "code",
   "execution_count": 2,
   "metadata": {},
   "outputs": [
    {
     "name": "stdout",
     "output_type": "stream",
     "text": [
      "dice 0.7716235247837073\n",
      "jaccard 0.6362897768949639\n",
      "hd 5.581533493048403\n",
      "asd 1.3209269725261985\n"
     ]
    }
   ],
   "source": [
    "from metrics import compute_metric\n",
    "import numpy as np\n",
    "\n",
    "test_dir = '../../Results/cvpr2024_covis/ACDC/tsm_ACDC_2frame_covis_alpha_0.01_wse_20_tv_adabeta_0.75_init/'\n",
    "\n",
    "dice_list, jc_list, hd_list, asd_list = compute_metric(test_dir)\n",
    "\n",
    "print('dice', np.mean(dice_list))\n",
    "print('jaccard', np.mean(jc_list))\n",
    "print('hd', np.mean(hd_list))\n",
    "print('asd', np.mean(asd_list))"
   ]
  },
  {
   "cell_type": "code",
   "execution_count": 4,
   "metadata": {},
   "outputs": [
    {
     "name": "stdout",
     "output_type": "stream",
     "text": [
      "dice 0.7624198829662472\n",
      "jaccard 0.6250436063959042\n",
      "hd 5.862876361990811\n",
      "asd 1.340574757386109\n"
     ]
    }
   ],
   "source": [
    "from metrics import compute_metric\n",
    "import numpy as np\n",
    "\n",
    "test_dir = '../../Results/cvpr2024_covis/ACDC/tsm_ACDC_2frame_covis_alpha_0.01_wse_20_tv_adabeta_1.5_nomut/'\n",
    "\n",
    "dice_list, jc_list, hd_list, asd_list = compute_metric(test_dir)\n",
    "\n",
    "print('dice', np.mean(dice_list))\n",
    "print('jaccard', np.mean(jc_list))\n",
    "print('hd', np.mean(hd_list))\n",
    "print('asd', np.mean(asd_list))"
   ]
  },
  {
   "cell_type": "code",
   "execution_count": 2,
   "metadata": {},
   "outputs": [
    {
     "name": "stdout",
     "output_type": "stream",
     "text": [
      "dice 0.7640043400882299\n",
      "jaccard 0.6283789045860955\n",
      "hd 5.564386582030148\n",
      "asd 1.3472557188910559\n"
     ]
    }
   ],
   "source": [
    "from metrics import compute_metric\n",
    "import numpy as np\n",
    "\n",
    "test_dir = '../../Results/cvpr2024_covis/ACDC/tsm_ACDC_2frame_covis_alpha_0.01_wse_20_tv_adabeta_1.5_alt/'\n",
    "\n",
    "dice_list, jc_list, hd_list, asd_list = compute_metric(test_dir)\n",
    "\n",
    "print('dice', np.mean(dice_list))\n",
    "print('jaccard', np.mean(jc_list))\n",
    "print('hd', np.mean(hd_list))\n",
    "print('asd', np.mean(asd_list))"
   ]
  },
  {
   "cell_type": "markdown",
   "metadata": {},
   "source": [
    "## CAMUS"
   ]
  },
  {
   "cell_type": "code",
   "execution_count": 4,
   "metadata": {},
   "outputs": [
    {
     "name": "stdout",
     "output_type": "stream",
     "text": [
      "dice 0.780815373184948\n",
      "jaccard 0.6443475783613386\n",
      "hd 10.705978982518518\n",
      "asd 1.841892945004409\n"
     ]
    }
   ],
   "source": [
    "from metrics import compute_metric\n",
    "import numpy as np\n",
    "\n",
    "test_dir = '../../Results/cvpr2024_covis/CAMUS/tsm_CAMUS_2frame_covis_alpha_0.1_wse_20_mom_tv/'\n",
    "\n",
    "dice_list, jc_list, hd_list, asd_list = compute_metric(test_dir)\n",
    "\n",
    "print('dice', np.mean(dice_list))\n",
    "print('jaccard', np.mean(jc_list))\n",
    "print('hd', np.mean(hd_list))\n",
    "print('asd', np.mean(asd_list))"
   ]
  },
  {
   "cell_type": "code",
   "execution_count": 5,
   "metadata": {},
   "outputs": [
    {
     "name": "stdout",
     "output_type": "stream",
     "text": [
      "dice 0.784083468043149\n",
      "jaccard 0.6490317679412566\n",
      "hd 10.65275077905303\n",
      "asd 1.831052936628412\n"
     ]
    }
   ],
   "source": [
    "from metrics import compute_metric\n",
    "import numpy as np\n",
    "\n",
    "test_dir = '../../Results/cvpr2024_covis/CAMUS/tsm_CAMUS_2frame_covis_alpha_0.025_wse_20_mom_tv/'\n",
    "\n",
    "dice_list, jc_list, hd_list, asd_list = compute_metric(test_dir)\n",
    "\n",
    "print('dice', np.mean(dice_list))\n",
    "print('jaccard', np.mean(jc_list))\n",
    "print('hd', np.mean(hd_list))\n",
    "print('asd', np.mean(asd_list))"
   ]
  },
  {
   "cell_type": "code",
   "execution_count": 6,
   "metadata": {},
   "outputs": [
    {
     "name": "stdout",
     "output_type": "stream",
     "text": [
      "dice 0.7771462775062887\n",
      "jaccard 0.6398171525071354\n",
      "hd 10.565508408372217\n",
      "asd 1.8796678382192176\n"
     ]
    }
   ],
   "source": [
    "from metrics import compute_metric\n",
    "import numpy as np\n",
    "\n",
    "test_dir = '../../Results/cvpr2024_covis/CAMUS/tsm_CAMUS_2frame_covis_alpha_0.05_wse_20_mom_tv/'\n",
    "\n",
    "dice_list, jc_list, hd_list, asd_list = compute_metric(test_dir)\n",
    "\n",
    "print('dice', np.mean(dice_list))\n",
    "print('jaccard', np.mean(jc_list))\n",
    "print('hd', np.mean(hd_list))\n",
    "print('asd', np.mean(asd_list))"
   ]
  },
  {
   "cell_type": "code",
   "execution_count": 8,
   "metadata": {},
   "outputs": [
    {
     "name": "stdout",
     "output_type": "stream",
     "text": [
      "dice 0.7817316905189778\n",
      "jaccard 0.6457077536570704\n",
      "hd 10.450537722626464\n",
      "asd 1.8683053245147128\n"
     ]
    }
   ],
   "source": [
    "from metrics import compute_metric\n",
    "import numpy as np\n",
    "\n",
    "test_dir = '../../Results/cvpr2024_covis/CAMUS/tsm_CAMUS_2frame_covis_alpha_0.01_wse_20_mom_tv/'\n",
    "\n",
    "dice_list, jc_list, hd_list, asd_list = compute_metric(test_dir)\n",
    "\n",
    "print('dice', np.mean(dice_list))\n",
    "print('jaccard', np.mean(jc_list))\n",
    "print('hd', np.mean(hd_list))\n",
    "print('asd', np.mean(asd_list))"
   ]
  },
  {
   "cell_type": "code",
   "execution_count": 9,
   "metadata": {},
   "outputs": [
    {
     "name": "stdout",
     "output_type": "stream",
     "text": [
      "dice 0.7786941127154047\n",
      "jaccard 0.64192885042191\n",
      "hd 10.736577331315603\n",
      "asd 1.871114191639397\n"
     ]
    }
   ],
   "source": [
    "from metrics import compute_metric\n",
    "import numpy as np\n",
    "\n",
    "test_dir = '../../Results/cvpr2024_covis/CAMUS/tsm_CAMUS_2frame_covis_alpha_0.02_wse_20_mom_tv/'\n",
    "\n",
    "dice_list, jc_list, hd_list, asd_list = compute_metric(test_dir)\n",
    "\n",
    "print('dice', np.mean(dice_list))\n",
    "print('jaccard', np.mean(jc_list))\n",
    "print('hd', np.mean(hd_list))\n",
    "print('asd', np.mean(asd_list))"
   ]
  },
  {
   "cell_type": "code",
   "execution_count": 10,
   "metadata": {},
   "outputs": [
    {
     "name": "stdout",
     "output_type": "stream",
     "text": [
      "dice 0.783148753347022\n",
      "jaccard 0.6477427422848757\n",
      "hd 10.596943403089229\n",
      "asd 1.8331602104947238\n"
     ]
    }
   ],
   "source": [
    "from metrics import compute_metric\n",
    "import numpy as np\n",
    "\n",
    "test_dir = '../../Results/cvpr2024_covis/CAMUS/tsm_CAMUS_2frame_covis_alpha_0.03_wse_20_mom_tv/'\n",
    "\n",
    "dice_list, jc_list, hd_list, asd_list = compute_metric(test_dir)\n",
    "\n",
    "print('dice', np.mean(dice_list))\n",
    "print('jaccard', np.mean(jc_list))\n",
    "print('hd', np.mean(hd_list))\n",
    "print('asd', np.mean(asd_list))"
   ]
  },
  {
   "cell_type": "code",
   "execution_count": 11,
   "metadata": {},
   "outputs": [
    {
     "name": "stdout",
     "output_type": "stream",
     "text": [
      "dice 0.7766976501144706\n",
      "jaccard 0.6389042845716769\n",
      "hd 10.607828783143827\n",
      "asd 1.8984082021406843\n"
     ]
    }
   ],
   "source": [
    "from metrics import compute_metric\n",
    "import numpy as np\n",
    "\n",
    "test_dir = '../../Results/cvpr2024_covis/CAMUS/tsm_CAMUS_2frame_covis_alpha_0.04_wse_20_mom_tv/'\n",
    "\n",
    "dice_list, jc_list, hd_list, asd_list = compute_metric(test_dir)\n",
    "\n",
    "print('dice', np.mean(dice_list))\n",
    "print('jaccard', np.mean(jc_list))\n",
    "print('hd', np.mean(hd_list))\n",
    "print('asd', np.mean(asd_list))"
   ]
  },
  {
   "cell_type": "code",
   "execution_count": 25,
   "metadata": {},
   "outputs": [
    {
     "name": "stdout",
     "output_type": "stream",
     "text": [
      "dice 0.7789768247276746\n",
      "jaccard 0.6419043142450076\n",
      "hd 10.63800409170269\n",
      "asd 1.8779301246170126\n"
     ]
    }
   ],
   "source": [
    "from metrics import compute_metric\n",
    "import numpy as np\n",
    "\n",
    "test_dir = '../../Results/cvpr2024_covis/CAMUS/tsm_CAMUS_2frame_covis_alpha_0.035_wse_20_mom_tv/'\n",
    "\n",
    "dice_list, jc_list, hd_list, asd_list = compute_metric(test_dir)\n",
    "\n",
    "print('dice', np.mean(dice_list))\n",
    "print('jaccard', np.mean(jc_list))\n",
    "print('hd', np.mean(hd_list))\n",
    "print('asd', np.mean(asd_list))"
   ]
  },
  {
   "cell_type": "code",
   "execution_count": 17,
   "metadata": {},
   "outputs": [
    {
     "name": "stdout",
     "output_type": "stream",
     "text": [
      "dice 0.782149992201796\n",
      "jaccard 0.6466620221800102\n",
      "hd 10.502614238878186\n",
      "asd 1.8483323890608774\n"
     ]
    }
   ],
   "source": [
    "from metrics import compute_metric\n",
    "import numpy as np\n",
    "\n",
    "test_dir = '../../Results/cvpr2024_covis/CAMUS/tsm_CAMUS_2frame_covis_alpha_0.03_wse_20_tv_beta_0.1/'\n",
    "\n",
    "dice_list, jc_list, hd_list, asd_list = compute_metric(test_dir)\n",
    "\n",
    "print('dice', np.mean(dice_list))\n",
    "print('jaccard', np.mean(jc_list))\n",
    "print('hd', np.mean(hd_list))\n",
    "print('asd', np.mean(asd_list))"
   ]
  },
  {
   "cell_type": "code",
   "execution_count": 18,
   "metadata": {},
   "outputs": [
    {
     "name": "stdout",
     "output_type": "stream",
     "text": [
      "dice 0.7813886010510729\n",
      "jaccard 0.6452753248561269\n",
      "hd 10.546484428279086\n",
      "asd 1.844875883285524\n"
     ]
    }
   ],
   "source": [
    "from metrics import compute_metric\n",
    "import numpy as np\n",
    "\n",
    "test_dir = '../../Results/cvpr2024_covis/CAMUS/tsm_CAMUS_2frame_covis_alpha_0.03_wse_20_tv_beta_1/'\n",
    "\n",
    "dice_list, jc_list, hd_list, asd_list = compute_metric(test_dir)\n",
    "\n",
    "print('dice', np.mean(dice_list))\n",
    "print('jaccard', np.mean(jc_list))\n",
    "print('hd', np.mean(hd_list))\n",
    "print('asd', np.mean(asd_list))"
   ]
  },
  {
   "cell_type": "code",
   "execution_count": 19,
   "metadata": {},
   "outputs": [
    {
     "name": "stdout",
     "output_type": "stream",
     "text": [
      "dice 0.7804639594668097\n",
      "jaccard 0.6440145908479517\n",
      "hd 10.56503881757758\n",
      "asd 1.8600484275841962\n"
     ]
    }
   ],
   "source": [
    "from metrics import compute_metric\n",
    "import numpy as np\n",
    "\n",
    "test_dir = '../../Results/cvpr2024_covis/CAMUS/tsm_CAMUS_2frame_covis_alpha_0.03_wse_20_tv_beta_5/'\n",
    "\n",
    "dice_list, jc_list, hd_list, asd_list = compute_metric(test_dir)\n",
    "\n",
    "print('dice', np.mean(dice_list))\n",
    "print('jaccard', np.mean(jc_list))\n",
    "print('hd', np.mean(hd_list))\n",
    "print('asd', np.mean(asd_list))"
   ]
  },
  {
   "cell_type": "code",
   "execution_count": 20,
   "metadata": {},
   "outputs": [
    {
     "name": "stdout",
     "output_type": "stream",
     "text": [
      "dice 0.7813028463182551\n",
      "jaccard 0.645607409136782\n",
      "hd 10.457334571693055\n",
      "asd 1.86088288399526\n"
     ]
    }
   ],
   "source": [
    "from metrics import compute_metric\n",
    "import numpy as np\n",
    "\n",
    "test_dir = '../../Results/cvpr2024_covis/CAMUS/tsm_CAMUS_2frame_covis_alpha_0.03_wse_20_tv_beta_10/'\n",
    "\n",
    "dice_list, jc_list, hd_list, asd_list = compute_metric(test_dir)\n",
    "\n",
    "print('dice', np.mean(dice_list))\n",
    "print('jaccard', np.mean(jc_list))\n",
    "print('hd', np.mean(hd_list))\n",
    "print('asd', np.mean(asd_list))"
   ]
  },
  {
   "cell_type": "code",
   "execution_count": 26,
   "metadata": {},
   "outputs": [
    {
     "name": "stdout",
     "output_type": "stream",
     "text": [
      "dice 0.7754625225931352\n",
      "jaccard 0.6373487366985695\n",
      "hd 10.936384878297488\n",
      "asd 1.8671735802044762\n"
     ]
    }
   ],
   "source": [
    "from metrics import compute_metric\n",
    "import numpy as np\n",
    "\n",
    "test_dir = '../../Results/cvpr2024_covis/CAMUS/tsm_CAMUS_2frame_covis_alpha_0.03_wse_20_mom_tv_lmbd_0.0075/'\n",
    "\n",
    "dice_list, jc_list, hd_list, asd_list = compute_metric(test_dir)\n",
    "\n",
    "print('dice', np.mean(dice_list))\n",
    "print('jaccard', np.mean(jc_list))\n",
    "print('hd', np.mean(hd_list))\n",
    "print('asd', np.mean(asd_list))"
   ]
  },
  {
   "cell_type": "code",
   "execution_count": 27,
   "metadata": {},
   "outputs": [
    {
     "name": "stdout",
     "output_type": "stream",
     "text": [
      "dice 0.7839797447405599\n",
      "jaccard 0.6491045167083473\n",
      "hd 10.431104959516702\n",
      "asd 1.8454230271644179\n"
     ]
    }
   ],
   "source": [
    "from metrics import compute_metric\n",
    "import numpy as np\n",
    "\n",
    "test_dir = '../../Results/cvpr2024_covis/CAMUS/tsm_CAMUS_2frame_covis_alpha_0.03_wse_20_mom_tv_lmbd_0.013/'\n",
    "\n",
    "dice_list, jc_list, hd_list, asd_list = compute_metric(test_dir)\n",
    "\n",
    "print('dice', np.mean(dice_list))\n",
    "print('jaccard', np.mean(jc_list))\n",
    "print('hd', np.mean(hd_list))\n",
    "print('asd', np.mean(asd_list))"
   ]
  },
  {
   "cell_type": "code",
   "execution_count": 28,
   "metadata": {},
   "outputs": [
    {
     "name": "stdout",
     "output_type": "stream",
     "text": [
      "dice 0.787260457404814\n",
      "jaccard 0.653270006990962\n",
      "hd 10.412583048441476\n",
      "asd 1.827115754372735\n"
     ]
    }
   ],
   "source": [
    "from metrics import compute_metric\n",
    "import numpy as np\n",
    "\n",
    "test_dir = '../../Results/cvpr2024_covis/CAMUS/tsm_CAMUS_2frame_covis_alpha_0.03_wse_20_mom_tv_lmbd_0.015/'\n",
    "\n",
    "dice_list, jc_list, hd_list, asd_list = compute_metric(test_dir)\n",
    "\n",
    "print('dice', np.mean(dice_list))\n",
    "print('jaccard', np.mean(jc_list))\n",
    "print('hd', np.mean(hd_list))\n",
    "print('asd', np.mean(asd_list))"
   ]
  },
  {
   "cell_type": "code",
   "execution_count": 29,
   "metadata": {},
   "outputs": [
    {
     "name": "stdout",
     "output_type": "stream",
     "text": [
      "dice 0.7781660346827679\n",
      "jaccard 0.6410746661408584\n",
      "hd 10.800583094873886\n",
      "asd 1.8747178316067288\n"
     ]
    }
   ],
   "source": [
    "from metrics import compute_metric\n",
    "import numpy as np\n",
    "\n",
    "test_dir = '../../Results/cvpr2024_covis/CAMUS/tsm_CAMUS_2frame_covis_alpha_0.02_wse_20_mom_tv_lmbd_0.01/'\n",
    "\n",
    "dice_list, jc_list, hd_list, asd_list = compute_metric(test_dir)\n",
    "\n",
    "print('dice', np.mean(dice_list))\n",
    "print('jaccard', np.mean(jc_list))\n",
    "print('hd', np.mean(hd_list))\n",
    "print('asd', np.mean(asd_list))"
   ]
  },
  {
   "cell_type": "code",
   "execution_count": 30,
   "metadata": {},
   "outputs": [
    {
     "name": "stdout",
     "output_type": "stream",
     "text": [
      "dice 0.7811943276218662\n",
      "jaccard 0.6447635533579842\n",
      "hd 10.559523950658816\n",
      "asd 1.863088312190091\n"
     ]
    }
   ],
   "source": [
    "from metrics import compute_metric\n",
    "import numpy as np\n",
    "\n",
    "test_dir = '../../Results/cvpr2024_covis/CAMUS/tsm_CAMUS_2frame_covis_alpha_0.04_wse_20_mom_tv_lmbd_0.01/'\n",
    "\n",
    "dice_list, jc_list, hd_list, asd_list = compute_metric(test_dir)\n",
    "\n",
    "print('dice', np.mean(dice_list))\n",
    "print('jaccard', np.mean(jc_list))\n",
    "print('hd', np.mean(hd_list))\n",
    "print('asd', np.mean(asd_list))"
   ]
  },
  {
   "cell_type": "code",
   "execution_count": 4,
   "metadata": {},
   "outputs": [
    {
     "name": "stdout",
     "output_type": "stream",
     "text": [
      "dice 0.7922683998707591\n",
      "jaccard 0.6601289442694909\n",
      "hd 10.174151859491964\n",
      "asd 1.8064713961151386\n"
     ]
    }
   ],
   "source": [
    "from metrics import compute_metric\n",
    "import numpy as np\n",
    "\n",
    "test_dir = '../../Results/cvpr2024_covis/CAMUS/tsm_CAMUS_2frame_covis_alpha_0.03_wse_20_mom_tv_lmbd_0.02/'\n",
    "\n",
    "dice_list, jc_list, hd_list, asd_list = compute_metric(test_dir)\n",
    "\n",
    "print('dice', np.mean(dice_list))\n",
    "print('jaccard', np.mean(jc_list))\n",
    "print('hd', np.mean(hd_list))\n",
    "print('asd', np.mean(asd_list))"
   ]
  },
  {
   "cell_type": "code",
   "execution_count": 5,
   "metadata": {},
   "outputs": [
    {
     "name": "stdout",
     "output_type": "stream",
     "text": [
      "dice 0.7958168906874614\n",
      "jaccard 0.6653089636590742\n",
      "hd 10.082749922618039\n",
      "asd 1.7866298495058848\n"
     ]
    }
   ],
   "source": [
    "from metrics import compute_metric\n",
    "import numpy as np\n",
    "\n",
    "test_dir = '../../Results/cvpr2024_covis/CAMUS/tsm_CAMUS_2frame_covis_alpha_0.03_wse_20_mom_tv_lmbd_0.025/'\n",
    "\n",
    "dice_list, jc_list, hd_list, asd_list = compute_metric(test_dir)\n",
    "\n",
    "print('dice', np.mean(dice_list))\n",
    "print('jaccard', np.mean(jc_list))\n",
    "print('hd', np.mean(hd_list))\n",
    "print('asd', np.mean(asd_list))"
   ]
  },
  {
   "cell_type": "code",
   "execution_count": 7,
   "metadata": {},
   "outputs": [
    {
     "name": "stdout",
     "output_type": "stream",
     "text": [
      "dice 0.7942970628090851\n",
      "jaccard 0.6633943700314926\n",
      "hd 9.944006991349177\n",
      "asd 1.7990699588539432\n"
     ]
    }
   ],
   "source": [
    "from metrics import compute_metric\n",
    "import numpy as np\n",
    "\n",
    "test_dir = '../../Results/cvpr2024_covis/CAMUS/tsm_CAMUS_2frame_covis_alpha_0.03_wse_20_mom_tv_lmbd_0.03/'\n",
    "\n",
    "dice_list, jc_list, hd_list, asd_list = compute_metric(test_dir)\n",
    "\n",
    "print('dice', np.mean(dice_list))\n",
    "print('jaccard', np.mean(jc_list))\n",
    "print('hd', np.mean(hd_list))\n",
    "print('asd', np.mean(asd_list))"
   ]
  },
  {
   "cell_type": "code",
   "execution_count": 8,
   "metadata": {},
   "outputs": [
    {
     "name": "stdout",
     "output_type": "stream",
     "text": [
      "dice 0.7961160906457675\n",
      "jaccard 0.6655997337406635\n",
      "hd 10.087869749122346\n",
      "asd 1.7952990634202086\n"
     ]
    }
   ],
   "source": [
    "from metrics import compute_metric\n",
    "import numpy as np\n",
    "\n",
    "test_dir = '../../Results/cvpr2024_covis/CAMUS/tsm_CAMUS_2frame_covis_alpha_0.03_lmbd_0.03_wse_20_tv_adabeta_0.1/'\n",
    "\n",
    "dice_list, jc_list, hd_list, asd_list = compute_metric(test_dir)\n",
    "\n",
    "print('dice', np.mean(dice_list))\n",
    "print('jaccard', np.mean(jc_list))\n",
    "print('hd', np.mean(hd_list))\n",
    "print('asd', np.mean(asd_list))"
   ]
  },
  {
   "cell_type": "code",
   "execution_count": 9,
   "metadata": {},
   "outputs": [
    {
     "name": "stdout",
     "output_type": "stream",
     "text": [
      "dice 0.794320654289825\n",
      "jaccard 0.6632730439442801\n",
      "hd 9.884254932863621\n",
      "asd 1.8059416582877506\n"
     ]
    }
   ],
   "source": [
    "from metrics import compute_metric\n",
    "import numpy as np\n",
    "\n",
    "test_dir = '../../Results/cvpr2024_covis/CAMUS/tsm_CAMUS_2frame_covis_alpha_0.03_lmbd_0.03_wse_20_tv_adabeta_0.5/'\n",
    "\n",
    "dice_list, jc_list, hd_list, asd_list = compute_metric(test_dir)\n",
    "\n",
    "print('dice', np.mean(dice_list))\n",
    "print('jaccard', np.mean(jc_list))\n",
    "print('hd', np.mean(hd_list))\n",
    "print('asd', np.mean(asd_list))"
   ]
  },
  {
   "cell_type": "code",
   "execution_count": 10,
   "metadata": {},
   "outputs": [
    {
     "name": "stdout",
     "output_type": "stream",
     "text": [
      "dice 0.794365209486143\n",
      "jaccard 0.6632318284944705\n",
      "hd 9.838416331919849\n",
      "asd 1.810861766781193\n"
     ]
    }
   ],
   "source": [
    "from metrics import compute_metric\n",
    "import numpy as np\n",
    "\n",
    "test_dir = '../../Results/cvpr2024_covis/CAMUS/tsm_CAMUS_2frame_covis_alpha_0.03_lmbd_0.03_wse_20_tv_adabeta_1/'\n",
    "\n",
    "dice_list, jc_list, hd_list, asd_list = compute_metric(test_dir)\n",
    "\n",
    "print('dice', np.mean(dice_list))\n",
    "print('jaccard', np.mean(jc_list))\n",
    "print('hd', np.mean(hd_list))\n",
    "print('asd', np.mean(asd_list))"
   ]
  },
  {
   "cell_type": "code",
   "execution_count": 2,
   "metadata": {},
   "outputs": [
    {
     "name": "stdout",
     "output_type": "stream",
     "text": [
      "dice 0.7963801725621298\n",
      "jaccard 0.6661215572852768\n",
      "hd 9.846639636468566\n",
      "asd 1.7888007192575355\n"
     ]
    }
   ],
   "source": [
    "from metrics import compute_metric\n",
    "import numpy as np\n",
    "\n",
    "test_dir = '../../Results/cvpr2024_covis/CAMUS/tsm_CAMUS_2frame_covis_alpha_0.03_lmbd_0.03_wse_20_tv_adabeta_5/'\n",
    "\n",
    "dice_list, jc_list, hd_list, asd_list = compute_metric(test_dir)\n",
    "\n",
    "print('dice', np.mean(dice_list))\n",
    "print('jaccard', np.mean(jc_list))\n",
    "print('hd', np.mean(hd_list))\n",
    "print('asd', np.mean(asd_list))"
   ]
  },
  {
   "cell_type": "code",
   "execution_count": 5,
   "metadata": {},
   "outputs": [
    {
     "name": "stdout",
     "output_type": "stream",
     "text": [
      "dice 0.797044531140233\n",
      "jaccard 0.6670006752256277\n",
      "hd 9.94026784987793\n",
      "asd 1.7787750741684092\n"
     ]
    }
   ],
   "source": [
    "from metrics import compute_metric\n",
    "import numpy as np\n",
    "\n",
    "test_dir = '../../Results/cvpr2024_covis/CAMUS/tsm_CAMUS_2frame_covis_alpha_0.03_lmbd_0.03_wse_20_tv_adabeta_5_nomut/'\n",
    "\n",
    "dice_list, jc_list, hd_list, asd_list = compute_metric(test_dir)\n",
    "\n",
    "print('dice', np.mean(dice_list))\n",
    "print('jaccard', np.mean(jc_list))\n",
    "print('hd', np.mean(hd_list))\n",
    "print('asd', np.mean(asd_list))"
   ]
  },
  {
   "cell_type": "code",
   "execution_count": 3,
   "metadata": {},
   "outputs": [
    {
     "name": "stdout",
     "output_type": "stream",
     "text": [
      "dice 0.796680330035135\n",
      "jaccard 0.6666510950666877\n",
      "hd 9.880594741420085\n",
      "asd 1.7860872011194346\n"
     ]
    }
   ],
   "source": [
    "from metrics import compute_metric\n",
    "import numpy as np\n",
    "\n",
    "test_dir = '../../Results/cvpr2024_covis/CAMUS/tsm_CAMUS_2frame_covis_alpha_0.03_lmbd_0.03_wse_20_tv_adabeta_5_alt/'\n",
    "\n",
    "dice_list, jc_list, hd_list, asd_list = compute_metric(test_dir)\n",
    "\n",
    "print('dice', np.mean(dice_list))\n",
    "print('jaccard', np.mean(jc_list))\n",
    "print('hd', np.mean(hd_list))\n",
    "print('asd', np.mean(asd_list))"
   ]
  },
  {
   "cell_type": "markdown",
   "metadata": {},
   "source": [
    "## Echo"
   ]
  },
  {
   "cell_type": "code",
   "execution_count": 7,
   "metadata": {},
   "outputs": [
    {
     "name": "stdout",
     "output_type": "stream",
     "text": [
      "dice 0.743813176423492\n",
      "jaccard 0.6011086448991857\n",
      "hd 18.002953798583547\n",
      "asd 2.179635215483228\n"
     ]
    }
   ],
   "source": [
    "from metrics import compute_metric\n",
    "import numpy as np\n",
    "\n",
    "test_dir = '../../Results/cvpr2024_covis/Echo/tsm_echo_2frame_covis_alpha_0.01_mom_tv/'\n",
    "\n",
    "dice_list, jc_list, hd_list, asd_list = compute_metric(test_dir)\n",
    "\n",
    "print('dice', np.mean(dice_list))\n",
    "print('jaccard', np.mean(jc_list))\n",
    "print('hd', np.mean(hd_list))\n",
    "print('asd', np.mean(asd_list))"
   ]
  },
  {
   "cell_type": "code",
   "execution_count": 21,
   "metadata": {},
   "outputs": [
    {
     "name": "stdout",
     "output_type": "stream",
     "text": [
      "dice 0.7474545753758364\n",
      "jaccard 0.606496834287178\n",
      "hd 18.061674048188245\n",
      "asd 2.1107640723645487\n"
     ]
    }
   ],
   "source": [
    "from metrics import compute_metric\n",
    "import numpy as np\n",
    "\n",
    "test_dir = '../../Results/cvpr2024_covis/Echo/tsm_echo_2frame_covis_alpha_0.01_wse_10_tv_beta_0.1/'\n",
    "\n",
    "dice_list, jc_list, hd_list, asd_list = compute_metric(test_dir)\n",
    "\n",
    "print('dice', np.mean(dice_list))\n",
    "print('jaccard', np.mean(jc_list))\n",
    "print('hd', np.mean(hd_list))\n",
    "print('asd', np.mean(asd_list))"
   ]
  },
  {
   "cell_type": "code",
   "execution_count": 22,
   "metadata": {},
   "outputs": [
    {
     "name": "stdout",
     "output_type": "stream",
     "text": [
      "dice 0.7375962939968941\n",
      "jaccard 0.5944269911694733\n",
      "hd 18.198007162406203\n",
      "asd 2.1889481704874933\n"
     ]
    }
   ],
   "source": [
    "from metrics import compute_metric\n",
    "import numpy as np\n",
    "\n",
    "test_dir = '../../Results/cvpr2024_covis/Echo/tsm_echo_2frame_covis_alpha_0.01_wse_10_tv_beta_1/'\n",
    "\n",
    "dice_list, jc_list, hd_list, asd_list = compute_metric(test_dir)\n",
    "\n",
    "print('dice', np.mean(dice_list))\n",
    "print('jaccard', np.mean(jc_list))\n",
    "print('hd', np.mean(hd_list))\n",
    "print('asd', np.mean(asd_list))"
   ]
  },
  {
   "cell_type": "code",
   "execution_count": 23,
   "metadata": {},
   "outputs": [
    {
     "name": "stdout",
     "output_type": "stream",
     "text": [
      "dice 0.7442334149406066\n",
      "jaccard 0.6016537935855919\n",
      "hd 18.036279550702226\n",
      "asd 2.14806765895336\n"
     ]
    }
   ],
   "source": [
    "from metrics import compute_metric\n",
    "import numpy as np\n",
    "\n",
    "test_dir = '../../Results/cvpr2024_covis/Echo/tsm_echo_2frame_covis_alpha_0.01_wse_10_tv_beta_5/'\n",
    "\n",
    "dice_list, jc_list, hd_list, asd_list = compute_metric(test_dir)\n",
    "\n",
    "print('dice', np.mean(dice_list))\n",
    "print('jaccard', np.mean(jc_list))\n",
    "print('hd', np.mean(hd_list))\n",
    "print('asd', np.mean(asd_list))"
   ]
  },
  {
   "cell_type": "code",
   "execution_count": 24,
   "metadata": {},
   "outputs": [
    {
     "name": "stdout",
     "output_type": "stream",
     "text": [
      "dice 0.7408114469809146\n",
      "jaccard 0.5965068334342982\n",
      "hd 17.88336685000674\n",
      "asd 2.1902359386244186\n"
     ]
    }
   ],
   "source": [
    "from metrics import compute_metric\n",
    "import numpy as np\n",
    "\n",
    "test_dir = '../../Results/cvpr2024_covis/Echo/tsm_echo_2frame_covis_alpha_0.01_wse_10_tv_beta_10/'\n",
    "\n",
    "dice_list, jc_list, hd_list, asd_list = compute_metric(test_dir)\n",
    "\n",
    "print('dice', np.mean(dice_list))\n",
    "print('jaccard', np.mean(jc_list))\n",
    "print('hd', np.mean(hd_list))\n",
    "print('asd', np.mean(asd_list))"
   ]
  },
  {
   "cell_type": "code",
   "execution_count": 12,
   "metadata": {},
   "outputs": [
    {
     "name": "stdout",
     "output_type": "stream",
     "text": [
      "dice 0.7534663508307509\n",
      "jaccard 0.6137799168433572\n",
      "hd 17.448763059353176\n",
      "asd 2.167355121566045\n"
     ]
    }
   ],
   "source": [
    "from metrics import compute_metric\n",
    "import numpy as np\n",
    "\n",
    "test_dir = '../../Results/cvpr2024_covis/Echo/tsm_echo_2frame_covis_alpha_0.01_wse_10_mom_tv_lmbd_0.025/'\n",
    "\n",
    "dice_list, jc_list, hd_list, asd_list = compute_metric(test_dir)\n",
    "\n",
    "print('dice', np.mean(dice_list))\n",
    "print('jaccard', np.mean(jc_list))\n",
    "print('hd', np.mean(hd_list))\n",
    "print('asd', np.mean(asd_list))"
   ]
  },
  {
   "cell_type": "code",
   "execution_count": 13,
   "metadata": {},
   "outputs": [
    {
     "name": "stdout",
     "output_type": "stream",
     "text": [
      "dice 0.7492972301284011\n",
      "jaccard 0.6084554377439377\n",
      "hd 17.677965802907064\n",
      "asd 2.1913680356573586\n"
     ]
    }
   ],
   "source": [
    "from metrics import compute_metric\n",
    "import numpy as np\n",
    "\n",
    "test_dir = '../../Results/cvpr2024_covis/Echo/tsm_echo_2frame_covis_alpha_0.01_wse_10_mom_tv_lmbd_0.015/'\n",
    "\n",
    "dice_list, jc_list, hd_list, asd_list = compute_metric(test_dir)\n",
    "\n",
    "print('dice', np.mean(dice_list))\n",
    "print('jaccard', np.mean(jc_list))\n",
    "print('hd', np.mean(hd_list))\n",
    "print('asd', np.mean(asd_list))"
   ]
  },
  {
   "cell_type": "code",
   "execution_count": 17,
   "metadata": {},
   "outputs": [
    {
     "name": "stdout",
     "output_type": "stream",
     "text": [
      "dice 0.7557584133688251\n",
      "jaccard 0.6165045265014902\n",
      "hd 17.587167320432805\n",
      "asd 2.1728647895607742\n"
     ]
    }
   ],
   "source": [
    "from metrics import compute_metric\n",
    "import numpy as np\n",
    "\n",
    "test_dir = '../../Results/cvpr2024_covis/Echo/tsm_echo_2frame_covis_alpha_0.01_lmbd_0.025_wse_20_tv_adabeta_0.1/'\n",
    "\n",
    "dice_list, jc_list, hd_list, asd_list = compute_metric(test_dir)\n",
    "\n",
    "print('dice', np.mean(dice_list))\n",
    "print('jaccard', np.mean(jc_list))\n",
    "print('hd', np.mean(hd_list))\n",
    "print('asd', np.mean(asd_list))"
   ]
  },
  {
   "cell_type": "code",
   "execution_count": 18,
   "metadata": {},
   "outputs": [
    {
     "name": "stdout",
     "output_type": "stream",
     "text": [
      "dice 0.7535709277932054\n",
      "jaccard 0.6131826131666366\n",
      "hd 17.807214040781012\n",
      "asd 2.145842635731488\n"
     ]
    }
   ],
   "source": [
    "from metrics import compute_metric\n",
    "import numpy as np\n",
    "\n",
    "test_dir = '../../Results/cvpr2024_covis/Echo/tsm_echo_2frame_covis_alpha_0.01_lmbd_0.025_wse_20_tv_adabeta_0.5/'\n",
    "\n",
    "dice_list, jc_list, hd_list, asd_list = compute_metric(test_dir)\n",
    "\n",
    "print('dice', np.mean(dice_list))\n",
    "print('jaccard', np.mean(jc_list))\n",
    "print('hd', np.mean(hd_list))\n",
    "print('asd', np.mean(asd_list))"
   ]
  },
  {
   "cell_type": "code",
   "execution_count": 19,
   "metadata": {},
   "outputs": [
    {
     "name": "stdout",
     "output_type": "stream",
     "text": [
      "dice 0.7541685000650264\n",
      "jaccard 0.6132331547773873\n",
      "hd 17.99183252238921\n",
      "asd 2.1522872867169456\n"
     ]
    }
   ],
   "source": [
    "from metrics import compute_metric\n",
    "import numpy as np\n",
    "\n",
    "test_dir = '../../Results/cvpr2024_covis/Echo/tsm_echo_2frame_covis_alpha_0.01_lmbd_0.025_wse_20_tv_adabeta_0.75/'\n",
    "\n",
    "dice_list, jc_list, hd_list, asd_list = compute_metric(test_dir)\n",
    "\n",
    "print('dice', np.mean(dice_list))\n",
    "print('jaccard', np.mean(jc_list))\n",
    "print('hd', np.mean(hd_list))\n",
    "print('asd', np.mean(asd_list))"
   ]
  },
  {
   "cell_type": "code",
   "execution_count": 20,
   "metadata": {},
   "outputs": [
    {
     "name": "stdout",
     "output_type": "stream",
     "text": [
      "dice 0.7532426157805951\n",
      "jaccard 0.6123666025256707\n",
      "hd 17.826061301490135\n",
      "asd 2.1653852131772195\n"
     ]
    }
   ],
   "source": [
    "from metrics import compute_metric\n",
    "import numpy as np\n",
    "\n",
    "test_dir = '../../Results/cvpr2024_covis/Echo/tsm_echo_2frame_covis_alpha_0.01_lmbd_0.025_wse_20_tv_adabeta_1/'\n",
    "\n",
    "dice_list, jc_list, hd_list, asd_list = compute_metric(test_dir)\n",
    "\n",
    "print('dice', np.mean(dice_list))\n",
    "print('jaccard', np.mean(jc_list))\n",
    "print('hd', np.mean(hd_list))\n",
    "print('asd', np.mean(asd_list))"
   ]
  },
  {
   "cell_type": "code",
   "execution_count": 21,
   "metadata": {},
   "outputs": [
    {
     "name": "stdout",
     "output_type": "stream",
     "text": [
      "dice 0.7551240596504737\n",
      "jaccard 0.6158757743879406\n",
      "hd 17.82008585622672\n",
      "asd 2.1676445257320216\n"
     ]
    }
   ],
   "source": [
    "from metrics import compute_metric\n",
    "import numpy as np\n",
    "\n",
    "test_dir = '../../Results/cvpr2024_covis/Echo/tsm_echo_2frame_covis_alpha_0.01_lmbd_0.025_wse_20_tv_adabeta_1.5/'\n",
    "\n",
    "dice_list, jc_list, hd_list, asd_list = compute_metric(test_dir)\n",
    "\n",
    "print('dice', np.mean(dice_list))\n",
    "print('jaccard', np.mean(jc_list))\n",
    "print('hd', np.mean(hd_list))\n",
    "print('asd', np.mean(asd_list))"
   ]
  },
  {
   "cell_type": "code",
   "execution_count": 22,
   "metadata": {},
   "outputs": [
    {
     "name": "stdout",
     "output_type": "stream",
     "text": [
      "dice 0.7554134533761923\n",
      "jaccard 0.6144774443562856\n",
      "hd 17.295322350218896\n",
      "asd 2.1583955734548885\n"
     ]
    }
   ],
   "source": [
    "from metrics import compute_metric\n",
    "import numpy as np\n",
    "\n",
    "test_dir = '../../Results/cvpr2024_covis/Echo/tsm_echo_2frame_covis_alpha_0.01_lmbd_0.025_wse_20_tv_adabeta_2.5/'\n",
    "\n",
    "dice_list, jc_list, hd_list, asd_list = compute_metric(test_dir)\n",
    "\n",
    "print('dice', np.mean(dice_list))\n",
    "print('jaccard', np.mean(jc_list))\n",
    "print('hd', np.mean(hd_list))\n",
    "print('asd', np.mean(asd_list))"
   ]
  },
  {
   "cell_type": "code",
   "execution_count": 23,
   "metadata": {},
   "outputs": [
    {
     "name": "stdout",
     "output_type": "stream",
     "text": [
      "dice 0.7545276440913744\n",
      "jaccard 0.6138991172920532\n",
      "hd 17.711925870807963\n",
      "asd 2.1532838313968155\n"
     ]
    }
   ],
   "source": [
    "from metrics import compute_metric\n",
    "import numpy as np\n",
    "\n",
    "test_dir = '../../Results/cvpr2024_covis/Echo/tsm_echo_2frame_covis_alpha_0.01_lmbd_0.025_wse_20_tv_adabeta_5/'\n",
    "\n",
    "dice_list, jc_list, hd_list, asd_list = compute_metric(test_dir)\n",
    "\n",
    "print('dice', np.mean(dice_list))\n",
    "print('jaccard', np.mean(jc_list))\n",
    "print('hd', np.mean(hd_list))\n",
    "print('asd', np.mean(asd_list))"
   ]
  },
  {
   "cell_type": "code",
   "execution_count": null,
   "metadata": {},
   "outputs": [],
   "source": []
  }
 ],
 "metadata": {
  "kernelspec": {
   "display_name": "optical_flow",
   "language": "python",
   "name": "python3"
  },
  "language_info": {
   "codemirror_mode": {
    "name": "ipython",
    "version": 3
   },
   "file_extension": ".py",
   "mimetype": "text/x-python",
   "name": "python",
   "nbconvert_exporter": "python",
   "pygments_lexer": "ipython3",
   "version": "3.6.13"
  }
 },
 "nbformat": 4,
 "nbformat_minor": 2
}
