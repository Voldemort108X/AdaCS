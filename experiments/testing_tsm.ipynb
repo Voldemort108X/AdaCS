{
 "cells": [
  {
   "cell_type": "code",
   "execution_count": 1,
   "metadata": {},
   "outputs": [
    {
     "name": "stdout",
     "output_type": "stream",
     "text": [
      "/mnt/d/XiaoranZhang/Projects/Optical_flow/Code/cvpr2024_covis\n"
     ]
    }
   ],
   "source": [
    "# (Restart the kernel if you want to rerun the cell) move up current working directory\n",
    "import os\n",
    "os.chdir('../')\n",
    "print(os.getcwd())"
   ]
  },
  {
   "cell_type": "markdown",
   "metadata": {},
   "source": [
    "# ACDC"
   ]
  },
  {
   "cell_type": "code",
   "execution_count": 4,
   "metadata": {},
   "outputs": [],
   "source": [
    "!python transmorph_torch/test.py --dataset 'ACDC' --test-dir '../../Dataset/ACDC/test/' --result-dir '../../Results/cvpr2024_covis/ACDC/tsm_ACDC_2frame_covis_alpha_0.01_wse_20/' --model-motion '../../Models/cvpr2024_covis/ACDC/tsm_ACDC_2frame_covis_alpha_0.01_wse_20_mom_tv/motion_0260.pt' --model-covis '../../Models/cvpr2024_covis/ACDC/tsm_ACDC_2frame_covis_alpha_0.01_wse_20_mom_tv/covis_0260.pt' --inshape 128 128\n"
   ]
  },
  {
   "cell_type": "code",
   "execution_count": 14,
   "metadata": {},
   "outputs": [],
   "source": [
    "!python transmorph_torch/test.py --dataset 'ACDC' --test-dir '../../Dataset/ACDC/test/' --result-dir '../../Results/cvpr2024_covis/ACDC/tsm_ACDC_2frame_covis_alpha_0.01_wse_20_tv_beta_10/' --model-motion '../../Models/cvpr2024_covis/ACDC/tsm_ACDC_2frame_covis_alpha_0.01_wse_20_tv_beta_10/motion_0260.pt' --model-covis '../../Models/cvpr2024_covis/ACDC/tsm_ACDC_2frame_covis_alpha_0.01_wse_20_tv_beta_10/covis_0260.pt' --inshape 128 128\n"
   ]
  },
  {
   "cell_type": "code",
   "execution_count": 15,
   "metadata": {},
   "outputs": [],
   "source": [
    "!python transmorph_torch/test.py --dataset 'ACDC' --test-dir '../../Dataset/ACDC/test/' --result-dir '../../Results/cvpr2024_covis/ACDC/tsm_ACDC_2frame_covis_alpha_0.01_wse_20_tv_beta_1/' --model-motion '../../Models/cvpr2024_covis/ACDC/tsm_ACDC_2frame_covis_alpha_0.01_wse_20_tv_beta_1/motion_0260.pt' --model-covis '../../Models/cvpr2024_covis/ACDC/tsm_ACDC_2frame_covis_alpha_0.01_wse_20_tv_beta_1/covis_0260.pt' --inshape 128 128\n"
   ]
  },
  {
   "cell_type": "code",
   "execution_count": 16,
   "metadata": {},
   "outputs": [],
   "source": [
    "!python transmorph_torch/test.py --dataset 'ACDC' --test-dir '../../Dataset/ACDC/test/' --result-dir '../../Results/cvpr2024_covis/ACDC/tsm_ACDC_2frame_covis_alpha_0.01_wse_20_tv_beta_0.1/' --model-motion '../../Models/cvpr2024_covis/ACDC/tsm_ACDC_2frame_covis_alpha_0.01_wse_20_tv_beta_0.1/motion_0260.pt' --model-covis '../../Models/cvpr2024_covis/ACDC/tsm_ACDC_2frame_covis_alpha_0.01_wse_20_tv_beta_0.1/covis_0260.pt' --inshape 128 128\n"
   ]
  },
  {
   "cell_type": "code",
   "execution_count": 17,
   "metadata": {},
   "outputs": [],
   "source": [
    "!python transmorph_torch/test.py --dataset 'ACDC' --test-dir '../../Dataset/ACDC/test/' --result-dir '../../Results/cvpr2024_covis/ACDC/tsm_ACDC_2frame_covis_alpha_0.01_wse_20_tv_beta_5/' --model-motion '../../Models/cvpr2024_covis/ACDC/tsm_ACDC_2frame_covis_alpha_0.01_wse_20_tv_beta_5/motion_0260.pt' --model-covis '../../Models/cvpr2024_covis/ACDC/tsm_ACDC_2frame_covis_alpha_0.01_wse_20_tv_beta_5/covis_0260.pt' --inshape 128 128\n"
   ]
  },
  {
   "cell_type": "code",
   "execution_count": 3,
   "metadata": {},
   "outputs": [],
   "source": [
    "!python transmorph_torch/test.py --dataset 'ACDC' --test-dir '../../Dataset/ACDC/test/' --result-dir '../../Results/cvpr2024_covis/ACDC/tsm_ACDC_2frame_covis_alpha_0.01_wse_20_tv_adabeta_0.1/' --model-motion '../../Models/cvpr2024_covis/ACDC/tsm_ACDC_2frame_covis_alpha_0.01_wse_20_tv_adabeta_0.1/motion_0300.pt' --model-covis '../../Models/cvpr2024_covis/ACDC/tsm_ACDC_2frame_covis_alpha_0.01_wse_20_tv_adabeta_0.1/covis_0300.pt' --inshape 128 128\n"
   ]
  },
  {
   "cell_type": "code",
   "execution_count": 4,
   "metadata": {},
   "outputs": [],
   "source": [
    "!python transmorph_torch/test.py --dataset 'ACDC' --test-dir '../../Dataset/ACDC/test/' --result-dir '../../Results/cvpr2024_covis/ACDC/tsm_ACDC_2frame_covis_alpha_0.01_wse_20_tv_adabeta_0.5/' --model-motion '../../Models/cvpr2024_covis/ACDC/tsm_ACDC_2frame_covis_alpha_0.01_wse_20_tv_adabeta_0.5/motion_0300.pt' --model-covis '../../Models/cvpr2024_covis/ACDC/tsm_ACDC_2frame_covis_alpha_0.01_wse_20_tv_adabeta_0.5/covis_0300.pt' --inshape 128 128\n"
   ]
  },
  {
   "cell_type": "code",
   "execution_count": 5,
   "metadata": {},
   "outputs": [],
   "source": [
    "!python transmorph_torch/test.py --dataset 'ACDC' --test-dir '../../Dataset/ACDC/test/' --result-dir '../../Results/cvpr2024_covis/ACDC/tsm_ACDC_2frame_covis_alpha_0.01_wse_20_tv_adabeta_1/' --model-motion '../../Models/cvpr2024_covis/ACDC/tsm_ACDC_2frame_covis_alpha_0.01_wse_20_tv_adabeta_1/motion_0300.pt' --model-covis '../../Models/cvpr2024_covis/ACDC/tsm_ACDC_2frame_covis_alpha_0.01_wse_20_tv_adabeta_1/covis_0300.pt' --inshape 128 128\n"
   ]
  },
  {
   "cell_type": "code",
   "execution_count": 6,
   "metadata": {},
   "outputs": [],
   "source": [
    "!python transmorph_torch/test.py --dataset 'ACDC' --test-dir '../../Dataset/ACDC/test/' --result-dir '../../Results/cvpr2024_covis/ACDC/tsm_ACDC_2frame_covis_alpha_0.01_wse_20_tv_adabeta_2.5/' --model-motion '../../Models/cvpr2024_covis/ACDC/tsm_ACDC_2frame_covis_alpha_0.01_wse_20_tv_adabeta_2.5/motion_0300.pt' --model-covis '../../Models/cvpr2024_covis/ACDC/tsm_ACDC_2frame_covis_alpha_0.01_wse_20_tv_adabeta_2.5/covis_0300.pt' --inshape 128 128\n"
   ]
  },
  {
   "cell_type": "code",
   "execution_count": 7,
   "metadata": {},
   "outputs": [],
   "source": [
    "!python transmorph_torch/test.py --dataset 'ACDC' --test-dir '../../Dataset/ACDC/test/' --result-dir '../../Results/cvpr2024_covis/ACDC/tsm_ACDC_2frame_covis_alpha_0.01_wse_20_tv_adabeta_5/' --model-motion '../../Models/cvpr2024_covis/ACDC/tsm_ACDC_2frame_covis_alpha_0.01_wse_20_tv_adabeta_5/motion_0300.pt' --model-covis '../../Models/cvpr2024_covis/ACDC/tsm_ACDC_2frame_covis_alpha_0.01_wse_20_tv_adabeta_5/covis_0300.pt' --inshape 128 128\n"
   ]
  },
  {
   "cell_type": "code",
   "execution_count": 15,
   "metadata": {},
   "outputs": [],
   "source": [
    "!python transmorph_torch/test.py --dataset 'ACDC' --test-dir '../../Dataset/ACDC/test/' --result-dir '../../Results/cvpr2024_covis/ACDC/tsm_ACDC_2frame_covis_alpha_0.01_wse_20_tv_adabeta_1.5/' --model-motion '../../Models/cvpr2024_covis/ACDC/tsm_ACDC_2frame_covis_alpha_0.01_wse_20_tv_adabeta_1.5/motion_0300.pt' --model-covis '../../Models/cvpr2024_covis/ACDC/tsm_ACDC_2frame_covis_alpha_0.01_wse_20_tv_adabeta_1.5/covis_0300.pt' --inshape 128 128\n"
   ]
  },
  {
   "cell_type": "code",
   "execution_count": 16,
   "metadata": {},
   "outputs": [],
   "source": [
    "!python transmorph_torch/test.py --dataset 'ACDC' --test-dir '../../Dataset/ACDC/test/' --result-dir '../../Results/cvpr2024_covis/ACDC/tsm_ACDC_2frame_covis_alpha_0.01_wse_20_tv_adabeta_0.75/' --model-motion '../../Models/cvpr2024_covis/ACDC/tsm_ACDC_2frame_covis_alpha_0.01_wse_20_tv_adabeta_0.75/motion_0300.pt' --model-covis '../../Models/cvpr2024_covis/ACDC/tsm_ACDC_2frame_covis_alpha_0.01_wse_20_tv_adabeta_0.75/covis_0300.pt' --inshape 128 128\n"
   ]
  },
  {
   "cell_type": "code",
   "execution_count": 17,
   "metadata": {},
   "outputs": [],
   "source": [
    "!python transmorph_torch/test.py --dataset 'ACDC' --test-dir '../../Dataset/ACDC/test/' --result-dir '../../Results/cvpr2024_covis/ACDC/tsm_ACDC_2frame_covis_alpha_0.01_wse_20_tv_adabeta_2/' --model-motion '../../Models/cvpr2024_covis/ACDC/tsm_ACDC_2frame_covis_alpha_0.01_wse_20_tv_adabeta_2/motion_0300.pt' --model-covis '../../Models/cvpr2024_covis/ACDC/tsm_ACDC_2frame_covis_alpha_0.01_wse_20_tv_adabeta_2/covis_0300.pt' --inshape 128 128\n"
   ]
  },
  {
   "cell_type": "code",
   "execution_count": 2,
   "metadata": {},
   "outputs": [],
   "source": [
    "!python transmorph_torch/test.py --dataset 'ACDC' --test-dir '../../Dataset/ACDC/test/' --result-dir '../../Results/cvpr2024_covis/ACDC/tsm_ACDC_2frame_covis_alpha_0.01_wse_20_tv_adabeta_0.6/' --model-motion '../../Models/cvpr2024_covis/ACDC/tsm_ACDC_2frame_covis_alpha_0.01_wse_20_tv_adabeta_0.6/motion_0300.pt' --model-covis '../../Models/cvpr2024_covis/ACDC/tsm_ACDC_2frame_covis_alpha_0.01_wse_20_tv_adabeta_0.6/covis_0300.pt' --inshape 128 128\n"
   ]
  },
  {
   "cell_type": "code",
   "execution_count": null,
   "metadata": {},
   "outputs": [],
   "source": [
    "!python transmorph_torch/test.py --dataset 'ACDC' --test-dir '../../Dataset/ACDC/test/' --result-dir '../../Results/cvpr2024_covis/ACDC/tsm_ACDC_2frame_covis_alpha_0.01_wse_20_tv_adabeta_0.8/' --model-motion '../../Models/cvpr2024_covis/ACDC/tsm_ACDC_2frame_covis_alpha_0.01_wse_20_tv_adabeta_0.8/motion_0300.pt' --model-covis '../../Models/cvpr2024_covis/ACDC/tsm_ACDC_2frame_covis_alpha_0.01_wse_20_tv_adabeta_0.8/covis_0300.pt' --inshape 128 128\n"
   ]
  },
  {
   "cell_type": "code",
   "execution_count": null,
   "metadata": {},
   "outputs": [],
   "source": [
    "!python transmorph_torch/test.py --dataset 'ACDC' --test-dir '../../Dataset/ACDC/test/' --result-dir '../../Results/cvpr2024_covis/ACDC/tsm_ACDC_2frame_covis_alpha_0.01_wse_20_tv_adabeta_1.25/' --model-motion '../../Models/cvpr2024_covis/ACDC/tsm_ACDC_2frame_covis_alpha_0.01_wse_20_tv_adabeta_1.25/motion_0300.pt' --model-covis '../../Models/cvpr2024_covis/ACDC/tsm_ACDC_2frame_covis_alpha_0.01_wse_20_tv_adabeta_1.25/covis_0300.pt' --inshape 128 128\n"
   ]
  },
  {
   "cell_type": "code",
   "execution_count": 3,
   "metadata": {},
   "outputs": [],
   "source": [
    "!python transmorph_torch/test.py --dataset 'ACDC' --test-dir '../../Dataset/ACDC/test/' --result-dir '../../Results/cvpr2024_covis/ACDC/tsm_ACDC_2frame_covis_alpha_0.01_wse_20_tv_adabeta_0.75_init/' --model-motion '../../Models/cvpr2024_covis/ACDC/tsm_ACDC_2frame_covis_alpha_0.01_wse_20_tv_adabeta_0.75_init/motion_0300.pt' --model-covis '../../Models/cvpr2024_covis/ACDC/tsm_ACDC_2frame_covis_alpha_0.01_wse_20_tv_adabeta_0.75_init/covis_0300.pt' --inshape 128 128\n"
   ]
  },
  {
   "cell_type": "code",
   "execution_count": 2,
   "metadata": {},
   "outputs": [],
   "source": [
    "!python transmorph_torch/test.py --dataset 'ACDC' --test-dir '../../Dataset/ACDC/test/' --result-dir '../../Results/cvpr2024_covis/ACDC/tsm_ACDC_2frame_covis_alpha_0.01_wse_20_tv_adabeta_1.5_nomut/' --model-motion '../../Models/cvpr2024_covis/ACDC/tsm_ACDC_2frame_covis_alpha_0.01_wse_20_tv_adabeta_1.5_nomut/motion_0300.pt' --model-covis '../../Models/cvpr2024_covis/ACDC/tsm_ACDC_2frame_covis_alpha_0.01_wse_20_tv_adabeta_1.5_nomut/covis_0300.pt' --inshape 128 128\n"
   ]
  },
  {
   "cell_type": "markdown",
   "metadata": {},
   "source": [
    "# CAMUS"
   ]
  },
  {
   "cell_type": "code",
   "execution_count": 3,
   "metadata": {},
   "outputs": [],
   "source": [
    "!python transmorph_torch/test.py --dataset 'CAMUS' --test-dir '../../Dataset/CAMUS/test/' --result-dir '../../Results/cvpr2024_covis/CAMUS/tsm_CAMUS_2frame_covis_alpha_0.1_wse_20_mom_tv/' --model-motion '../../Models/cvpr2024_covis/CAMUS/tsm_CAMUS_2frame_covis_alpha_0.1_wse_20_mom_tv/motion_0260.pt' --model-covis '../../Models/cvpr2024_covis/CAMUS/tsm_CAMUS_2frame_covis_alpha_0.1_wse_20_mom_tv/covis_0260.pt' --inshape 128 128\n"
   ]
  },
  {
   "cell_type": "code",
   "execution_count": 4,
   "metadata": {},
   "outputs": [],
   "source": [
    "!python transmorph_torch/test.py --dataset 'CAMUS' --test-dir '../../Dataset/CAMUS/test/' --result-dir '../../Results/cvpr2024_covis/CAMUS/tsm_CAMUS_2frame_covis_alpha_0.05_wse_20_mom_tv/' --model-motion '../../Models/cvpr2024_covis/CAMUS/tsm_CAMUS_2frame_covis_alpha_0.05_wse_20_mom_tv/motion_0260.pt' --model-covis '../../Models/cvpr2024_covis/CAMUS/tsm_CAMUS_2frame_covis_alpha_0.05_wse_20_mom_tv/covis_0260.pt' --inshape 128 128\n"
   ]
  },
  {
   "cell_type": "code",
   "execution_count": 5,
   "metadata": {},
   "outputs": [],
   "source": [
    "!python transmorph_torch/test.py --dataset 'CAMUS' --test-dir '../../Dataset/CAMUS/test/' --result-dir '../../Results/cvpr2024_covis/CAMUS/tsm_CAMUS_2frame_covis_alpha_0.025_wse_20_mom_tv/' --model-motion '../../Models/cvpr2024_covis/CAMUS/tsm_CAMUS_2frame_covis_alpha_0.025_wse_20_mom_tv/motion_0260.pt' --model-covis '../../Models/cvpr2024_covis/CAMUS/tsm_CAMUS_2frame_covis_alpha_0.025_wse_20_mom_tv/covis_0260.pt' --inshape 128 128\n"
   ]
  },
  {
   "cell_type": "code",
   "execution_count": 10,
   "metadata": {},
   "outputs": [],
   "source": [
    "!python transmorph_torch/test.py --dataset 'CAMUS' --test-dir '../../Dataset/CAMUS/test/' --result-dir '../../Results/cvpr2024_covis/CAMUS/tsm_CAMUS_2frame_covis_alpha_0.01_wse_20_mom_tv/' --model-motion '../../Models/cvpr2024_covis/CAMUS/tsm_CAMUS_2frame_covis_alpha_0.01_wse_20_mom_tv/motion_0260.pt' --model-covis '../../Models/cvpr2024_covis/CAMUS/tsm_CAMUS_2frame_covis_alpha_0.01_wse_20_mom_tv/covis_0260.pt' --inshape 128 128\n"
   ]
  },
  {
   "cell_type": "code",
   "execution_count": 11,
   "metadata": {},
   "outputs": [],
   "source": [
    "!python transmorph_torch/test.py --dataset 'CAMUS' --test-dir '../../Dataset/CAMUS/test/' --result-dir '../../Results/cvpr2024_covis/CAMUS/tsm_CAMUS_2frame_covis_alpha_0.02_wse_20_mom_tv/' --model-motion '../../Models/cvpr2024_covis/CAMUS/tsm_CAMUS_2frame_covis_alpha_0.02_wse_20_mom_tv/motion_0260.pt' --model-covis '../../Models/cvpr2024_covis/CAMUS/tsm_CAMUS_2frame_covis_alpha_0.02_wse_20_mom_tv/covis_0260.pt' --inshape 128 128\n"
   ]
  },
  {
   "cell_type": "code",
   "execution_count": 12,
   "metadata": {},
   "outputs": [],
   "source": [
    "!python transmorph_torch/test.py --dataset 'CAMUS' --test-dir '../../Dataset/CAMUS/test/' --result-dir '../../Results/cvpr2024_covis/CAMUS/tsm_CAMUS_2frame_covis_alpha_0.03_wse_20_mom_tv/' --model-motion '../../Models/cvpr2024_covis/CAMUS/tsm_CAMUS_2frame_covis_alpha_0.03_wse_20_mom_tv/motion_0260.pt' --model-covis '../../Models/cvpr2024_covis/CAMUS/tsm_CAMUS_2frame_covis_alpha_0.03_wse_20_mom_tv/covis_0260.pt' --inshape 128 128\n"
   ]
  },
  {
   "cell_type": "code",
   "execution_count": 13,
   "metadata": {},
   "outputs": [],
   "source": [
    "!python transmorph_torch/test.py --dataset 'CAMUS' --test-dir '../../Dataset/CAMUS/test/' --result-dir '../../Results/cvpr2024_covis/CAMUS/tsm_CAMUS_2frame_covis_alpha_0.04_wse_20_mom_tv/' --model-motion '../../Models/cvpr2024_covis/CAMUS/tsm_CAMUS_2frame_covis_alpha_0.04_wse_20_mom_tv/motion_0260.pt' --model-covis '../../Models/cvpr2024_covis/CAMUS/tsm_CAMUS_2frame_covis_alpha_0.04_wse_20_mom_tv/covis_0260.pt' --inshape 128 128\n"
   ]
  },
  {
   "cell_type": "code",
   "execution_count": 29,
   "metadata": {},
   "outputs": [],
   "source": [
    "!python transmorph_torch/test.py --dataset 'CAMUS' --test-dir '../../Dataset/CAMUS/test/' --result-dir '../../Results/cvpr2024_covis/CAMUS/tsm_CAMUS_2frame_covis_alpha_0.035_wse_20_mom_tv/' --model-motion '../../Models/cvpr2024_covis/CAMUS/tsm_CAMUS_2frame_covis_alpha_0.035_wse_20_mom_tv/motion_0300.pt' --model-covis '../../Models/cvpr2024_covis/CAMUS/tsm_CAMUS_2frame_covis_alpha_0.035_wse_20_mom_tv/covis_0300.pt' --inshape 128 128\n"
   ]
  },
  {
   "cell_type": "code",
   "execution_count": 21,
   "metadata": {},
   "outputs": [],
   "source": [
    "!python transmorph_torch/test.py --dataset 'CAMUS' --test-dir '../../Dataset/CAMUS/test/' --result-dir '../../Results/cvpr2024_covis/CAMUS/tsm_CAMUS_2frame_covis_alpha_0.03_wse_20_tv_beta_0.1/' --model-motion '../../Models/cvpr2024_covis/CAMUS/tsm_CAMUS_2frame_covis_alpha_0.03_wse_20_tv_beta_0.1/motion_0260.pt' --model-covis '../../Models/cvpr2024_covis/CAMUS/tsm_CAMUS_2frame_covis_alpha_0.03_wse_20_tv_beta_0.1/covis_0260.pt' --inshape 128 128\n"
   ]
  },
  {
   "cell_type": "code",
   "execution_count": 22,
   "metadata": {},
   "outputs": [],
   "source": [
    "!python transmorph_torch/test.py --dataset 'CAMUS' --test-dir '../../Dataset/CAMUS/test/' --result-dir '../../Results/cvpr2024_covis/CAMUS/tsm_CAMUS_2frame_covis_alpha_0.03_wse_20_tv_beta_1/' --model-motion '../../Models/cvpr2024_covis/CAMUS/tsm_CAMUS_2frame_covis_alpha_0.03_wse_20_tv_beta_1/motion_0260.pt' --model-covis '../../Models/cvpr2024_covis/CAMUS/tsm_CAMUS_2frame_covis_alpha_0.03_wse_20_tv_beta_1/covis_0260.pt' --inshape 128 128\n"
   ]
  },
  {
   "cell_type": "code",
   "execution_count": 23,
   "metadata": {},
   "outputs": [],
   "source": [
    "!python transmorph_torch/test.py --dataset 'CAMUS' --test-dir '../../Dataset/CAMUS/test/' --result-dir '../../Results/cvpr2024_covis/CAMUS/tsm_CAMUS_2frame_covis_alpha_0.03_wse_20_tv_beta_5/' --model-motion '../../Models/cvpr2024_covis/CAMUS/tsm_CAMUS_2frame_covis_alpha_0.03_wse_20_tv_beta_5/motion_0260.pt' --model-covis '../../Models/cvpr2024_covis/CAMUS/tsm_CAMUS_2frame_covis_alpha_0.03_wse_20_tv_beta_5/covis_0260.pt' --inshape 128 128\n"
   ]
  },
  {
   "cell_type": "code",
   "execution_count": 24,
   "metadata": {},
   "outputs": [],
   "source": [
    "!python transmorph_torch/test.py --dataset 'CAMUS' --test-dir '../../Dataset/CAMUS/test/' --result-dir '../../Results/cvpr2024_covis/CAMUS/tsm_CAMUS_2frame_covis_alpha_0.03_wse_20_tv_beta_10/' --model-motion '../../Models/cvpr2024_covis/CAMUS/tsm_CAMUS_2frame_covis_alpha_0.03_wse_20_tv_beta_10/motion_0260.pt' --model-covis '../../Models/cvpr2024_covis/CAMUS/tsm_CAMUS_2frame_covis_alpha_0.03_wse_20_tv_beta_10/covis_0260.pt' --inshape 128 128\n"
   ]
  },
  {
   "cell_type": "code",
   "execution_count": 30,
   "metadata": {},
   "outputs": [],
   "source": [
    "!python transmorph_torch/test.py --dataset 'CAMUS' --test-dir '../../Dataset/CAMUS/test/' --result-dir '../../Results/cvpr2024_covis/CAMUS/tsm_CAMUS_2frame_covis_alpha_0.03_wse_20_mom_tv_lmbd_0.0075/' --model-motion '../../Models/cvpr2024_covis/CAMUS/tsm_CAMUS_2frame_covis_alpha_0.03_wse_20_mom_tv_lmbd_0.0075/motion_0300.pt' --model-covis '../../Models/cvpr2024_covis/CAMUS/tsm_CAMUS_2frame_covis_alpha_0.03_wse_20_mom_tv_lmbd_0.0075/covis_0300.pt' --inshape 128 128\n"
   ]
  },
  {
   "cell_type": "code",
   "execution_count": 31,
   "metadata": {},
   "outputs": [],
   "source": [
    "!python transmorph_torch/test.py --dataset 'CAMUS' --test-dir '../../Dataset/CAMUS/test/' --result-dir '../../Results/cvpr2024_covis/CAMUS/tsm_CAMUS_2frame_covis_alpha_0.03_wse_20_mom_tv_lmbd_0.013/' --model-motion '../../Models/cvpr2024_covis/CAMUS/tsm_CAMUS_2frame_covis_alpha_0.03_wse_20_mom_tv_lmbd_0.013/motion_0300.pt' --model-covis '../../Models/cvpr2024_covis/CAMUS/tsm_CAMUS_2frame_covis_alpha_0.03_wse_20_mom_tv_lmbd_0.013/covis_0300.pt' --inshape 128 128\n"
   ]
  },
  {
   "cell_type": "code",
   "execution_count": 32,
   "metadata": {},
   "outputs": [],
   "source": [
    "!python transmorph_torch/test.py --dataset 'CAMUS' --test-dir '../../Dataset/CAMUS/test/' --result-dir '../../Results/cvpr2024_covis/CAMUS/tsm_CAMUS_2frame_covis_alpha_0.03_wse_20_mom_tv_lmbd_0.015/' --model-motion '../../Models/cvpr2024_covis/CAMUS/tsm_CAMUS_2frame_covis_alpha_0.03_wse_20_mom_tv_lmbd_0.015/motion_0300.pt' --model-covis '../../Models/cvpr2024_covis/CAMUS/tsm_CAMUS_2frame_covis_alpha_0.03_wse_20_mom_tv_lmbd_0.015/covis_0300.pt' --inshape 128 128\n"
   ]
  },
  {
   "cell_type": "code",
   "execution_count": 33,
   "metadata": {},
   "outputs": [],
   "source": [
    "!python transmorph_torch/test.py --dataset 'CAMUS' --test-dir '../../Dataset/CAMUS/test/' --result-dir '../../Results/cvpr2024_covis/CAMUS/tsm_CAMUS_2frame_covis_alpha_0.02_wse_20_mom_tv_lmbd_0.01/' --model-motion '../../Models/cvpr2024_covis/CAMUS/tsm_CAMUS_2frame_covis_alpha_0.02_wse_20_mom_tv_lmbd_0.01/motion_0300.pt' --model-covis '../../Models/cvpr2024_covis/CAMUS/tsm_CAMUS_2frame_covis_alpha_0.02_wse_20_mom_tv_lmbd_0.01/covis_0300.pt' --inshape 128 128\n"
   ]
  },
  {
   "cell_type": "code",
   "execution_count": null,
   "metadata": {},
   "outputs": [],
   "source": [
    "!python transmorph_torch/test.py --dataset 'CAMUS' --test-dir '../../Dataset/CAMUS/test/' --result-dir '../../Results/cvpr2024_covis/CAMUS/tsm_CAMUS_2frame_covis_alpha_0.04_wse_20_mom_tv_lmbd_0.01/' --model-motion '../../Models/cvpr2024_covis/CAMUS/tsm_CAMUS_2frame_covis_alpha_0.04_wse_20_mom_tv_lmbd_0.01/motion_0300.pt' --model-covis '../../Models/cvpr2024_covis/CAMUS/tsm_CAMUS_2frame_covis_alpha_0.04_wse_20_mom_tv_lmbd_0.01/covis_0300.pt' --inshape 128 128\n"
   ]
  },
  {
   "cell_type": "code",
   "execution_count": 2,
   "metadata": {},
   "outputs": [],
   "source": [
    "!python transmorph_torch/test.py --dataset 'CAMUS' --test-dir '../../Dataset/CAMUS/test/' --result-dir '../../Results/cvpr2024_covis/CAMUS/tsm_CAMUS_2frame_covis_alpha_0.03_wse_20_mom_tv_lmbd_0.02/' --model-motion '../../Models/cvpr2024_covis/CAMUS/tsm_CAMUS_2frame_covis_alpha_0.03_wse_20_mom_tv_lmbd_0.02/motion_0300.pt' --model-covis '../../Models/cvpr2024_covis/CAMUS/tsm_CAMUS_2frame_covis_alpha_0.03_wse_20_mom_tv_lmbd_0.02/covis_0300.pt' --inshape 128 128\n"
   ]
  },
  {
   "cell_type": "code",
   "execution_count": 3,
   "metadata": {},
   "outputs": [],
   "source": [
    "!python transmorph_torch/test.py --dataset 'CAMUS' --test-dir '../../Dataset/CAMUS/test/' --result-dir '../../Results/cvpr2024_covis/CAMUS/tsm_CAMUS_2frame_covis_alpha_0.03_wse_20_mom_tv_lmbd_0.025/' --model-motion '../../Models/cvpr2024_covis/CAMUS/tsm_CAMUS_2frame_covis_alpha_0.03_wse_20_mom_tv_lmbd_0.025/motion_0300.pt' --model-covis '../../Models/cvpr2024_covis/CAMUS/tsm_CAMUS_2frame_covis_alpha_0.03_wse_20_mom_tv_lmbd_0.025/covis_0300.pt' --inshape 128 128\n"
   ]
  },
  {
   "cell_type": "code",
   "execution_count": null,
   "metadata": {},
   "outputs": [],
   "source": [
    "!python transmorph_torch/test.py --dataset 'CAMUS' --test-dir '../../Dataset/CAMUS/test/' --result-dir '../../Results/cvpr2024_covis/CAMUS/tsm_CAMUS_2frame_covis_alpha_0.03_wse_20_mom_tv_lmbd_0.03/' --model-motion '../../Models/cvpr2024_covis/CAMUS/tsm_CAMUS_2frame_covis_alpha_0.03_wse_20_mom_tv_lmbd_0.03/motion_0300.pt' --model-covis '../../Models/cvpr2024_covis/CAMUS/tsm_CAMUS_2frame_covis_alpha_0.03_wse_20_mom_tv_lmbd_0.03/covis_0300.pt' --inshape 128 128\n"
   ]
  },
  {
   "cell_type": "code",
   "execution_count": 8,
   "metadata": {},
   "outputs": [],
   "source": [
    "!python transmorph_torch/test.py --dataset 'CAMUS' --test-dir '../../Dataset/CAMUS/test/' --result-dir '../../Results/cvpr2024_covis/CAMUS/tsm_CAMUS_2frame_covis_alpha_0.03_lmbd_0.03_wse_20_tv_adabeta_0.1/' --model-motion '../../Models/cvpr2024_covis/CAMUS/tsm_CAMUS_2frame_covis_alpha_0.03_lmbd_0.03_wse_20_tv_adabeta_0.1/motion_0300.pt' --model-covis '../../Models/cvpr2024_covis/CAMUS/tsm_CAMUS_2frame_covis_alpha_0.03_lmbd_0.03_wse_20_tv_adabeta_0.1/covis_0300.pt' --inshape 128 128\n"
   ]
  },
  {
   "cell_type": "code",
   "execution_count": 9,
   "metadata": {},
   "outputs": [],
   "source": [
    "!python transmorph_torch/test.py --dataset 'CAMUS' --test-dir '../../Dataset/CAMUS/test/' --result-dir '../../Results/cvpr2024_covis/CAMUS/tsm_CAMUS_2frame_covis_alpha_0.03_lmbd_0.03_wse_20_tv_adabeta_0.5/' --model-motion '../../Models/cvpr2024_covis/CAMUS/tsm_CAMUS_2frame_covis_alpha_0.03_lmbd_0.03_wse_20_tv_adabeta_0.5/motion_0300.pt' --model-covis '../../Models/cvpr2024_covis/CAMUS/tsm_CAMUS_2frame_covis_alpha_0.03_lmbd_0.03_wse_20_tv_adabeta_0.5/covis_0300.pt' --inshape 128 128\n"
   ]
  },
  {
   "cell_type": "code",
   "execution_count": 10,
   "metadata": {},
   "outputs": [],
   "source": [
    "!python transmorph_torch/test.py --dataset 'CAMUS' --test-dir '../../Dataset/CAMUS/test/' --result-dir '../../Results/cvpr2024_covis/CAMUS/tsm_CAMUS_2frame_covis_alpha_0.03_lmbd_0.03_wse_20_tv_adabeta_1/' --model-motion '../../Models/cvpr2024_covis/CAMUS/tsm_CAMUS_2frame_covis_alpha_0.03_lmbd_0.03_wse_20_tv_adabeta_1/motion_0300.pt' --model-covis '../../Models/cvpr2024_covis/CAMUS/tsm_CAMUS_2frame_covis_alpha_0.03_lmbd_0.03_wse_20_tv_adabeta_1/covis_0300.pt' --inshape 128 128\n"
   ]
  },
  {
   "cell_type": "code",
   "execution_count": 11,
   "metadata": {},
   "outputs": [],
   "source": [
    "!python transmorph_torch/test.py --dataset 'CAMUS' --test-dir '../../Dataset/CAMUS/test/' --result-dir '../../Results/cvpr2024_covis/CAMUS/tsm_CAMUS_2frame_covis_alpha_0.03_lmbd_0.03_wse_20_tv_adabeta_5/' --model-motion '../../Models/cvpr2024_covis/CAMUS/tsm_CAMUS_2frame_covis_alpha_0.03_lmbd_0.03_wse_20_tv_adabeta_5/motion_0300.pt' --model-covis '../../Models/cvpr2024_covis/CAMUS/tsm_CAMUS_2frame_covis_alpha_0.03_lmbd_0.03_wse_20_tv_adabeta_5/covis_0300.pt' --inshape 128 128\n"
   ]
  },
  {
   "cell_type": "code",
   "execution_count": null,
   "metadata": {},
   "outputs": [],
   "source": [
    "!python transmorph_torch/test.py --dataset 'CAMUS' --test-dir '../../Dataset/CAMUS/test/' --result-dir '../../Results/cvpr2024_covis/CAMUS/tsm_CAMUS_2frame_covis_alpha_0.03_lmbd_0.03_wse_20_tv_adabeta_5_nomut/' --model-motion '../../Models/cvpr2024_covis/CAMUS/tsm_CAMUS_2frame_covis_alpha_0.03_lmbd_0.03_wse_20_tv_adabeta_5_nomut/motion_0300.pt' --model-covis '../../Models/cvpr2024_covis/CAMUS/tsm_CAMUS_2frame_covis_alpha_0.03_lmbd_0.03_wse_20_tv_adabeta_5_nomut/covis_0300.pt' --inshape 128 128\n"
   ]
  },
  {
   "cell_type": "markdown",
   "metadata": {},
   "source": [
    "# Echo"
   ]
  },
  {
   "cell_type": "code",
   "execution_count": 7,
   "metadata": {},
   "outputs": [],
   "source": [
    "!python transmorph_torch/test.py --dataset 'Echo' --test-dir '../../Dataset/Echo/test/' --result-dir '../../Results/cvpr2024_covis/Echo/tsm_echo_2frame_covis_alpha_0.01_mom_tv/' --model-motion '../../Models/cvpr2024_covis/Echo/tsm_echo_2frame_covis_alpha_0.01_mom_tv/motion_0120.pt' --model-covis '../../Models/cvpr2024_covis/Echo/tsm_echo_2frame_covis_alpha_0.01_mom_tv/covis_0120.pt' --inshape 64 64 64\n"
   ]
  },
  {
   "cell_type": "code",
   "execution_count": 25,
   "metadata": {},
   "outputs": [],
   "source": [
    "!python transmorph_torch/test.py --dataset 'Echo' --test-dir '../../Dataset/Echo/test/' --result-dir '../../Results/cvpr2024_covis/Echo/tsm_echo_2frame_covis_alpha_0.01_wse_10_tv_beta_0.1/' --model-motion '../../Models/cvpr2024_covis/Echo/tsm_echo_2frame_covis_alpha_0.01_wse_10_tv_beta_0.1/motion_0130.pt' --model-covis '../../Models/cvpr2024_covis/Echo/tsm_echo_2frame_covis_alpha_0.01_wse_10_tv_beta_0.1/covis_0130.pt' --inshape 64 64 64\n"
   ]
  },
  {
   "cell_type": "code",
   "execution_count": 26,
   "metadata": {},
   "outputs": [],
   "source": [
    "!python transmorph_torch/test.py --dataset 'Echo' --test-dir '../../Dataset/Echo/test/' --result-dir '../../Results/cvpr2024_covis/Echo/tsm_echo_2frame_covis_alpha_0.01_wse_10_tv_beta_1/' --model-motion '../../Models/cvpr2024_covis/Echo/tsm_echo_2frame_covis_alpha_0.01_wse_10_tv_beta_1/motion_0130.pt' --model-covis '../../Models/cvpr2024_covis/Echo/tsm_echo_2frame_covis_alpha_0.01_wse_10_tv_beta_1/covis_0130.pt' --inshape 64 64 64\n"
   ]
  },
  {
   "cell_type": "code",
   "execution_count": 27,
   "metadata": {},
   "outputs": [],
   "source": [
    "!python transmorph_torch/test.py --dataset 'Echo' --test-dir '../../Dataset/Echo/test/' --result-dir '../../Results/cvpr2024_covis/Echo/tsm_echo_2frame_covis_alpha_0.01_wse_10_tv_beta_5/' --model-motion '../../Models/cvpr2024_covis/Echo/tsm_echo_2frame_covis_alpha_0.01_wse_10_tv_beta_5/motion_0130.pt' --model-covis '../../Models/cvpr2024_covis/Echo/tsm_echo_2frame_covis_alpha_0.01_wse_10_tv_beta_5/covis_0130.pt' --inshape 64 64 64\n"
   ]
  },
  {
   "cell_type": "code",
   "execution_count": 28,
   "metadata": {},
   "outputs": [],
   "source": [
    "!python transmorph_torch/test.py --dataset 'Echo' --test-dir '../../Dataset/Echo/test/' --result-dir '../../Results/cvpr2024_covis/Echo/tsm_echo_2frame_covis_alpha_0.01_wse_10_tv_beta_10/' --model-motion '../../Models/cvpr2024_covis/Echo/tsm_echo_2frame_covis_alpha_0.01_wse_10_tv_beta_10/motion_0130.pt' --model-covis '../../Models/cvpr2024_covis/Echo/tsm_echo_2frame_covis_alpha_0.01_wse_10_tv_beta_10/covis_0130.pt' --inshape 64 64 64\n"
   ]
  },
  {
   "cell_type": "code",
   "execution_count": 13,
   "metadata": {},
   "outputs": [],
   "source": [
    "!python transmorph_torch/test.py --dataset 'Echo' --test-dir '../../Dataset/Echo/test/' --result-dir '../../Results/cvpr2024_covis/Echo/tsm_echo_2frame_covis_alpha_0.01_wse_10_mom_tv_lmbd_0.025/' --model-motion '../../Models/cvpr2024_covis/Echo/tsm_echo_2frame_covis_alpha_0.01_wse_10_mom_tv_lmbd_0.025/motion_0150.pt' --model-covis '../../Models/cvpr2024_covis/Echo/tsm_echo_2frame_covis_alpha_0.01_wse_10_mom_tv_lmbd_0.025/covis_0150.pt' --inshape 64 64 64\n"
   ]
  },
  {
   "cell_type": "code",
   "execution_count": 14,
   "metadata": {},
   "outputs": [],
   "source": [
    "!python transmorph_torch/test.py --dataset 'Echo' --test-dir '../../Dataset/Echo/test/' --result-dir '../../Results/cvpr2024_covis/Echo/tsm_echo_2frame_covis_alpha_0.01_wse_10_mom_tv_lmbd_0.015/' --model-motion '../../Models/cvpr2024_covis/Echo/tsm_echo_2frame_covis_alpha_0.01_wse_10_mom_tv_lmbd_0.015/motion_0150.pt' --model-covis '../../Models/cvpr2024_covis/Echo/tsm_echo_2frame_covis_alpha_0.01_wse_10_mom_tv_lmbd_0.015/covis_0150.pt' --inshape 64 64 64\n"
   ]
  },
  {
   "cell_type": "code",
   "execution_count": 19,
   "metadata": {},
   "outputs": [],
   "source": [
    "!python transmorph_torch/test.py --dataset 'Echo' --test-dir '../../Dataset/Echo/test/' --result-dir '../../Results/cvpr2024_covis/Echo/tsm_echo_2frame_covis_alpha_0.01_lmbd_0.025_wse_20_tv_adabeta_0.1/' --model-motion '../../Models/cvpr2024_covis/Echo/tsm_echo_2frame_covis_alpha_0.01_lmbd_0.025_wse_20_tv_adabeta_0.1/motion_0150.pt' --model-covis '../../Models/cvpr2024_covis/Echo/tsm_echo_2frame_covis_alpha_0.01_lmbd_0.025_wse_20_tv_adabeta_0.1/covis_0150.pt' --inshape 64 64 64\n"
   ]
  },
  {
   "cell_type": "code",
   "execution_count": null,
   "metadata": {},
   "outputs": [],
   "source": [
    "!python transmorph_torch/test.py --dataset 'Echo' --test-dir '../../Dataset/Echo/test/' --result-dir '../../Results/cvpr2024_covis/Echo/tsm_echo_2frame_covis_alpha_0.01_lmbd_0.025_wse_20_tv_adabeta_0.5/' --model-motion '../../Models/cvpr2024_covis/Echo/tsm_echo_2frame_covis_alpha_0.01_lmbd_0.025_wse_20_tv_adabeta_0.5/motion_0150.pt' --model-covis '../../Models/cvpr2024_covis/Echo/tsm_echo_2frame_covis_alpha_0.01_lmbd_0.025_wse_20_tv_adabeta_0.5/covis_0150.pt' --inshape 64 64 64\n"
   ]
  },
  {
   "cell_type": "code",
   "execution_count": null,
   "metadata": {},
   "outputs": [],
   "source": [
    "!python transmorph_torch/test.py --dataset 'Echo' --test-dir '../../Dataset/Echo/test/' --result-dir '../../Results/cvpr2024_covis/Echo/tsm_echo_2frame_covis_alpha_0.01_lmbd_0.025_wse_20_tv_adabeta_0.75/' --model-motion '../../Models/cvpr2024_covis/Echo/tsm_echo_2frame_covis_alpha_0.01_lmbd_0.025_wse_20_tv_adabeta_0.75/motion_0150.pt' --model-covis '../../Models/cvpr2024_covis/Echo/tsm_echo_2frame_covis_alpha_0.01_lmbd_0.025_wse_20_tv_adabeta_0.75/covis_0150.pt' --inshape 64 64 64\n"
   ]
  },
  {
   "cell_type": "code",
   "execution_count": null,
   "metadata": {},
   "outputs": [],
   "source": [
    "!python transmorph_torch/test.py --dataset 'Echo' --test-dir '../../Dataset/Echo/test/' --result-dir '../../Results/cvpr2024_covis/Echo/tsm_echo_2frame_covis_alpha_0.01_lmbd_0.025_wse_20_tv_adabeta_1/' --model-motion '../../Models/cvpr2024_covis/Echo/tsm_echo_2frame_covis_alpha_0.01_lmbd_0.025_wse_20_tv_adabeta_1/motion_0150.pt' --model-covis '../../Models/cvpr2024_covis/Echo/tsm_echo_2frame_covis_alpha_0.01_lmbd_0.025_wse_20_tv_adabeta_1/covis_0150.pt' --inshape 64 64 64\n"
   ]
  },
  {
   "cell_type": "code",
   "execution_count": null,
   "metadata": {},
   "outputs": [],
   "source": [
    "!python transmorph_torch/test.py --dataset 'Echo' --test-dir '../../Dataset/Echo/test/' --result-dir '../../Results/cvpr2024_covis/Echo/tsm_echo_2frame_covis_alpha_0.01_lmbd_0.025_wse_20_tv_adabeta_1.5/' --model-motion '../../Models/cvpr2024_covis/Echo/tsm_echo_2frame_covis_alpha_0.01_lmbd_0.025_wse_20_tv_adabeta_1.5/motion_0150.pt' --model-covis '../../Models/cvpr2024_covis/Echo/tsm_echo_2frame_covis_alpha_0.01_lmbd_0.025_wse_20_tv_adabeta_1.5/covis_0150.pt' --inshape 64 64 64\n"
   ]
  },
  {
   "cell_type": "code",
   "execution_count": null,
   "metadata": {},
   "outputs": [],
   "source": [
    "!python transmorph_torch/test.py --dataset 'Echo' --test-dir '../../Dataset/Echo/test/' --result-dir '../../Results/cvpr2024_covis/Echo/tsm_echo_2frame_covis_alpha_0.01_lmbd_0.025_wse_20_tv_adabeta_2.5/' --model-motion '../../Models/cvpr2024_covis/Echo/tsm_echo_2frame_covis_alpha_0.01_lmbd_0.025_wse_20_tv_adabeta_2.5/motion_0150.pt' --model-covis '../../Models/cvpr2024_covis/Echo/tsm_echo_2frame_covis_alpha_0.01_lmbd_0.025_wse_20_tv_adabeta_2.5/covis_0150.pt' --inshape 64 64 64\n"
   ]
  },
  {
   "cell_type": "code",
   "execution_count": null,
   "metadata": {},
   "outputs": [],
   "source": [
    "!python transmorph_torch/test.py --dataset 'Echo' --test-dir '../../Dataset/Echo/test/' --result-dir '../../Results/cvpr2024_covis/Echo/tsm_echo_2frame_covis_alpha_0.01_lmbd_0.025_wse_20_tv_adabeta_5/' --model-motion '../../Models/cvpr2024_covis/Echo/tsm_echo_2frame_covis_alpha_0.01_lmbd_0.025_wse_20_tv_adabeta_5/motion_0150.pt' --model-covis '../../Models/cvpr2024_covis/Echo/tsm_echo_2frame_covis_alpha_0.01_lmbd_0.025_wse_20_tv_adabeta_5/covis_0150.pt' --inshape 64 64 64\n"
   ]
  },
  {
   "cell_type": "code",
   "execution_count": null,
   "metadata": {},
   "outputs": [],
   "source": []
  }
 ],
 "metadata": {
  "kernelspec": {
   "display_name": "optical_flow",
   "language": "python",
   "name": "python3"
  },
  "language_info": {
   "codemirror_mode": {
    "name": "ipython",
    "version": 3
   },
   "file_extension": ".py",
   "mimetype": "text/x-python",
   "name": "python",
   "nbconvert_exporter": "python",
   "pygments_lexer": "ipython3",
   "version": "3.6.13"
  }
 },
 "nbformat": 4,
 "nbformat_minor": 2
}
