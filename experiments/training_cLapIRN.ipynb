{
 "cells": [
  {
   "cell_type": "code",
   "execution_count": 1,
   "metadata": {},
   "outputs": [
    {
     "name": "stdout",
     "output_type": "stream",
     "text": [
      "/mnt/d/XiaoranZhang/Projects/Optical_flow/Code/cvpr2024_covis\n"
     ]
    }
   ],
   "source": [
    "# (Restart the kernel if you want to rerun the cell) move up current working directory\n",
    "import os\n",
    "os.chdir('../')\n",
    "print(os.getcwd())"
   ]
  },
  {
   "cell_type": "code",
   "execution_count": 18,
   "metadata": {},
   "outputs": [
    {
     "name": "stdout",
     "output_type": "stream",
     "text": [
      "\u001b[34m\u001b[1mwandb\u001b[0m: Currently logged in as: \u001b[33mvoldemort108x\u001b[0m (\u001b[33mvoldemort_team\u001b[0m). Use \u001b[1m`wandb login --relogin`\u001b[0m to force relogin\n",
      "\u001b[34m\u001b[1mwandb\u001b[0m: wandb version 0.16.2 is available!  To upgrade, please run:\n",
      "\u001b[34m\u001b[1mwandb\u001b[0m:  $ pip install wandb --upgrade\n",
      "\u001b[34m\u001b[1mwandb\u001b[0m: Tracking run with wandb version 0.13.10\n",
      "\u001b[34m\u001b[1mwandb\u001b[0m: Run data is saved locally in \u001b[35m\u001b[1m/mnt/d/XiaoranZhang/Projects/Optical_flow/Code/cvpr2024_covis/wandb/run-20240128_225904-ph85bk3o\u001b[0m\n",
      "\u001b[34m\u001b[1mwandb\u001b[0m: Run \u001b[1m`wandb offline`\u001b[0m to turn off syncing.\n",
      "\u001b[34m\u001b[1mwandb\u001b[0m: Syncing run \u001b[33mcLapIRN_ACDC_covis_tv_debug\u001b[0m\n",
      "\u001b[34m\u001b[1mwandb\u001b[0m: ⭐️ View project at \u001b[34m\u001b[4mhttps://wandb.ai/voldemort_team/cvpr2024_covis_tv\u001b[0m\n",
      "\u001b[34m\u001b[1mwandb\u001b[0m: 🚀 View run at \u001b[34m\u001b[4mhttps://wandb.ai/voldemort_team/cvpr2024_covis_tv/runs/ph85bk3o\u001b[0m\n",
      "Training lvl3...\n",
      "['.git', 'archived_files', 'bash_scripts', 'bash_scripts_cLapIRN', 'bash_scripts_cmp', 'Conditional_LapIRN', 'diffusemorph_torch', 'experiments', 'metrics.py', 'plot_figures', 'README.md', 'transmorph_torch', 'voxelmorph_torch', 'wandb', '__pycache__']\n",
      "Loading weight for model_lvl2... ./Conditional_LapIRN/pretrained_model/ACDC/ACDC_stagelvl2_10000.pth\n",
      "/home/xiaoranzhang/anaconda3/envs/optical_flow/lib/python3.6/site-packages/torch/nn/functional.py:3613: UserWarning: Default upsampling behavior when mode=bilinear is changed to align_corners=False since 0.4.0. Please specify align_corners=True if the old behavior is desired. See the documentation of nn.Upsample for details.\n",
      "  \"See the documentation of nn.Upsample for details.\".format(mode)\n",
      "step \"3\" -> training loss \"0.0095\" - sim_NCC \"0.009531\" -smo \"1066.6176 -reg_c \"0.8373\"^C\n",
      "Traceback (most recent call last):\n",
      "  File \"/mnt/d/XiaoranZhang/Projects/Optical_flow/Code/cvpr2024_covis/Conditional_LapIRN/data_generators/py/utils_2D.py\", line 50, in load_imfile_mat\n",
      "    file = loadmat(filename)\n",
      "  File \"/home/xiaoranzhang/anaconda3/envs/optical_flow/lib/python3.6/site-packages/scipy/io/matlab/mio.py\", line 222, in loadmat\n",
      "    with _open_file_context(file_name, appendmat) as f:\n",
      "  File \"/home/xiaoranzhang/anaconda3/envs/optical_flow/lib/python3.6/contextlib.py\", line 81, in __enter__\n",
      "    return next(self.gen)\n",
      "  File \"/home/xiaoranzhang/anaconda3/envs/optical_flow/lib/python3.6/site-packages/scipy/io/matlab/mio.py\", line 17, in _open_file_context\n",
      "    f, opened = _open_file(file_like, appendmat, mode)\n",
      "  File \"/home/xiaoranzhang/anaconda3/envs/optical_flow/lib/python3.6/site-packages/scipy/io/matlab/mio.py\", line 39, in _open_file\n",
      "    return open(file_like, mode), True\n",
      "KeyboardInterrupt\n",
      "\n",
      "During handling of the above exception, another exception occurred:\n",
      "\n",
      "Traceback (most recent call last):\n",
      "  File \"/home/xiaoranzhang/anaconda3/envs/optical_flow/lib/python3.6/site-packages/mat73/core.py\", line 321, in loadmat\n",
      "    with h5py.File(filename, 'r') as hdf5:\n",
      "  File \"/home/xiaoranzhang/anaconda3/envs/optical_flow/lib/python3.6/site-packages/h5py/_hl/files.py\", line 427, in __init__\n",
      "    swmr=swmr)\n",
      "  File \"/home/xiaoranzhang/anaconda3/envs/optical_flow/lib/python3.6/site-packages/h5py/_hl/files.py\", line 190, in make_fid\n",
      "    fid = h5f.open(name, flags, fapl=fapl)\n",
      "  File \"h5py/_objects.pyx\", line 54, in h5py._objects.with_phil.wrapper\n",
      "  File \"h5py/_objects.pyx\", line 55, in h5py._objects.with_phil.wrapper\n",
      "  File \"h5py/h5f.pyx\", line 96, in h5py.h5f.open\n",
      "OSError: Unable to open file (file signature not found)\n",
      "\n",
      "During handling of the above exception, another exception occurred:\n",
      "\n",
      "Traceback (most recent call last):\n",
      "  File \"Conditional_LapIRN/train_2D_mse_covis_tv.py\", line 367, in <module>\n",
      "    train_lvl3()\n",
      "  File \"Conditional_LapIRN/train_2D_mse_covis_tv.py\", line 235, in train_lvl3\n",
      "    inputs, y_true = next(generator)\n",
      "  File \"/mnt/d/XiaoranZhang/Projects/Optical_flow/Code/cvpr2024_covis/Conditional_LapIRN/data_generators/generators_2D.py\", line 95, in scan_to_scan_2D\n",
      "    scan1 = next(gen)[0]\n",
      "  File \"/mnt/d/XiaoranZhang/Projects/Optical_flow/Code/cvpr2024_covis/Conditional_LapIRN/data_generators/generators_2D.py\", line 56, in volgen_2D\n",
      "    im_ED, im_ES = py.utils_2D.load_imfile_mat(vol_names[i], **load_params)\n",
      "  File \"/mnt/d/XiaoranZhang/Projects/Optical_flow/Code/cvpr2024_covis/Conditional_LapIRN/data_generators/py/utils_2D.py\", line 52, in load_imfile_mat\n",
      "    file = mat73.loadmat(filename)\n",
      "  File \"/home/xiaoranzhang/anaconda3/envs/optical_flow/lib/python3.6/site-packages/mat73/core.py\", line 326, in loadmat\n",
      "    'Load with scipy.io.loadmat() instead.'.format(filename))\n",
      "TypeError: ../../Dataset/ACDC/train/patient047_slice_2.mat is not a MATLAB 7.3 file. Load with scipy.io.loadmat() instead.\n",
      "\u001b[34m\u001b[1mwandb\u001b[0m: Waiting for W&B process to finish... \u001b[31m(failed 1).\u001b[0m Press Control-C to abort syncing.\n"
     ]
    }
   ],
   "source": [
    "!python Conditional_LapIRN/train_2D_mse_covis_tv.py --dataset 'ACDC' --model-dir '../../Models/cvpr2024_covis/ACDC/cLapIRN_covis_tv_debug'  --wandb-name 'cLapIRN_ACDC_covis_tv_debug' --iteration_lvl3 10 --iter_covis_start 10 --checkpoint 1 "
   ]
  },
  {
   "cell_type": "code",
   "execution_count": null,
   "metadata": {},
   "outputs": [],
   "source": [
    "'./Conditional_LapIRN/pretrained_model/ACDC/ACDC_stagelvl1_10000.pth'\n",
    "Conditional_LapIRN/pretrained_model/ACDC/ACDC_stagelvl1_10000.pth"
   ]
  }
 ],
 "metadata": {
  "kernelspec": {
   "display_name": "optical_flow",
   "language": "python",
   "name": "python3"
  },
  "language_info": {
   "codemirror_mode": {
    "name": "ipython",
    "version": 3
   },
   "file_extension": ".py",
   "mimetype": "text/x-python",
   "name": "python",
   "nbconvert_exporter": "python",
   "pygments_lexer": "ipython3",
   "version": "3.6.13"
  }
 },
 "nbformat": 4,
 "nbformat_minor": 2
}
