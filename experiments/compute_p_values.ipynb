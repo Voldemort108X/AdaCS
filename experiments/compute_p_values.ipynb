{
 "cells": [
  {
   "cell_type": "code",
   "execution_count": 1,
   "metadata": {},
   "outputs": [
    {
     "name": "stdout",
     "output_type": "stream",
     "text": [
      "/mnt/d/XiaoranZhang/Projects/Optical_flow/Code/cvpr2024_covis\n"
     ]
    }
   ],
   "source": [
    "# (Restart the kernel if you want to rerun the cell) move up current working directory\n",
    "import os\n",
    "os.chdir('../')\n",
    "print(os.getcwd())"
   ]
  },
  {
   "cell_type": "code",
   "execution_count": 5,
   "metadata": {},
   "outputs": [],
   "source": [
    "from scipy.stats.mstats import ttest_rel\n",
    "from medpy.metric.binary import dc\n",
    "from scipy.io import loadmat"
   ]
  },
  {
   "cell_type": "code",
   "execution_count": 6,
   "metadata": {},
   "outputs": [],
   "source": [
    "def compute_dice(path_result):\n",
    "    dice_list = []\n",
    "\n",
    "    result_names = os.listdir(path_result)\n",
    "\n",
    "    for result_name in result_names:\n",
    "        file = loadmat(os.path.join(path_result, result_name))\n",
    "        dice_list.append(dc(file['ES_myo_pred'], file['ES_myo']))\n",
    "\n",
    "    return dice_list"
   ]
  },
  {
   "cell_type": "markdown",
   "metadata": {},
   "source": [
    "# ACDC"
   ]
  },
  {
   "cell_type": "code",
   "execution_count": 8,
   "metadata": {},
   "outputs": [],
   "source": [
    "# path_ours = '../../Results/cvpr2024_covis/ACDC/vxm_ACDC_2frame_covis_alpha_0.02_wse_20_tv_adabeta_1.5/'\n",
    "# path_cmp = '../../Results/cardiac_motion_baselines/ACDC/vxm_ACDC_2frame_bs8_ga2/'\n",
    "\n",
    "# dice_list_ours = compute_dice(path_ours)\n",
    "# dice_list_cmp = compute_dice(path_cmp)"
   ]
  },
  {
   "cell_type": "code",
   "execution_count": 9,
   "metadata": {},
   "outputs": [
    {
     "name": "stdout",
     "output_type": "stream",
     "text": [
      "5.846315731661794e-16\n"
     ]
    }
   ],
   "source": [
    "path_stats = './plot_figures/samples_stats/ACDC_vxm/ACDC_vxm_stats.mat'\n",
    "file_stats = loadmat(path_stats)\n",
    "\n",
    "dice_list_ours = file_stats['dice_ours'][0]\n",
    "dice_list_cmp = file_stats['dice_cmp'][0]\n",
    "\n",
    "print(ttest_rel(dice_list_cmp, dice_list_ours)[1])"
   ]
  },
  {
   "cell_type": "code",
   "execution_count": 10,
   "metadata": {},
   "outputs": [
    {
     "name": "stdout",
     "output_type": "stream",
     "text": [
      "0.055969350022506144\n"
     ]
    }
   ],
   "source": [
    "path_stats = './plot_figures/samples_stats/ACDC_tsm/ACDC_tsm_stats.mat'\n",
    "file_stats = loadmat(path_stats)\n",
    "\n",
    "dice_list_ours = file_stats['dice_ours'][0]\n",
    "dice_list_cmp = file_stats['dice_cmp'][0]\n",
    "\n",
    "print(ttest_rel(dice_list_cmp, dice_list_ours)[1])"
   ]
  },
  {
   "cell_type": "code",
   "execution_count": 11,
   "metadata": {},
   "outputs": [
    {
     "name": "stdout",
     "output_type": "stream",
     "text": [
      "1.0192234654755824e-41\n"
     ]
    }
   ],
   "source": [
    "path_stats = './plot_figures/samples_stats/ACDC_dfm/ACDC_dfm_stats.mat'\n",
    "file_stats = loadmat(path_stats)\n",
    "\n",
    "dice_list_ours = file_stats['dice_ours'][0]\n",
    "dice_list_cmp = file_stats['dice_cmp'][0]\n",
    "\n",
    "print(ttest_rel(dice_list_cmp, dice_list_ours)[1])"
   ]
  },
  {
   "cell_type": "markdown",
   "metadata": {},
   "source": [
    "# CAMUS"
   ]
  },
  {
   "cell_type": "code",
   "execution_count": 12,
   "metadata": {},
   "outputs": [
    {
     "name": "stdout",
     "output_type": "stream",
     "text": [
      "0.007711283605812068\n"
     ]
    }
   ],
   "source": [
    "path_stats = './plot_figures/samples_stats/CAMUS_vxm/CAMUS_vxm_stats.mat'\n",
    "file_stats = loadmat(path_stats)\n",
    "\n",
    "dice_list_ours = file_stats['dice_ours'][0]\n",
    "dice_list_cmp = file_stats['dice_cmp'][0]\n",
    "\n",
    "print(ttest_rel(dice_list_cmp, dice_list_ours)[1])"
   ]
  },
  {
   "cell_type": "code",
   "execution_count": 13,
   "metadata": {},
   "outputs": [
    {
     "name": "stdout",
     "output_type": "stream",
     "text": [
      "0.0005059975424785597\n"
     ]
    }
   ],
   "source": [
    "path_stats = './plot_figures/samples_stats/CAMUS_tsm/CAMUS_tsm_stats.mat'\n",
    "file_stats = loadmat(path_stats)\n",
    "\n",
    "dice_list_ours = file_stats['dice_ours'][0]\n",
    "dice_list_cmp = file_stats['dice_cmp'][0]\n",
    "\n",
    "print(ttest_rel(dice_list_cmp, dice_list_ours)[1])"
   ]
  },
  {
   "cell_type": "code",
   "execution_count": 14,
   "metadata": {},
   "outputs": [
    {
     "name": "stdout",
     "output_type": "stream",
     "text": [
      "4.562348147182149e-14\n"
     ]
    }
   ],
   "source": [
    "path_stats = './plot_figures/samples_stats/CAMUS_dfm/CAMUS_dfm_stats.mat'\n",
    "file_stats = loadmat(path_stats)\n",
    "\n",
    "dice_list_ours = file_stats['dice_ours'][0]\n",
    "dice_list_cmp = file_stats['dice_cmp'][0]\n",
    "\n",
    "print(ttest_rel(dice_list_cmp, dice_list_ours)[1])"
   ]
  },
  {
   "cell_type": "code",
   "execution_count": null,
   "metadata": {},
   "outputs": [],
   "source": []
  }
 ],
 "metadata": {
  "kernelspec": {
   "display_name": "optical_flow",
   "language": "python",
   "name": "python3"
  },
  "language_info": {
   "codemirror_mode": {
    "name": "ipython",
    "version": 3
   },
   "file_extension": ".py",
   "mimetype": "text/x-python",
   "name": "python",
   "nbconvert_exporter": "python",
   "pygments_lexer": "ipython3",
   "version": "3.6.13"
  }
 },
 "nbformat": 4,
 "nbformat_minor": 2
}
