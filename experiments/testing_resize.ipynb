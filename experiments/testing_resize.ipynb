{
 "cells": [
  {
   "cell_type": "code",
   "execution_count": 1,
   "metadata": {},
   "outputs": [
    {
     "name": "stdout",
     "output_type": "stream",
     "text": [
      "/mnt/d/XiaoranZhang/Projects/Optical_flow/Code/cvpr2024_covis\n"
     ]
    }
   ],
   "source": [
    "# (Restart the kernel if you want to rerun the cell) move up current working directory\n",
    "import os\n",
    "os.chdir('../')\n",
    "print(os.getcwd())"
   ]
  },
  {
   "cell_type": "markdown",
   "metadata": {},
   "source": [
    "# Voxelmorph"
   ]
  },
  {
   "cell_type": "code",
   "execution_count": 3,
   "metadata": {},
   "outputs": [
    {
     "name": "stdout",
     "output_type": "stream",
     "text": [
      "/home/xiaoranzhang/anaconda3/envs/optical_flow/lib/python3.6/site-packages/torch/nn/functional.py:3658: UserWarning: The default behavior for interpolate/upsample with float scale_factor changed in 1.6.0 to align with other frameworks/libraries, and now uses scale_factor directly, instead of relying on the computed output size. If you wish to restore the old behavior, please set recompute_scale_factor=True. See the documentation of nn.Upsample for details. \n",
      "  \"The default behavior for interpolate/upsample with float scale_factor changed \"\n"
     ]
    }
   ],
   "source": [
    "!python voxelmorph_torch/test_nocovis_resize.py --dataset 'Echo' --test-dir '../../Dataset/Echo/test/' --result-dir '../../Results/cvpr2024_covis/Echo/vxm_echo_adaframe_resize' --model '../../Models/cvpr2024_covis/Echo/vxm_echo_2frame_adaframe/motion_0020.pt' --inshape 64 64 64"
   ]
  },
  {
   "cell_type": "code",
   "execution_count": 4,
   "metadata": {},
   "outputs": [],
   "source": [
    "!python voxelmorph_torch/test_nocovis_resize.py --dataset 'Echo' --test-dir '../../Dataset/Echo/test/' --result-dir '../../Results/cvpr2024_covis/Echo/vxm_echo_adareg_resize' --model '../../Models/cvpr2024_covis/Echo/vxm_echo_2frame_adareg/motion_0150.pt' --inshape 64 64 64"
   ]
  },
  {
   "cell_type": "code",
   "execution_count": 8,
   "metadata": {},
   "outputs": [
    {
     "name": "stdout",
     "output_type": "stream",
     "text": [
      "/home/xiaoranzhang/anaconda3/envs/optical_flow/lib/python3.6/site-packages/torch/nn/functional.py:3658: UserWarning: The default behavior for interpolate/upsample with float scale_factor changed in 1.6.0 to align with other frameworks/libraries, and now uses scale_factor directly, instead of relying on the computed output size. If you wish to restore the old behavior, please set recompute_scale_factor=True. See the documentation of nn.Upsample for details. \n",
      "  \"The default behavior for interpolate/upsample with float scale_factor changed \"\n"
     ]
    }
   ],
   "source": [
    "!python voxelmorph_torch/test_resize.py --dataset 'Echo' --test-dir '../../Dataset/Echo/test/' --result-dir '../../Results/cvpr2024_covis/Echo/vxm_Echo_2frame_covis_alpha_0.02_wse_10_tv_adabeta_0.4_resize/' --model-motion '../../Models/cvpr2024_covis/Echo/vxm_Echo_2frame_covis_alpha_0.02_wse_10_tv_adabeta_0.4/motion_0150.pt' --model-covis '../../Models/cvpr2024_covis/Echo/vxm_Echo_2frame_covis_alpha_0.02_wse_10_tv_adabeta_0.4/covis_0150.pt' --inshape 64 64 64\n"
   ]
  },
  {
   "cell_type": "markdown",
   "metadata": {},
   "source": [
    "# Transmorph"
   ]
  },
  {
   "cell_type": "code",
   "execution_count": 5,
   "metadata": {},
   "outputs": [],
   "source": [
    "!python transmorph_torch/test_nocovis_resize.py --dataset 'Echo' --test-dir '../../Dataset/Echo/test/' --result-dir '../../Results/cvpr2024_covis/Echo/tsm_echo_adaframe_resize' --model '../../Models/cvpr2024_covis/Echo/tsm_echo_2frame_adaframe/motion_0010.pt' --inshape 64 64 64"
   ]
  },
  {
   "cell_type": "code",
   "execution_count": 6,
   "metadata": {},
   "outputs": [],
   "source": [
    "!python transmorph_torch/test_nocovis_resize.py --dataset 'Echo' --test-dir '../../Dataset/Echo/test/' --result-dir '../../Results/cvpr2024_covis/Echo/tsm_echo_adareg_resize' --model '../../Models/cvpr2024_covis/Echo/tsm_echo_2frame_adareg/motion_0150.pt' --inshape 64 64 64"
   ]
  },
  {
   "cell_type": "code",
   "execution_count": 3,
   "metadata": {},
   "outputs": [],
   "source": [
    "!python transmorph_torch/test_resize.py --dataset 'Echo' --test-dir '../../Dataset/Echo/test/' --result-dir '../../Results/cvpr2024_covis/Echo/tsm_echo_2frame_covis_alpha_0.01_lmbd_0.025_wse_20_tv_adabeta_2.5_resize/' --model-motion '../../Models/cvpr2024_covis/Echo/tsm_echo_2frame_covis_alpha_0.01_lmbd_0.025_wse_20_tv_adabeta_2.5/motion_0150.pt' --model-covis '../../Models/cvpr2024_covis/Echo/tsm_echo_2frame_covis_alpha_0.01_lmbd_0.025_wse_20_tv_adabeta_2.5/covis_0150.pt' --inshape 64 64 64\n"
   ]
  },
  {
   "cell_type": "markdown",
   "metadata": {},
   "source": [
    "# Diffusemorph"
   ]
  },
  {
   "cell_type": "code",
   "execution_count": 4,
   "metadata": {},
   "outputs": [
    {
     "name": "stdout",
     "output_type": "stream",
     "text": [
      "export CUDA_VISIBLE_DEVICES=0\n",
      "this is the info I need wmse\n",
      "-------- Deform with eta=0.000\n",
      "-------- Deform with eta=0.167\n",
      "-------- Deform with eta=0.333\n",
      "-------- Deform with eta=0.500\n",
      "-------- Deform with eta=0.667\n",
      "-------- Deform with eta=0.833\n",
      "-------- Deform with eta=1.000\n",
      "-------- Deform with eta=0.000\n",
      "-------- Deform with eta=0.167\n",
      "-------- Deform with eta=0.333\n",
      "-------- Deform with eta=0.500\n",
      "-------- Deform with eta=0.667\n",
      "-------- Deform with eta=0.833\n",
      "-------- Deform with eta=1.000\n",
      "-------- Deform with eta=0.000\n",
      "-------- Deform with eta=0.167\n",
      "-------- Deform with eta=0.333\n",
      "-------- Deform with eta=0.500\n",
      "-------- Deform with eta=0.667\n",
      "-------- Deform with eta=0.833\n",
      "-------- Deform with eta=1.000\n",
      "-------- Deform with eta=0.000\n",
      "-------- Deform with eta=0.167\n",
      "-------- Deform with eta=0.333\n",
      "-------- Deform with eta=0.500\n",
      "-------- Deform with eta=0.667\n",
      "-------- Deform with eta=0.833\n",
      "-------- Deform with eta=1.000\n",
      "-------- Deform with eta=0.000\n",
      "-------- Deform with eta=0.167\n",
      "-------- Deform with eta=0.333\n",
      "-------- Deform with eta=0.500\n",
      "-------- Deform with eta=0.667\n",
      "-------- Deform with eta=0.833\n",
      "-------- Deform with eta=1.000\n",
      "-------- Deform with eta=0.000\n",
      "-------- Deform with eta=0.167\n",
      "-------- Deform with eta=0.333\n",
      "-------- Deform with eta=0.500\n",
      "-------- Deform with eta=0.667\n",
      "-------- Deform with eta=0.833\n",
      "-------- Deform with eta=1.000\n",
      "-------- Deform with eta=0.000\n",
      "-------- Deform with eta=0.167\n",
      "-------- Deform with eta=0.333\n",
      "-------- Deform with eta=0.500\n",
      "-------- Deform with eta=0.667\n",
      "-------- Deform with eta=0.833\n",
      "-------- Deform with eta=1.000\n",
      "-------- Deform with eta=0.000\n",
      "-------- Deform with eta=0.167\n",
      "-------- Deform with eta=0.333\n",
      "-------- Deform with eta=0.500\n",
      "-------- Deform with eta=0.667\n",
      "-------- Deform with eta=0.833\n",
      "-------- Deform with eta=1.000\n",
      "-------- Deform with eta=0.000\n",
      "-------- Deform with eta=0.167\n",
      "-------- Deform with eta=0.333\n",
      "-------- Deform with eta=0.500\n",
      "-------- Deform with eta=0.667\n",
      "-------- Deform with eta=0.833\n",
      "-------- Deform with eta=1.000\n",
      "-------- Deform with eta=0.000\n",
      "-------- Deform with eta=0.167\n",
      "-------- Deform with eta=0.333\n",
      "-------- Deform with eta=0.500\n",
      "-------- Deform with eta=0.667\n",
      "-------- Deform with eta=0.833\n",
      "-------- Deform with eta=1.000\n",
      "-------- Deform with eta=0.000\n",
      "-------- Deform with eta=0.167\n",
      "-------- Deform with eta=0.333\n",
      "-------- Deform with eta=0.500\n",
      "-------- Deform with eta=0.667\n",
      "-------- Deform with eta=0.833\n",
      "-------- Deform with eta=1.000\n",
      "-------- Deform with eta=0.000\n",
      "-------- Deform with eta=0.167\n",
      "-------- Deform with eta=0.333\n",
      "-------- Deform with eta=0.500\n",
      "-------- Deform with eta=0.667\n",
      "-------- Deform with eta=0.833\n",
      "-------- Deform with eta=1.000\n",
      "-------- Deform with eta=0.000\n",
      "-------- Deform with eta=0.167\n",
      "-------- Deform with eta=0.333\n",
      "-------- Deform with eta=0.500\n",
      "-------- Deform with eta=0.667\n",
      "-------- Deform with eta=0.833\n",
      "-------- Deform with eta=1.000\n",
      "-------- Deform with eta=0.000\n",
      "-------- Deform with eta=0.167\n",
      "-------- Deform with eta=0.333\n",
      "-------- Deform with eta=0.500\n",
      "-------- Deform with eta=0.667\n",
      "-------- Deform with eta=0.833\n",
      "-------- Deform with eta=1.000\n",
      "-------- Deform with eta=0.000\n",
      "-------- Deform with eta=0.167\n",
      "-------- Deform with eta=0.333\n",
      "-------- Deform with eta=0.500\n",
      "-------- Deform with eta=0.667\n",
      "-------- Deform with eta=0.833\n",
      "-------- Deform with eta=1.000\n",
      "-------- Deform with eta=0.000\n",
      "-------- Deform with eta=0.167\n",
      "-------- Deform with eta=0.333\n",
      "-------- Deform with eta=0.500\n",
      "-------- Deform with eta=0.667\n",
      "-------- Deform with eta=0.833\n",
      "-------- Deform with eta=1.000\n",
      "-------- Deform with eta=0.000\n",
      "-------- Deform with eta=0.167\n",
      "-------- Deform with eta=0.333\n",
      "-------- Deform with eta=0.500\n",
      "-------- Deform with eta=0.667\n",
      "-------- Deform with eta=0.833\n",
      "-------- Deform with eta=1.000\n",
      "-------- Deform with eta=0.000\n",
      "-------- Deform with eta=0.167\n",
      "-------- Deform with eta=0.333\n",
      "-------- Deform with eta=0.500\n",
      "-------- Deform with eta=0.667\n",
      "-------- Deform with eta=0.833\n",
      "-------- Deform with eta=1.000\n",
      "-------- Deform with eta=0.000\n",
      "-------- Deform with eta=0.167\n",
      "-------- Deform with eta=0.333\n",
      "-------- Deform with eta=0.500\n",
      "-------- Deform with eta=0.667\n",
      "-------- Deform with eta=0.833\n",
      "-------- Deform with eta=1.000\n",
      "-------- Deform with eta=0.000\n",
      "-------- Deform with eta=0.167\n",
      "-------- Deform with eta=0.333\n",
      "-------- Deform with eta=0.500\n",
      "-------- Deform with eta=0.667\n",
      "-------- Deform with eta=0.833\n",
      "-------- Deform with eta=1.000\n"
     ]
    }
   ],
   "source": [
    "!python diffusemorph_torch/test_resize.py --dataset 'Echo' -p test -c diffusemorph_torch/config/diffuseMorph_test_3D.json --test-dir '../../Dataset/Echo/test/' --result-dir '../../Results/cvpr2024_covis/Echo/dfm_echo_2frame_covis_alpha_0.1_wse_10_tv_adabeta_0.5_resize' --model-motion '../../Models/cvpr2024_covis/Echo/dfm_echo_2frame_covis_alpha_0.1_wse_10_tv_adabeta_0.5/I14000_E150_gen_G.pth' --model-covis '../../Models/cvpr2024_covis/Echo/dfm_echo_2frame_covis_alpha_0.1_wse_10_tv_adabeta_0.5/covis_0150.pt' --inshape 64 64 64"
   ]
  },
  {
   "cell_type": "code",
   "execution_count": null,
   "metadata": {},
   "outputs": [],
   "source": []
  }
 ],
 "metadata": {
  "kernelspec": {
   "display_name": "optical_flow",
   "language": "python",
   "name": "python3"
  },
  "language_info": {
   "codemirror_mode": {
    "name": "ipython",
    "version": 3
   },
   "file_extension": ".py",
   "mimetype": "text/x-python",
   "name": "python",
   "nbconvert_exporter": "python",
   "pygments_lexer": "ipython3",
   "version": "3.6.13"
  }
 },
 "nbformat": 4,
 "nbformat_minor": 2
}
