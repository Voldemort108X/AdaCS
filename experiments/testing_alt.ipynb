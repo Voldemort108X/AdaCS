{
 "cells": [
  {
   "cell_type": "code",
   "execution_count": 1,
   "metadata": {},
   "outputs": [
    {
     "name": "stdout",
     "output_type": "stream",
     "text": [
      "/mnt/d/XiaoranZhang/Projects/Optical_flow/Code/cvpr2024_covis\n"
     ]
    }
   ],
   "source": [
    "# (Restart the kernel if you want to rerun the cell) move up current working directory\n",
    "import os\n",
    "os.chdir('../')\n",
    "print(os.getcwd())"
   ]
  },
  {
   "cell_type": "markdown",
   "metadata": {},
   "source": [
    "## Voxelmorph"
   ]
  },
  {
   "cell_type": "code",
   "execution_count": 5,
   "metadata": {},
   "outputs": [
    {
     "name": "stdout",
     "output_type": "stream",
     "text": [
      "/home/xiaoranzhang/anaconda3/envs/optical_flow/lib/python3.6/site-packages/torch/nn/functional.py:3658: UserWarning: The default behavior for interpolate/upsample with float scale_factor changed in 1.6.0 to align with other frameworks/libraries, and now uses scale_factor directly, instead of relying on the computed output size. If you wish to restore the old behavior, please set recompute_scale_factor=True. See the documentation of nn.Upsample for details. \n",
      "  \"The default behavior for interpolate/upsample with float scale_factor changed \"\n"
     ]
    }
   ],
   "source": [
    "!python voxelmorph_torch/test_alt.py --dataset 'ACDC' --test-dir '../../Dataset/ACDC/test/' --result-dir '../../Results/cvpr2024_covis/ACDC/vxm_ACDC_2frame_covis_alpha_0.02_wse_20_tv_adabeta_1.5_alt/' --model-motion '../../Models/cvpr2024_covis/ACDC/vxm_ACDC_2frame_covis_alpha_0.02_wse_20_tv_adabeta_1.5_alt/motion_0300.pt' --model-covis '../../Models/cvpr2024_covis/ACDC/vxm_ACDC_2frame_covis_alpha_0.02_wse_20_tv_adabeta_1.5_alt/covis_0300.pt' --inshape 128 128\n"
   ]
  },
  {
   "cell_type": "code",
   "execution_count": 6,
   "metadata": {},
   "outputs": [
    {
     "name": "stdout",
     "output_type": "stream",
     "text": [
      "/home/xiaoranzhang/anaconda3/envs/optical_flow/lib/python3.6/site-packages/torch/nn/functional.py:3658: UserWarning: The default behavior for interpolate/upsample with float scale_factor changed in 1.6.0 to align with other frameworks/libraries, and now uses scale_factor directly, instead of relying on the computed output size. If you wish to restore the old behavior, please set recompute_scale_factor=True. See the documentation of nn.Upsample for details. \n",
      "  \"The default behavior for interpolate/upsample with float scale_factor changed \"\n"
     ]
    }
   ],
   "source": [
    "!python voxelmorph_torch/test_alt.py --dataset 'CAMUS' --test-dir '../../Dataset/CAMUS/test/' --result-dir '../../Results/cvpr2024_covis/CAMUS/vxm_CAMUS_2frame_covis_alpha_0.04_wse_20_tv_adabeta_1.5_alt/' --model-motion '../../Models/cvpr2024_covis/CAMUS/vxm_CAMUS_2frame_covis_alpha_0.04_wse_20_tv_adabeta_1.5_alt/motion_0300.pt' --model-covis '../../Models/cvpr2024_covis/CAMUS/vxm_CAMUS_2frame_covis_alpha_0.04_wse_20_tv_adabeta_1.5_alt/covis_0300.pt' --inshape 128 128\n"
   ]
  },
  {
   "cell_type": "markdown",
   "metadata": {},
   "source": [
    "## Transmorph"
   ]
  },
  {
   "cell_type": "code",
   "execution_count": 7,
   "metadata": {},
   "outputs": [],
   "source": [
    "!python transmorph_torch/test_alt.py --dataset 'ACDC' --test-dir '../../Dataset/ACDC/test/' --result-dir '../../Results/cvpr2024_covis/ACDC/tsm_ACDC_2frame_covis_alpha_0.01_wse_20_tv_adabeta_1.5_alt/' --model-motion '../../Models/cvpr2024_covis/ACDC/tsm_ACDC_2frame_covis_alpha_0.01_wse_20_tv_adabeta_1.5_alt/motion_0300.pt' --model-covis '../../Models/cvpr2024_covis/ACDC/tsm_ACDC_2frame_covis_alpha_0.01_wse_20_tv_adabeta_1.5_alt/covis_0300.pt' --inshape 128 128\n"
   ]
  },
  {
   "cell_type": "code",
   "execution_count": 8,
   "metadata": {},
   "outputs": [],
   "source": [
    "!python transmorph_torch/test_alt.py --dataset 'CAMUS' --test-dir '../../Dataset/CAMUS/test/' --result-dir '../../Results/cvpr2024_covis/CAMUS/tsm_CAMUS_2frame_covis_alpha_0.03_lmbd_0.03_wse_20_tv_adabeta_5_alt/' --model-motion '../../Models/cvpr2024_covis/CAMUS/tsm_CAMUS_2frame_covis_alpha_0.03_lmbd_0.03_wse_20_tv_adabeta_5_alt/motion_0300.pt' --model-covis '../../Models/cvpr2024_covis/CAMUS/tsm_CAMUS_2frame_covis_alpha_0.03_lmbd_0.03_wse_20_tv_adabeta_5_alt/covis_0300.pt' --inshape 128 128\n"
   ]
  },
  {
   "cell_type": "markdown",
   "metadata": {},
   "source": [
    "## Diffusemorph"
   ]
  },
  {
   "cell_type": "code",
   "execution_count": 4,
   "metadata": {},
   "outputs": [
    {
     "name": "stdout",
     "output_type": "stream",
     "text": [
      "export CUDA_VISIBLE_DEVICES=0\n"
     ]
    }
   ],
   "source": [
    "!python diffusemorph_torch/test_alt.py --dataset 'ACDC' -p test -c diffusemorph_torch/config/diffuseMorph_test_2D.json --test-dir '../../Dataset/ACDC/test/' --result-dir '../../Results/cvpr2024_covis/ACDC/dfm_ACDC_2frame_covis_alpha_0.1_wse_20_tv_adabeta_0.1_alt' --model-motion '../../Models/cvpr2024_covis/ACDC/dfm_ACDC_2frame_covis_alpha_0.1_wse_20_tv_adabeta_0.1_alt/I28000_E300_gen_G.pth' --model-covis '../../Models/cvpr2024_covis/ACDC/dfm_ACDC_2frame_covis_alpha_0.1_wse_20_tv_adabeta_0.1_alt/covis_0300.pt' --inshape 128 128\n"
   ]
  },
  {
   "cell_type": "code",
   "execution_count": 5,
   "metadata": {},
   "outputs": [
    {
     "name": "stdout",
     "output_type": "stream",
     "text": [
      "export CUDA_VISIBLE_DEVICES=0\n"
     ]
    }
   ],
   "source": [
    "!python diffusemorph_torch/test_alt.py --dataset 'CAMUS' -p test -c diffusemorph_torch/config/diffuseMorph_test_2D.json --test-dir '../../Dataset/CAMUS/test/' --result-dir '../../Results/cvpr2024_covis/CAMUS/dfm_CAMUS_2frame_covis_alpha_0.5_wse_20_tv_adabeta_5_alt' --model-motion '../../Models/cvpr2024_covis/CAMUS/dfm_CAMUS_2frame_covis_alpha_0.5_wse_20_tv_adabeta_5_alt/I28000_E300_gen_G.pth' --model-covis '../../Models/cvpr2024_covis/CAMUS/dfm_CAMUS_2frame_covis_alpha_0.5_wse_20_tv_adabeta_5_alt/covis_0300.pt' --inshape 128 128"
   ]
  },
  {
   "cell_type": "code",
   "execution_count": null,
   "metadata": {},
   "outputs": [],
   "source": []
  }
 ],
 "metadata": {
  "kernelspec": {
   "display_name": "optical_flow",
   "language": "python",
   "name": "python3"
  },
  "language_info": {
   "codemirror_mode": {
    "name": "ipython",
    "version": 3
   },
   "file_extension": ".py",
   "mimetype": "text/x-python",
   "name": "python",
   "nbconvert_exporter": "python",
   "pygments_lexer": "ipython3",
   "version": "3.6.13"
  }
 },
 "nbformat": 4,
 "nbformat_minor": 2
}
