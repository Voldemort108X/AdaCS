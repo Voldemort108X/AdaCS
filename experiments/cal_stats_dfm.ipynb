{
 "cells": [
  {
   "cell_type": "code",
   "execution_count": 1,
   "metadata": {},
   "outputs": [
    {
     "name": "stdout",
     "output_type": "stream",
     "text": [
      "/mnt/d/XiaoranZhang/Projects/Optical_flow/Code/cvpr2024_covis\n"
     ]
    }
   ],
   "source": [
    "# (Restart the kernel if you want to rerun the cell) move up current working directory\n",
    "import os\n",
    "os.chdir('../')\n",
    "print(os.getcwd())"
   ]
  },
  {
   "cell_type": "markdown",
   "metadata": {},
   "source": [
    "# ACDC"
   ]
  },
  {
   "cell_type": "code",
   "execution_count": 2,
   "metadata": {},
   "outputs": [
    {
     "name": "stdout",
     "output_type": "stream",
     "text": [
      "dice 0.5440329250112445\n",
      "jaccard 0.3960000703270574\n",
      "hd 7.138429569251515\n",
      "asd 2.1292432734637625\n"
     ]
    }
   ],
   "source": [
    "from metrics import compute_metric\n",
    "import numpy as np\n",
    "\n",
    "test_dir = '../../Results/cvpr2024_covis/ACDC/dfm_ACDC_2frame_covis_alpha_0.01_wse_20/'\n",
    "\n",
    "dice_list, jc_list, hd_list, asd_list = compute_metric(test_dir)\n",
    "\n",
    "print('dice', np.mean(dice_list))\n",
    "print('jaccard', np.mean(jc_list))\n",
    "print('hd', np.mean(hd_list))\n",
    "print('asd', np.mean(asd_list))"
   ]
  },
  {
   "cell_type": "code",
   "execution_count": 3,
   "metadata": {},
   "outputs": [
    {
     "name": "stdout",
     "output_type": "stream",
     "text": [
      "dice 0.7162310204464126\n",
      "jaccard 0.5724580523500314\n",
      "hd 5.563373994591501\n",
      "asd 1.5763943345749771\n"
     ]
    }
   ],
   "source": [
    "from metrics import compute_metric\n",
    "import numpy as np\n",
    "\n",
    "test_dir = '../../Results/cvpr2024_covis/ACDC/dfm_ACDC_2frame_covis_alpha_0.1_wse_20/'\n",
    "\n",
    "dice_list, jc_list, hd_list, asd_list = compute_metric(test_dir)\n",
    "\n",
    "print('dice', np.mean(dice_list))\n",
    "print('jaccard', np.mean(jc_list))\n",
    "print('hd', np.mean(hd_list))\n",
    "print('asd', np.mean(asd_list))"
   ]
  },
  {
   "cell_type": "code",
   "execution_count": 4,
   "metadata": {},
   "outputs": [
    {
     "name": "stdout",
     "output_type": "stream",
     "text": [
      "dice 0.6859305029038224\n",
      "jaccard 0.5397238304225033\n",
      "hd 5.613978844454801\n",
      "asd 1.627210877090895\n"
     ]
    }
   ],
   "source": [
    "from metrics import compute_metric\n",
    "import numpy as np\n",
    "\n",
    "test_dir = '../../Results/cvpr2024_covis/ACDC/dfm_ACDC_2frame_covis_alpha_1_wse_20/'\n",
    "\n",
    "dice_list, jc_list, hd_list, asd_list = compute_metric(test_dir)\n",
    "\n",
    "print('dice', np.mean(dice_list))\n",
    "print('jaccard', np.mean(jc_list))\n",
    "print('hd', np.mean(hd_list))\n",
    "print('asd', np.mean(asd_list))"
   ]
  },
  {
   "cell_type": "code",
   "execution_count": 15,
   "metadata": {},
   "outputs": [
    {
     "name": "stdout",
     "output_type": "stream",
     "text": [
      "dice 0.7087464380755969\n",
      "jaccard 0.5632441380272369\n",
      "hd 5.607995001025855\n",
      "asd 1.5924932512519028\n"
     ]
    }
   ],
   "source": [
    "from metrics import compute_metric\n",
    "import numpy as np\n",
    "\n",
    "test_dir = '../../Results/cvpr2024_covis/ACDC/dfm_ACDC_2frame_covis_alpha_0.25_wse_20/'\n",
    "\n",
    "dice_list, jc_list, hd_list, asd_list = compute_metric(test_dir)\n",
    "\n",
    "print('dice', np.mean(dice_list))\n",
    "print('jaccard', np.mean(jc_list))\n",
    "print('hd', np.mean(hd_list))\n",
    "print('asd', np.mean(asd_list))"
   ]
  },
  {
   "cell_type": "code",
   "execution_count": 14,
   "metadata": {},
   "outputs": [
    {
     "name": "stdout",
     "output_type": "stream",
     "text": [
      "dice 0.7153578915052614\n",
      "jaccard 0.5731983974729754\n",
      "hd 5.349972180326966\n",
      "asd 1.5298020306064428\n"
     ]
    }
   ],
   "source": [
    "from metrics import compute_metric\n",
    "import numpy as np\n",
    "\n",
    "test_dir = '../../Results/cvpr2024_covis/ACDC/dfm_ACDC_2frame_covis_alpha_0.5_wse_20/'\n",
    "\n",
    "dice_list, jc_list, hd_list, asd_list = compute_metric(test_dir)\n",
    "\n",
    "print('dice', np.mean(dice_list))\n",
    "print('jaccard', np.mean(jc_list))\n",
    "print('hd', np.mean(hd_list))\n",
    "print('asd', np.mean(asd_list))"
   ]
  },
  {
   "cell_type": "code",
   "execution_count": 4,
   "metadata": {},
   "outputs": [
    {
     "name": "stdout",
     "output_type": "stream",
     "text": [
      "dice 0.720878940025409\n",
      "jaccard 0.5794951325137946\n",
      "hd 5.351783336483246\n",
      "asd 1.5347983715841838\n"
     ]
    }
   ],
   "source": [
    "from metrics import compute_metric\n",
    "import numpy as np\n",
    "\n",
    "test_dir = '../../Results/cvpr2024_covis/ACDC/dfm_ACDC_2frame_covis_alpha_0.1_wse_20_tv_adabeta_0.1/'\n",
    "\n",
    "dice_list, jc_list, hd_list, asd_list = compute_metric(test_dir)\n",
    "\n",
    "print('dice', np.mean(dice_list))\n",
    "print('jaccard', np.mean(jc_list))\n",
    "print('hd', np.mean(hd_list))\n",
    "print('asd', np.mean(asd_list))"
   ]
  },
  {
   "cell_type": "code",
   "execution_count": 5,
   "metadata": {},
   "outputs": [
    {
     "name": "stdout",
     "output_type": "stream",
     "text": [
      "dice 0.6961142841806597\n",
      "jaccard 0.5500625705888875\n",
      "hd 5.698603825918754\n",
      "asd 1.6169648205299065\n"
     ]
    }
   ],
   "source": [
    "from metrics import compute_metric\n",
    "import numpy as np\n",
    "\n",
    "test_dir = '../../Results/cvpr2024_covis/ACDC/dfm_ACDC_2frame_covis_alpha_0.1_wse_20_tv_adabeta_0.5/'\n",
    "\n",
    "dice_list, jc_list, hd_list, asd_list = compute_metric(test_dir)\n",
    "\n",
    "print('dice', np.mean(dice_list))\n",
    "print('jaccard', np.mean(jc_list))\n",
    "print('hd', np.mean(hd_list))\n",
    "print('asd', np.mean(asd_list))"
   ]
  },
  {
   "cell_type": "code",
   "execution_count": 7,
   "metadata": {},
   "outputs": [
    {
     "name": "stdout",
     "output_type": "stream",
     "text": [
      "dice 0.7294722900623953\n",
      "jaccard 0.5880957727587386\n",
      "hd 5.1799234325403605\n",
      "asd 1.4824378396352913\n"
     ]
    }
   ],
   "source": [
    "from metrics import compute_metric\n",
    "import numpy as np\n",
    "\n",
    "test_dir = '../../Results/cvpr2024_covis/ACDC/dfm_ACDC_2frame_covis_alpha_0.1_wse_20_tv_adabeta_0.1_nomut/'\n",
    "\n",
    "dice_list, jc_list, hd_list, asd_list = compute_metric(test_dir)\n",
    "\n",
    "print('dice', np.mean(dice_list))\n",
    "print('jaccard', np.mean(jc_list))\n",
    "print('hd', np.mean(hd_list))\n",
    "print('asd', np.mean(asd_list))"
   ]
  },
  {
   "cell_type": "code",
   "execution_count": 2,
   "metadata": {},
   "outputs": [
    {
     "name": "stdout",
     "output_type": "stream",
     "text": [
      "dice 0.6905279054077548\n",
      "jaccard 0.5436697482984063\n",
      "hd 5.708329413977256\n",
      "asd 1.6287161062585807\n"
     ]
    }
   ],
   "source": [
    "from metrics import compute_metric\n",
    "import numpy as np\n",
    "\n",
    "test_dir = '../../Results/cvpr2024_covis/ACDC/dfm_ACDC_2frame_covis_alpha_0.1_wse_20_tv_adabeta_0.1_alt/'\n",
    "\n",
    "dice_list, jc_list, hd_list, asd_list = compute_metric(test_dir)\n",
    "\n",
    "print('dice', np.mean(dice_list))\n",
    "print('jaccard', np.mean(jc_list))\n",
    "print('hd', np.mean(hd_list))\n",
    "print('asd', np.mean(asd_list))"
   ]
  },
  {
   "cell_type": "markdown",
   "metadata": {},
   "source": [
    "# CAMUS"
   ]
  },
  {
   "cell_type": "code",
   "execution_count": 7,
   "metadata": {},
   "outputs": [
    {
     "name": "stdout",
     "output_type": "stream",
     "text": [
      "dice 0.769219875296013\n",
      "jaccard 0.6314932107624326\n",
      "hd 9.747838532759783\n",
      "asd 2.0154732282032692\n"
     ]
    }
   ],
   "source": [
    "from metrics import compute_metric\n",
    "import numpy as np\n",
    "\n",
    "test_dir = '../../Results/cvpr2024_covis/CAMUS/dfm_CAMUS_2frame_covis_alpha_0.1_wse_20/'\n",
    "\n",
    "dice_list, jc_list, hd_list, asd_list = compute_metric(test_dir)\n",
    "\n",
    "print('dice', np.mean(dice_list))\n",
    "print('jaccard', np.mean(jc_list))\n",
    "print('hd', np.mean(hd_list))\n",
    "print('asd', np.mean(asd_list))"
   ]
  },
  {
   "cell_type": "code",
   "execution_count": 8,
   "metadata": {},
   "outputs": [
    {
     "name": "stdout",
     "output_type": "stream",
     "text": [
      "dice 0.7693050097380696\n",
      "jaccard 0.6317222017692865\n",
      "hd 9.755498745066372\n",
      "asd 2.0151594393209757\n"
     ]
    }
   ],
   "source": [
    "from metrics import compute_metric\n",
    "import numpy as np\n",
    "\n",
    "test_dir = '../../Results/cvpr2024_covis/CAMUS/dfm_CAMUS_2frame_covis_alpha_0.25_wse_20/'\n",
    "\n",
    "dice_list, jc_list, hd_list, asd_list = compute_metric(test_dir)\n",
    "\n",
    "print('dice', np.mean(dice_list))\n",
    "print('jaccard', np.mean(jc_list))\n",
    "print('hd', np.mean(hd_list))\n",
    "print('asd', np.mean(asd_list))"
   ]
  },
  {
   "cell_type": "code",
   "execution_count": 9,
   "metadata": {},
   "outputs": [
    {
     "name": "stdout",
     "output_type": "stream",
     "text": [
      "dice 0.7732289703798876\n",
      "jaccard 0.6365606257842265\n",
      "hd 9.711367520383092\n",
      "asd 2.0018856460882506\n"
     ]
    }
   ],
   "source": [
    "from metrics import compute_metric\n",
    "import numpy as np\n",
    "\n",
    "test_dir = '../../Results/cvpr2024_covis/CAMUS/dfm_CAMUS_2frame_covis_alpha_0.5_wse_20/'\n",
    "\n",
    "dice_list, jc_list, hd_list, asd_list = compute_metric(test_dir)\n",
    "\n",
    "print('dice', np.mean(dice_list))\n",
    "print('jaccard', np.mean(jc_list))\n",
    "print('hd', np.mean(hd_list))\n",
    "print('asd', np.mean(asd_list))"
   ]
  },
  {
   "cell_type": "code",
   "execution_count": 4,
   "metadata": {},
   "outputs": [
    {
     "name": "stdout",
     "output_type": "stream",
     "text": [
      "dice 0.7739347542156112\n",
      "jaccard 0.6373987752701964\n",
      "hd 9.848542926529097\n",
      "asd 2.0056557058695867\n"
     ]
    }
   ],
   "source": [
    "from metrics import compute_metric\n",
    "import numpy as np\n",
    "\n",
    "test_dir = '../../Results/cvpr2024_covis/CAMUS/dfm_CAMUS_2frame_covis_alpha_0.5_wse_20_tv_adabeta_0.1/'\n",
    "\n",
    "dice_list, jc_list, hd_list, asd_list = compute_metric(test_dir)\n",
    "\n",
    "print('dice', np.mean(dice_list))\n",
    "print('jaccard', np.mean(jc_list))\n",
    "print('hd', np.mean(hd_list))\n",
    "print('asd', np.mean(asd_list))"
   ]
  },
  {
   "cell_type": "code",
   "execution_count": 5,
   "metadata": {},
   "outputs": [
    {
     "name": "stdout",
     "output_type": "stream",
     "text": [
      "dice 0.7742599550817586\n",
      "jaccard 0.6384351909256306\n",
      "hd 9.507615862333216\n",
      "asd 1.9882343534374405\n"
     ]
    }
   ],
   "source": [
    "from metrics import compute_metric\n",
    "import numpy as np\n",
    "\n",
    "test_dir = '../../Results/cvpr2024_covis/CAMUS/dfm_CAMUS_2frame_covis_alpha_0.5_wse_20_tv_adabeta_2.5/'\n",
    "\n",
    "dice_list, jc_list, hd_list, asd_list = compute_metric(test_dir)\n",
    "\n",
    "print('dice', np.mean(dice_list))\n",
    "print('jaccard', np.mean(jc_list))\n",
    "print('hd', np.mean(hd_list))\n",
    "print('asd', np.mean(asd_list))"
   ]
  },
  {
   "cell_type": "code",
   "execution_count": 6,
   "metadata": {},
   "outputs": [
    {
     "name": "stdout",
     "output_type": "stream",
     "text": [
      "dice 0.7765023072636725\n",
      "jaccard 0.6406290663081566\n",
      "hd 9.823158147286723\n",
      "asd 1.9872582816846645\n"
     ]
    }
   ],
   "source": [
    "from metrics import compute_metric\n",
    "import numpy as np\n",
    "\n",
    "test_dir = '../../Results/cvpr2024_covis/CAMUS/dfm_CAMUS_2frame_covis_alpha_0.5_wse_20_tv_adabeta_5/'\n",
    "\n",
    "dice_list, jc_list, hd_list, asd_list = compute_metric(test_dir)\n",
    "\n",
    "print('dice', np.mean(dice_list))\n",
    "print('jaccard', np.mean(jc_list))\n",
    "print('hd', np.mean(hd_list))\n",
    "print('asd', np.mean(asd_list))"
   ]
  },
  {
   "cell_type": "code",
   "execution_count": 3,
   "metadata": {},
   "outputs": [
    {
     "name": "stdout",
     "output_type": "stream",
     "text": [
      "dice 0.772756178629216\n",
      "jaccard 0.6359221259718157\n",
      "hd 9.6141217152925\n",
      "asd 1.997393329207213\n"
     ]
    }
   ],
   "source": [
    "from metrics import compute_metric\n",
    "import numpy as np\n",
    "\n",
    "test_dir = '../../Results/cvpr2024_covis/CAMUS/dfm_CAMUS_2frame_covis_alpha_0.5_wse_20_tv_adabeta_5_nomut/'\n",
    "\n",
    "dice_list, jc_list, hd_list, asd_list = compute_metric(test_dir)\n",
    "\n",
    "print('dice', np.mean(dice_list))\n",
    "print('jaccard', np.mean(jc_list))\n",
    "print('hd', np.mean(hd_list))\n",
    "print('asd', np.mean(asd_list))"
   ]
  },
  {
   "cell_type": "code",
   "execution_count": 3,
   "metadata": {},
   "outputs": [
    {
     "name": "stdout",
     "output_type": "stream",
     "text": [
      "dice 0.7716139054803807\n",
      "jaccard 0.6346266969782297\n",
      "hd 9.532879797804663\n",
      "asd 2.0131041484850956\n"
     ]
    }
   ],
   "source": [
    "from metrics import compute_metric\n",
    "import numpy as np\n",
    "\n",
    "test_dir = '../../Results/cvpr2024_covis/CAMUS/dfm_CAMUS_2frame_covis_alpha_0.5_wse_20_tv_adabeta_5_alt/'\n",
    "\n",
    "dice_list, jc_list, hd_list, asd_list = compute_metric(test_dir)\n",
    "\n",
    "print('dice', np.mean(dice_list))\n",
    "print('jaccard', np.mean(jc_list))\n",
    "print('hd', np.mean(hd_list))\n",
    "print('asd', np.mean(asd_list))"
   ]
  },
  {
   "cell_type": "markdown",
   "metadata": {},
   "source": [
    "# Echo"
   ]
  },
  {
   "cell_type": "code",
   "execution_count": 11,
   "metadata": {},
   "outputs": [
    {
     "name": "stdout",
     "output_type": "stream",
     "text": [
      "dice 0.7400800190521717\n",
      "jaccard 0.5946387376231917\n",
      "hd 16.617965996708392\n",
      "asd 2.3754221300536402\n"
     ]
    }
   ],
   "source": [
    "from metrics import compute_metric\n",
    "import numpy as np\n",
    "\n",
    "test_dir = '../../Results/cvpr2024_covis/Echo/dfm_echo_2frame_covis_alpha_0.1_wse_10/'\n",
    "\n",
    "dice_list, jc_list, hd_list, asd_list = compute_metric(test_dir)\n",
    "\n",
    "print('dice', np.mean(dice_list))\n",
    "print('jaccard', np.mean(jc_list))\n",
    "print('hd', np.mean(hd_list))\n",
    "print('asd', np.mean(asd_list))"
   ]
  },
  {
   "cell_type": "code",
   "execution_count": 7,
   "metadata": {},
   "outputs": [
    {
     "name": "stdout",
     "output_type": "stream",
     "text": [
      "dice 0.7375647475893696\n",
      "jaccard 0.5938804123848778\n",
      "hd 16.128366278747\n",
      "asd 2.390668591258537\n"
     ]
    }
   ],
   "source": [
    "from metrics import compute_metric\n",
    "import numpy as np\n",
    "\n",
    "test_dir = '../../Results/cvpr2024_covis/Echo/dfm_echo_2frame_covis_alpha_0.1_wse_10_tv_adabeta_0.1/'\n",
    "\n",
    "dice_list, jc_list, hd_list, asd_list = compute_metric(test_dir)\n",
    "\n",
    "print('dice', np.mean(dice_list))\n",
    "print('jaccard', np.mean(jc_list))\n",
    "print('hd', np.mean(hd_list))\n",
    "print('asd', np.mean(asd_list))"
   ]
  },
  {
   "cell_type": "code",
   "execution_count": 8,
   "metadata": {},
   "outputs": [
    {
     "name": "stdout",
     "output_type": "stream",
     "text": [
      "dice 0.7377216403089888\n",
      "jaccard 0.5932087137737655\n",
      "hd 16.45379874208958\n",
      "asd 2.4102547120194076\n"
     ]
    }
   ],
   "source": [
    "from metrics import compute_metric\n",
    "import numpy as np\n",
    "\n",
    "test_dir = '../../Results/cvpr2024_covis/Echo/dfm_echo_2frame_covis_alpha_0.1_wse_10_tv_adabeta_0.25/'\n",
    "\n",
    "dice_list, jc_list, hd_list, asd_list = compute_metric(test_dir)\n",
    "\n",
    "print('dice', np.mean(dice_list))\n",
    "print('jaccard', np.mean(jc_list))\n",
    "print('hd', np.mean(hd_list))\n",
    "print('asd', np.mean(asd_list))"
   ]
  },
  {
   "cell_type": "code",
   "execution_count": 10,
   "metadata": {},
   "outputs": [
    {
     "name": "stdout",
     "output_type": "stream",
     "text": [
      "dice 0.7391206835000438\n",
      "jaccard 0.593740019908112\n",
      "hd 16.736775749447624\n",
      "asd 2.3894656502998854\n"
     ]
    }
   ],
   "source": [
    "from metrics import compute_metric\n",
    "import numpy as np\n",
    "\n",
    "test_dir = '../../Results/cvpr2024_covis/Echo/dfm_echo_2frame_covis_alpha_0.1_wse_10_tv_adabeta_0.5/'\n",
    "\n",
    "dice_list, jc_list, hd_list, asd_list = compute_metric(test_dir)\n",
    "\n",
    "print('dice', np.mean(dice_list))\n",
    "print('jaccard', np.mean(jc_list))\n",
    "print('hd', np.mean(hd_list))\n",
    "print('asd', np.mean(asd_list))"
   ]
  },
  {
   "cell_type": "code",
   "execution_count": 9,
   "metadata": {},
   "outputs": [
    {
     "name": "stdout",
     "output_type": "stream",
     "text": [
      "dice 0.7379576268891497\n",
      "jaccard 0.5940588039061615\n",
      "hd 15.82420905116852\n",
      "asd 2.377803393004476\n"
     ]
    }
   ],
   "source": [
    "from metrics import compute_metric\n",
    "import numpy as np\n",
    "\n",
    "test_dir = '../../Results/cvpr2024_covis/Echo/dfm_echo_2frame_covis_alpha_0.1_wse_10_tv_adabeta_1/'\n",
    "\n",
    "dice_list, jc_list, hd_list, asd_list = compute_metric(test_dir)\n",
    "\n",
    "print('dice', np.mean(dice_list))\n",
    "print('jaccard', np.mean(jc_list))\n",
    "print('hd', np.mean(hd_list))\n",
    "print('asd', np.mean(asd_list))"
   ]
  },
  {
   "cell_type": "code",
   "execution_count": 11,
   "metadata": {},
   "outputs": [
    {
     "name": "stdout",
     "output_type": "stream",
     "text": [
      "dice 0.7344828225263\n",
      "jaccard 0.5902941715234944\n",
      "hd 16.42953310992364\n",
      "asd 2.3421124227249264\n"
     ]
    }
   ],
   "source": [
    "from metrics import compute_metric\n",
    "import numpy as np\n",
    "\n",
    "test_dir = '../../Results/cvpr2024_covis/Echo/dfm_echo_2frame_covis_alpha_0.1_wse_10_tv_adabeta_1.5/'\n",
    "\n",
    "dice_list, jc_list, hd_list, asd_list = compute_metric(test_dir)\n",
    "\n",
    "print('dice', np.mean(dice_list))\n",
    "print('jaccard', np.mean(jc_list))\n",
    "print('hd', np.mean(hd_list))\n",
    "print('asd', np.mean(asd_list))"
   ]
  },
  {
   "cell_type": "code",
   "execution_count": 12,
   "metadata": {},
   "outputs": [
    {
     "name": "stdout",
     "output_type": "stream",
     "text": [
      "dice 0.7316245340711818\n",
      "jaccard 0.5852141245773703\n",
      "hd 16.113836475041033\n",
      "asd 2.3820380511522647\n"
     ]
    }
   ],
   "source": [
    "from metrics import compute_metric\n",
    "import numpy as np\n",
    "\n",
    "test_dir = '../../Results/cvpr2024_covis/Echo/dfm_echo_2frame_covis_alpha_0.1_wse_10_tv_adabeta_2.5/'\n",
    "\n",
    "dice_list, jc_list, hd_list, asd_list = compute_metric(test_dir)\n",
    "\n",
    "print('dice', np.mean(dice_list))\n",
    "print('jaccard', np.mean(jc_list))\n",
    "print('hd', np.mean(hd_list))\n",
    "print('asd', np.mean(asd_list))"
   ]
  },
  {
   "cell_type": "code",
   "execution_count": 13,
   "metadata": {},
   "outputs": [
    {
     "name": "stdout",
     "output_type": "stream",
     "text": [
      "dice 0.7366720432440961\n",
      "jaccard 0.5906253542738851\n",
      "hd 16.136751684417785\n",
      "asd 2.425296372426342\n"
     ]
    }
   ],
   "source": [
    "from metrics import compute_metric\n",
    "import numpy as np\n",
    "\n",
    "test_dir = '../../Results/cvpr2024_covis/Echo/dfm_echo_2frame_covis_alpha_0.1_wse_10_tv_adabeta_5/'\n",
    "\n",
    "dice_list, jc_list, hd_list, asd_list = compute_metric(test_dir)\n",
    "\n",
    "print('dice', np.mean(dice_list))\n",
    "print('jaccard', np.mean(jc_list))\n",
    "print('hd', np.mean(hd_list))\n",
    "print('asd', np.mean(asd_list))"
   ]
  },
  {
   "cell_type": "markdown",
   "metadata": {},
   "source": []
  }
 ],
 "metadata": {
  "kernelspec": {
   "display_name": "optical_flow",
   "language": "python",
   "name": "python3"
  },
  "language_info": {
   "codemirror_mode": {
    "name": "ipython",
    "version": 3
   },
   "file_extension": ".py",
   "mimetype": "text/x-python",
   "name": "python",
   "nbconvert_exporter": "python",
   "pygments_lexer": "ipython3",
   "version": "3.6.13"
  }
 },
 "nbformat": 4,
 "nbformat_minor": 2
}
