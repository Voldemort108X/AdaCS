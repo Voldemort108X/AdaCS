{
 "cells": [
  {
   "cell_type": "code",
   "execution_count": 1,
   "metadata": {},
   "outputs": [
    {
     "name": "stdout",
     "output_type": "stream",
     "text": [
      "/mnt/d/XiaoranZhang/Projects/Optical_flow/Code/cvpr2024_covis\n"
     ]
    }
   ],
   "source": [
    "# (Restart the kernel if you want to rerun the cell) move up current working directory\n",
    "import os\n",
    "os.chdir('../')\n",
    "print(os.getcwd())"
   ]
  },
  {
   "cell_type": "markdown",
   "metadata": {},
   "source": [
    "# ACDC"
   ]
  },
  {
   "cell_type": "code",
   "execution_count": 2,
   "metadata": {},
   "outputs": [
    {
     "name": "stdout",
     "output_type": "stream",
     "text": [
      "dice 0.66382857785317\n",
      "jaccard 0.516347693856124\n",
      "hd 5.795014778706937\n",
      "asd 1.665857818680049\n"
     ]
    }
   ],
   "source": [
    "from metrics import compute_metric\n",
    "import numpy as np\n",
    "\n",
    "test_dir = '../../Results/cvpr2024_covis/ACDC/vxm_ACDC_adaframe/'\n",
    "\n",
    "dice_list, jc_list, hd_list, asd_list = compute_metric(test_dir)\n",
    "\n",
    "print('dice', np.mean(dice_list))\n",
    "print('jaccard', np.mean(jc_list))\n",
    "print('hd', np.mean(hd_list))\n",
    "print('asd', np.mean(asd_list))"
   ]
  },
  {
   "cell_type": "code",
   "execution_count": 2,
   "metadata": {},
   "outputs": [
    {
     "name": "stdout",
     "output_type": "stream",
     "text": [
      "dice 0.7875378299215675\n",
      "jaccard 0.6581478689669119\n",
      "hd 5.12634459744101\n",
      "asd 1.3294760363503293\n"
     ]
    }
   ],
   "source": [
    "from metrics import compute_metric\n",
    "import numpy as np\n",
    "\n",
    "test_dir = '../../Results/cvpr2024_covis/ACDC/vxm_ACDC_adareg/'\n",
    "\n",
    "dice_list, jc_list, hd_list, asd_list = compute_metric(test_dir)\n",
    "\n",
    "print('dice', np.mean(dice_list))\n",
    "print('jaccard', np.mean(jc_list))\n",
    "print('hd', np.mean(hd_list))\n",
    "print('asd', np.mean(asd_list))"
   ]
  },
  {
   "cell_type": "code",
   "execution_count": 5,
   "metadata": {},
   "outputs": [
    {
     "name": "stdout",
     "output_type": "stream",
     "text": [
      "dice 0.6794885683551888\n",
      "jaccard 0.5346716218187028\n",
      "hd 5.724404832795378\n",
      "asd 1.586099923352658\n"
     ]
    }
   ],
   "source": [
    "from metrics import compute_metric\n",
    "import numpy as np\n",
    "\n",
    "test_dir = '../../Results/cvpr2024_covis/ACDC/tsm_ACDC_adaframe/'\n",
    "\n",
    "dice_list, jc_list, hd_list, asd_list = compute_metric(test_dir)\n",
    "\n",
    "print('dice', np.mean(dice_list))\n",
    "print('jaccard', np.mean(jc_list))\n",
    "print('hd', np.mean(hd_list))\n",
    "print('asd', np.mean(asd_list))"
   ]
  },
  {
   "cell_type": "code",
   "execution_count": 6,
   "metadata": {},
   "outputs": [
    {
     "name": "stdout",
     "output_type": "stream",
     "text": [
      "dice 0.7622333856869277\n",
      "jaccard 0.6247732403276602\n",
      "hd 5.6806192982990495\n",
      "asd 1.2917285878592508\n"
     ]
    }
   ],
   "source": [
    "from metrics import compute_metric\n",
    "import numpy as np\n",
    "\n",
    "test_dir = '../../Results/cvpr2024_covis/ACDC/tsm_ACDC_adareg/'\n",
    "\n",
    "dice_list, jc_list, hd_list, asd_list = compute_metric(test_dir)\n",
    "\n",
    "print('dice', np.mean(dice_list))\n",
    "print('jaccard', np.mean(jc_list))\n",
    "print('hd', np.mean(hd_list))\n",
    "print('asd', np.mean(asd_list))"
   ]
  },
  {
   "cell_type": "code",
   "execution_count": 15,
   "metadata": {},
   "outputs": [
    {
     "name": "stdout",
     "output_type": "stream",
     "text": [
      "dice 0.5978400233084078\n",
      "jaccard 0.4482711040502863\n",
      "hd 6.456847808029356\n",
      "asd 1.9256712803762002\n"
     ]
    }
   ],
   "source": [
    "from metrics import compute_metric\n",
    "import numpy as np\n",
    "\n",
    "test_dir = '../../Results/cvpr2024_covis/ACDC/dfm_ACDC_2frame_adaframe/'\n",
    "\n",
    "dice_list, jc_list, hd_list, asd_list = compute_metric(test_dir)\n",
    "\n",
    "print('dice', np.mean(dice_list))\n",
    "print('jaccard', np.mean(jc_list))\n",
    "print('hd', np.mean(hd_list))\n",
    "print('asd', np.mean(asd_list))"
   ]
  },
  {
   "cell_type": "code",
   "execution_count": 11,
   "metadata": {},
   "outputs": [
    {
     "name": "stdout",
     "output_type": "stream",
     "text": [
      "dice 0.6941010725288351\n",
      "jaccard 0.5455549859809128\n",
      "hd 6.251781357146944\n",
      "asd 1.780021697941004\n"
     ]
    }
   ],
   "source": [
    "from metrics import compute_metric\n",
    "import numpy as np\n",
    "\n",
    "test_dir = '../../Results/cvpr2024_covis/ACDC/dfm_ACDC_2frame_adareg/'\n",
    "\n",
    "dice_list, jc_list, hd_list, asd_list = compute_metric(test_dir)\n",
    "\n",
    "print('dice', np.mean(dice_list))\n",
    "print('jaccard', np.mean(jc_list))\n",
    "print('hd', np.mean(hd_list))\n",
    "print('asd', np.mean(asd_list))"
   ]
  },
  {
   "cell_type": "markdown",
   "metadata": {},
   "source": [
    "# CAMUS"
   ]
  },
  {
   "cell_type": "code",
   "execution_count": 9,
   "metadata": {},
   "outputs": [
    {
     "name": "stdout",
     "output_type": "stream",
     "text": [
      "dice 0.7788135082404928\n",
      "jaccard 0.6421561203753399\n",
      "hd 10.543324852632544\n",
      "asd 1.9294518406026555\n"
     ]
    }
   ],
   "source": [
    "from metrics import compute_metric\n",
    "import numpy as np\n",
    "\n",
    "test_dir = '../../Results/cvpr2024_covis/CAMUS/vxm_CAMUS_adaframe/'\n",
    "\n",
    "dice_list, jc_list, hd_list, asd_list = compute_metric(test_dir)\n",
    "\n",
    "print('dice', np.mean(dice_list))\n",
    "print('jaccard', np.mean(jc_list))\n",
    "print('hd', np.mean(hd_list))\n",
    "print('asd', np.mean(asd_list))"
   ]
  },
  {
   "cell_type": "code",
   "execution_count": 3,
   "metadata": {},
   "outputs": [
    {
     "name": "stdout",
     "output_type": "stream",
     "text": [
      "dice 0.7931748931798139\n",
      "jaccard 0.6609324207644494\n",
      "hd 9.781430300460991\n",
      "asd 1.8779124529486395\n"
     ]
    }
   ],
   "source": [
    "from metrics import compute_metric\n",
    "import numpy as np\n",
    "\n",
    "test_dir = '../../Results/cvpr2024_covis/CAMUS/vxm_CAMUS_adareg/'\n",
    "\n",
    "dice_list, jc_list, hd_list, asd_list = compute_metric(test_dir)\n",
    "\n",
    "print('dice', np.mean(dice_list))\n",
    "print('jaccard', np.mean(jc_list))\n",
    "print('hd', np.mean(hd_list))\n",
    "print('asd', np.mean(asd_list))"
   ]
  },
  {
   "cell_type": "code",
   "execution_count": 11,
   "metadata": {},
   "outputs": [
    {
     "name": "stdout",
     "output_type": "stream",
     "text": [
      "dice 0.7806018286911754\n",
      "jaccard 0.6460607993067371\n",
      "hd 9.855938389682077\n",
      "asd 1.9134636564843777\n"
     ]
    }
   ],
   "source": [
    "from metrics import compute_metric\n",
    "import numpy as np\n",
    "\n",
    "test_dir = '../../Results/cvpr2024_covis/CAMUS/tsm_CAMUS_adaframe/'\n",
    "\n",
    "dice_list, jc_list, hd_list, asd_list = compute_metric(test_dir)\n",
    "\n",
    "print('dice', np.mean(dice_list))\n",
    "print('jaccard', np.mean(jc_list))\n",
    "print('hd', np.mean(hd_list))\n",
    "print('asd', np.mean(asd_list))"
   ]
  },
  {
   "cell_type": "code",
   "execution_count": 12,
   "metadata": {},
   "outputs": [
    {
     "name": "stdout",
     "output_type": "stream",
     "text": [
      "dice 0.7812228577212591\n",
      "jaccard 0.6449909512887007\n",
      "hd 10.619954706575202\n",
      "asd 1.8447912023873085\n"
     ]
    }
   ],
   "source": [
    "from metrics import compute_metric\n",
    "import numpy as np\n",
    "\n",
    "test_dir = '../../Results/cvpr2024_covis/CAMUS/tsm_CAMUS_adareg/'\n",
    "\n",
    "dice_list, jc_list, hd_list, asd_list = compute_metric(test_dir)\n",
    "\n",
    "print('dice', np.mean(dice_list))\n",
    "print('jaccard', np.mean(jc_list))\n",
    "print('hd', np.mean(hd_list))\n",
    "print('asd', np.mean(asd_list))"
   ]
  },
  {
   "cell_type": "code",
   "execution_count": 16,
   "metadata": {},
   "outputs": [
    {
     "name": "stdout",
     "output_type": "stream",
     "text": [
      "dice 0.7503686956148434\n",
      "jaccard 0.6075097735637184\n",
      "hd 10.410651673995408\n",
      "asd 2.1034511212081504\n"
     ]
    }
   ],
   "source": [
    "from metrics import compute_metric\n",
    "import numpy as np\n",
    "\n",
    "test_dir = '../../Results/cvpr2024_covis/CAMUS/dfm_CAMUS_2frame_adaframe/'\n",
    "\n",
    "dice_list, jc_list, hd_list, asd_list = compute_metric(test_dir)\n",
    "\n",
    "print('dice', np.mean(dice_list))\n",
    "print('jaccard', np.mean(jc_list))\n",
    "print('hd', np.mean(hd_list))\n",
    "print('asd', np.mean(asd_list))"
   ]
  },
  {
   "cell_type": "code",
   "execution_count": 8,
   "metadata": {},
   "outputs": [
    {
     "name": "stdout",
     "output_type": "stream",
     "text": [
      "dice 0.7436005998544606\n",
      "jaccard 0.5983184739820903\n",
      "hd 10.66422630538454\n",
      "asd 2.2080490042924623\n"
     ]
    }
   ],
   "source": [
    "from metrics import compute_metric\n",
    "import numpy as np\n",
    "\n",
    "test_dir = '../../Results/cvpr2024_covis/CAMUS/dfm_CAMUS_2frame_adareg/'\n",
    "\n",
    "dice_list, jc_list, hd_list, asd_list = compute_metric(test_dir)\n",
    "\n",
    "print('dice', np.mean(dice_list))\n",
    "print('jaccard', np.mean(jc_list))\n",
    "print('hd', np.mean(hd_list))\n",
    "print('asd', np.mean(asd_list))"
   ]
  },
  {
   "cell_type": "markdown",
   "metadata": {},
   "source": [
    "# Echo"
   ]
  },
  {
   "cell_type": "code",
   "execution_count": 4,
   "metadata": {},
   "outputs": [
    {
     "name": "stdout",
     "output_type": "stream",
     "text": [
      "dice 0.7665647735823926\n",
      "jaccard 0.6336062445275132\n",
      "hd 16.252315159338018\n",
      "asd 2.1065918704969264\n"
     ]
    }
   ],
   "source": [
    "from metrics import compute_metric\n",
    "import numpy as np\n",
    "\n",
    "test_dir = '../../Results/cvpr2024_covis/Echo/vxm_echo_adaframe/'\n",
    "\n",
    "dice_list, jc_list, hd_list, asd_list = compute_metric(test_dir)\n",
    "\n",
    "print('dice', np.mean(dice_list))\n",
    "print('jaccard', np.mean(jc_list))\n",
    "print('hd', np.mean(hd_list))\n",
    "print('asd', np.mean(asd_list))"
   ]
  },
  {
   "cell_type": "code",
   "execution_count": 7,
   "metadata": {},
   "outputs": [
    {
     "name": "stdout",
     "output_type": "stream",
     "text": [
      "dice 0.7627920856700916\n",
      "jaccard 0.624635295182848\n",
      "hd 17.41203016398983\n",
      "asd 2.1731389554503306\n"
     ]
    }
   ],
   "source": [
    "from metrics import compute_metric\n",
    "import numpy as np\n",
    "\n",
    "test_dir = '../../Results/cvpr2024_covis/Echo/vxm_echo_adareg/'\n",
    "\n",
    "dice_list, jc_list, hd_list, asd_list = compute_metric(test_dir)\n",
    "\n",
    "print('dice', np.mean(dice_list))\n",
    "print('jaccard', np.mean(jc_list))\n",
    "print('hd', np.mean(hd_list))\n",
    "print('asd', np.mean(asd_list))"
   ]
  },
  {
   "cell_type": "code",
   "execution_count": 22,
   "metadata": {},
   "outputs": [
    {
     "name": "stdout",
     "output_type": "stream",
     "text": [
      "dice 0.7557412629158874\n",
      "jaccard 0.6173012775845875\n",
      "hd 17.29588740585859\n",
      "asd 2.18138229638497\n"
     ]
    }
   ],
   "source": [
    "from metrics import compute_metric\n",
    "import numpy as np\n",
    "\n",
    "test_dir = '../../Results/cvpr2024_covis/Echo/tsm_echo_adaframe/'\n",
    "\n",
    "dice_list, jc_list, hd_list, asd_list = compute_metric(test_dir)\n",
    "\n",
    "print('dice', np.mean(dice_list))\n",
    "print('jaccard', np.mean(jc_list))\n",
    "print('hd', np.mean(hd_list))\n",
    "print('asd', np.mean(asd_list))"
   ]
  },
  {
   "cell_type": "code",
   "execution_count": 9,
   "metadata": {},
   "outputs": [
    {
     "name": "stdout",
     "output_type": "stream",
     "text": [
      "dice 0.7439031437511164\n",
      "jaccard 0.6010900079633369\n",
      "hd 18.13773934569108\n",
      "asd 2.1349388025068268\n"
     ]
    }
   ],
   "source": [
    "from metrics import compute_metric\n",
    "import numpy as np\n",
    "\n",
    "test_dir = '../../Results/cvpr2024_covis/Echo/tsm_echo_adareg/'\n",
    "\n",
    "dice_list, jc_list, hd_list, asd_list = compute_metric(test_dir)\n",
    "\n",
    "print('dice', np.mean(dice_list))\n",
    "print('jaccard', np.mean(jc_list))\n",
    "print('hd', np.mean(hd_list))\n",
    "print('asd', np.mean(asd_list))"
   ]
  },
  {
   "cell_type": "code",
   "execution_count": 18,
   "metadata": {},
   "outputs": [
    {
     "name": "stdout",
     "output_type": "stream",
     "text": [
      "dice 0.7146713337659357\n",
      "jaccard 0.5679706101353872\n",
      "hd 16.56983178288609\n",
      "asd 2.3926953008994754\n"
     ]
    }
   ],
   "source": [
    "from metrics import compute_metric\n",
    "import numpy as np\n",
    "\n",
    "test_dir = '../../Results/cvpr2024_covis/Echo/dfm_echo_2frame_adaframe/'\n",
    "\n",
    "dice_list, jc_list, hd_list, asd_list = compute_metric(test_dir)\n",
    "\n",
    "print('dice', np.mean(dice_list))\n",
    "print('jaccard', np.mean(jc_list))\n",
    "print('hd', np.mean(hd_list))\n",
    "print('asd', np.mean(asd_list))"
   ]
  },
  {
   "cell_type": "code",
   "execution_count": 10,
   "metadata": {},
   "outputs": [
    {
     "name": "stdout",
     "output_type": "stream",
     "text": [
      "dice 0.732254629764005\n",
      "jaccard 0.5851399758781451\n",
      "hd 17.75040386807371\n",
      "asd 2.383955298148856\n"
     ]
    }
   ],
   "source": [
    "from metrics import compute_metric\n",
    "import numpy as np\n",
    "\n",
    "test_dir = '../../Results/cvpr2024_covis/Echo/dfm_echo_2frame_adareg/'\n",
    "\n",
    "dice_list, jc_list, hd_list, asd_list = compute_metric(test_dir)\n",
    "\n",
    "print('dice', np.mean(dice_list))\n",
    "print('jaccard', np.mean(jc_list))\n",
    "print('hd', np.mean(hd_list))\n",
    "print('asd', np.mean(asd_list))"
   ]
  },
  {
   "cell_type": "code",
   "execution_count": null,
   "metadata": {},
   "outputs": [],
   "source": []
  }
 ],
 "metadata": {
  "kernelspec": {
   "display_name": "optical_flow",
   "language": "python",
   "name": "python3"
  },
  "language_info": {
   "codemirror_mode": {
    "name": "ipython",
    "version": 3
   },
   "file_extension": ".py",
   "mimetype": "text/x-python",
   "name": "python",
   "nbconvert_exporter": "python",
   "pygments_lexer": "ipython3",
   "version": "3.6.13"
  }
 },
 "nbformat": 4,
 "nbformat_minor": 2
}
